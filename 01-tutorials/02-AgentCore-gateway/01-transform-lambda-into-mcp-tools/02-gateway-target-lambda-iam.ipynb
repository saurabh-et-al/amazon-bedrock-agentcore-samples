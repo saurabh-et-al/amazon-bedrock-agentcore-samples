{
 "cells": [
  {
   "attachments": {},
   "cell_type": "markdown",
   "id": "4ba51a29-a566-4b5a-97f0-10e634567e40",
   "metadata": {
    "collapsed": true,
    "jupyter": {
     "outputs_hidden": true
    }
   },
   "source": [
    "# MCPify your AWS Lambda with Gateway IAM role Inbound\n",
    "## Transform AWS Lambda functions into secure MCP tools with Bedrock AgentCore Gateway\n",
    "\n",
    "## Overview\n",
    "Bedrock AgentCore Gateway provides customers a way to turn their existing AWS Lambda functions into fully-managed MCP servers without needing to manage infra or hosting. Gateway will provide a uniform Model Context Protocol (MCP) interface across all these tools. Gateway employs a dual authentication model to ensure secure access control for both incoming requests and outbound connections to target resources. The framework consists of two key components: Inbound Auth, which validates and authorizes users attempting to access gateway targets, and Outbound Auth, which enables the gateway to securely connect to backend resources on behalf of authenticated users. Gateways uses IAM role to authorize the calls to AWS Lambda functions for outbound authorization.\n",
    "\n",
    "In this example, we will demonstrate both inbound and outbound authorization using IAM roles.\n",
    "\n",
    "![How does it work](images/lambda-gw-iam-inbound.png)\n",
    "\n",
    "### Tutorial Details\n",
    "\n",
    "\n",
    "| Information          | Details                                                   |\n",
    "|:---------------------|:----------------------------------------------------------|\n",
    "| Tutorial type        | Interactive                                               |\n",
    "| AgentCore components | AgentCore Gateway                                         |\n",
    "| Agentic Framework    | Strands Agents                                            |\n",
    "| Gateway Target type  | AWS Lambda                                                |\n",
    "| Inbound Auth         | AAWS IAM                                                  |\n",
    "| Outbound Auth        | AWS IAM                                                   |\n",
    "| LLM model            | Anthropic Claude Sonnet 3.7, Amazon Nova Pro              |\n",
    "| Tutorial components  | Creating AgentCore Gateway and Invoking AgentCore Gateway |\n",
    "| Tutorial vertical    | Cross-vertical                                            |\n",
    "| Example complexity   | Easy                                                      |\n",
    "| SDK used             | boto3                                                     |\n",
    "\n",
    "In the first part of the tutorial we will create AmazonCore Gateway targets for Lambda\n",
    "\n",
    "### Tutorial Architecture\n",
    "In this tutorial we will transform operations defined in AWS lambda function into MCP tools and host it in Bedrock AgentCore Gateway. We will demonstrate the ingress auth using AWS IAM credentials in AWS Sigv4 header.\n",
    "For demonstration purposes, we will use a Strands Agent using Amazon Bedrock models.\n",
    "In our example we will use a very simple agent with two tools: get_order and update_order."
   ]
  },
  {
   "cell_type": "markdown",
   "id": "5362e1ad-f027-4452-a8d9-0b861c0115c2",
   "metadata": {},
   "source": [
    "## Prerequisites\n",
    "\n",
    "To execute this tutorial you will need:\n",
    "* Jupyter notebook (Python kernel)\n",
    "* uv\n",
    "* AWS credentials\n",
    "* Access of Nova Pro via AWS console\n",
    "* Amazon Bedrock AgentCore SDK\n",
    "* Strand Agents"
   ]
  },
  {
   "attachments": {},
   "cell_type": "markdown",
   "id": "e93da982-0d11-427c-9958-fff3c80b32f1",
   "metadata": {},
   "source": [
    "## Configuring Authentication for Incoming AgentCore Gateway Requests\n",
    "AgentCore Gateway provides secure connections via inbound and outbound authentication. For the inbound authentication, the AgentCore Gateway now supports AWS IAM credentials/identities in addtion to OAuth to call the gateway. If a tool needs access to external resources, the AgentCore Gateway can use outbound authentication via API Key, IAM or OAuth Token to allow or deny the access to the external resource.\n",
    "\n",
    "During the inbound authorization flow, an agent or the MCP client uses AWS Signature V4 signed requests that will be used for authentication and authorize against IAM permissions to access the AgentCore Gateway. AgentCore Gateway then validates AWS IAM credentials/identities and performs inbound authorization.\n",
    "\n",
    "If the tool running in AgentCore Gateway needs to access external resources, IAM role will retrieve credentials of downstream resources for the Gateway target. AgentCore Gateway pass the authorization credentials to the caller to get access to the downstream API."
   ]
  },
  {
   "cell_type": "code",
   "execution_count": null,
   "id": "e326677b-11b5-4488-b01b-573ad275a764",
   "metadata": {},
   "outputs": [],
   "source": [
    "!pip install --force-reinstall -U -r requirements.txt --quiet"
   ]
  },
  {
   "cell_type": "code",
   "execution_count": null,
   "id": "a4e6248d-b740-418b-ae0d-c0a9623e43e1",
   "metadata": {},
   "outputs": [],
   "source": [
    "# Set AWS credentials if not using Amazon SageMaker notebook\n",
    "import os\n",
    "\n",
    "#os.environ['AWS_ACCESS_KEY_ID']=''\n",
    "#os.environ['AWS_SECRET_ACCESS_KEY']=''\n",
    "os.environ['AWS_DEFAULT_REGION']='us-west-2' # set the AWS region\n",
    "\n",
    "\n"
   ]
  },
  {
   "cell_type": "code",
   "execution_count": null,
   "id": "cd5f3851-d0ca-484f-bb41-68f66ddbea44",
   "metadata": {},
   "outputs": [],
   "source": [
    "import os\n",
    "import sys\n",
    "\n",
    "# Get the directory of the current script\n",
    "if '__file__' in globals():\n",
    "    current_dir = os.path.dirname(os.path.abspath(__file__))\n",
    "else:\n",
    "    current_dir = os.getcwd()  # Fallback if __file__ is not defined (e.g., Jupyter)\n",
    "\n",
    "# Navigate to the directory containing utils.py (one level up)\n",
    "utils_dir = os.path.abspath(os.path.join(current_dir, '..'))\n",
    "\n",
    "# Add to sys.path\n",
    "sys.path.insert(0, utils_dir)\n",
    "\n"
   ]
  },
  {
   "cell_type": "code",
   "execution_count": null,
   "id": "ddf8bfe9-8435-44cc-9e8a-ed8ece48f6a6",
   "metadata": {},
   "outputs": [],
   "source": [
    "# Now you can import utils\n",
    "import utils\n",
    "#### Create a sample AWS Lambda function that you want to convert into MCP tools\n",
    "lambda_resp = utils.create_gateway_lambda(\"lambda_function_code.zip\")\n",
    "if lambda_resp is not None:\n",
    "    if lambda_resp['exit_code'] == 0:\n",
    "        print(\"Lambda function created with ARN: \", lambda_resp['lambda_function_arn'])\n",
    "    else:\n",
    "        print(\"Lambda function creation failed with message: \", lambda_resp['lambda_function_arn'])"
   ]
  },
  {
   "cell_type": "code",
   "execution_count": null,
   "id": "9ef17018-d2be-40e3-a892-55dd420297f9",
   "metadata": {},
   "outputs": [],
   "source": [
    "#### Create an IAM role for the Gateway to assume\n",
    "import utils\n",
    "agentcore_gateway_iam_role = utils.create_agentcore_gateway_role(\"sample-lambdagateway\")\n",
    "print(\"Agentcore gateway role ARN: \", agentcore_gateway_iam_role['Role']['Arn'])"
   ]
  },
  {
   "cell_type": "markdown",
   "id": "f1a63450-7fb9-42fc-ab4f-3d86c27bb2f8",
   "metadata": {},
   "source": [
    "# Create the Gateway with Amazon IAM Authorizer for inbound authorization"
   ]
  },
  {
   "cell_type": "code",
   "execution_count": null,
   "id": "72f2cd57-7777-42d3-b6f3-c45ed0a935c4",
   "metadata": {},
   "outputs": [],
   "source": [
    "import time\n",
    "import boto3\n",
    "# CreateGateway with Amazon IAM. \n",
    "gateway_client = boto3.client('bedrock-agentcore-control', region_name = os.environ['AWS_DEFAULT_REGION'])\n",
    "\n",
    "create_response = gateway_client.create_gateway(name='TestGWforLambdaIAM',\n",
    "    roleArn = agentcore_gateway_iam_role['Role']['Arn'], # The IAM Role must have permissions to create/list/get/delete Gateway \n",
    "    protocolType='MCP',\n",
    "    authorizerType='AWS_IAM',\n",
    "    description='AgentCore Gateway with AWS Lambda target type using Amazon IAM for ingress auth'\n",
    ")\n",
    "print(create_response)\n",
    "# Retrieve the GatewayID used for GatewayTarget creation\n",
    "gatewayID = create_response[\"gatewayId\"]\n",
    "gatewayURL = create_response[\"gatewayUrl\"]\n",
    "print(gatewayID)\n",
    "time.sleep(10)"
   ]
  },
  {
   "cell_type": "markdown",
   "id": "94dc57be-e50e-4997-a440-3bcf582d09bc",
   "metadata": {},
   "source": [
    "# Create an AWS Lambda target and transform into MCP tools"
   ]
  },
  {
   "cell_type": "code",
   "execution_count": null,
   "id": "8c1474da-cdd6-4dbd-84e7-3fdad018647d",
   "metadata": {},
   "outputs": [],
   "source": [
    "# Replace the AWS Lambda function ARN below\n",
    "lambda_target_config = {\n",
    "    \"mcp\": {\n",
    "        \"lambda\": {\n",
    "            \"lambdaArn\": lambda_resp['lambda_function_arn'], # Replace this with your AWS Lambda function ARN\n",
    "            \"toolSchema\": {\n",
    "                \"inlinePayload\": [\n",
    "                    {\n",
    "                        \"name\": \"get_order_tool\",\n",
    "                        \"description\": \"tool to get the order\",\n",
    "                        \"inputSchema\": {\n",
    "                            \"type\": \"object\",\n",
    "                            \"properties\": {\n",
    "                                \"orderId\": {\n",
    "                                    \"type\": \"string\"\n",
    "                                }\n",
    "                            },\n",
    "                            \"required\": [\"orderId\"]\n",
    "                        }\n",
    "                    },                    \n",
    "                    {\n",
    "                        \"name\": \"update_order_tool\",\n",
    "                        \"description\": \"tool to update the orderId\",\n",
    "                        \"inputSchema\": {\n",
    "                            \"type\": \"object\",\n",
    "                            \"properties\": {\n",
    "                                \"orderId\": {\n",
    "                                    \"type\": \"string\"\n",
    "                                }\n",
    "                            },\n",
    "                            \"required\": [\"orderId\"]\n",
    "                        }\n",
    "                    }\n",
    "                ]\n",
    "            }\n",
    "        }\n",
    "    }\n",
    "}\n",
    "\n",
    "credential_config = [ \n",
    "    {\n",
    "        \"credentialProviderType\" : \"GATEWAY_IAM_ROLE\"\n",
    "    }\n",
    "]\n",
    "targetname='LambdaUsingSDK'\n",
    "response = gateway_client.create_gateway_target(\n",
    "    gatewayIdentifier=gatewayID,\n",
    "    name=targetname,\n",
    "    description='Lambda Target using SDK',\n",
    "    targetConfiguration=lambda_target_config,\n",
    "    credentialProviderConfigurations=credential_config)"
   ]
  },
  {
   "cell_type": "markdown",
   "id": "88d86085",
   "metadata": {},
   "source": [
    "# Create AWS IAM Role to Invoke Gateway "
   ]
  },
  {
   "cell_type": "markdown",
   "id": "71fd2d2e",
   "metadata": {},
   "source": [
    "This below function creates or updates an IAM role that allows AWS Bedrock AgentCore to invoke a specified gateway. Builds and attaches an inline policy granting bedrock-agentcore:InvokeGateway permission for the given gateway ID.Also, configures a trust policy permitting both the Bedrock AgentCore service and the calling IAM entity (current_arn) to assume the role."
   ]
  },
  {
   "cell_type": "code",
   "execution_count": null,
   "id": "23a79cef",
   "metadata": {},
   "outputs": [],
   "source": [
    "#### Create an IAM role to Invoke Gateway\n",
    "current_role_arn = utils.get_current_role_arn()\n",
    "print(\"Current role ARN: \", current_role_arn)\n",
    "\n",
    "agentcore_gateway_iam_invoke_role = utils.create_gateway_invoke_tool_role(\"gateway-invoke-role\",gatewayID , current_role_arn)\n",
    "print(\"Role to invoke Agentcore gateway ARN: \", agentcore_gateway_iam_invoke_role['Role']['Arn'])"
   ]
  },
  {
   "attachments": {},
   "cell_type": "markdown",
   "id": "6fd0379d-9576-43cb-aa9b-72b86c43b472",
   "metadata": {},
   "source": [
    "# Strands agent calling MCP tools of AWS Lambda using Bedrock AgentCore Gateway"
   ]
  },
  {
   "cell_type": "markdown",
   "id": "d4cda42d",
   "metadata": {},
   "source": [
    "#### Support for AWS IAM Authentication in MCP Client SDKs\n",
    "\n",
    "AWS IAM authentication is now supported for inbound requests to AgentCore Gateway, it's important to note that current open-source MCP Client SDKs have limited support for SigV4 authentication, particularly for streamable HTTP connections. However, AWS has provided a solution through the \"Run Model Context Protocol (MCP) servers with AWS Lambda\" project, which includes a crucial extension for SigV4 authentication with streaming HTTP connections.\n",
    "\n",
    "This implementation, available at the [AWS Labs GitHub repository](https://github.com/awslabs/run-model-context-protocol-servers-with-aws-lambda/tree/main), bridges the authentication gap for streaming connections and can be seamlessly integrated with popular agentic frameworks like Strands or LangChain. The StreamableHTTPTransportWithSigV4 class extends the standard MCP transport layer to handle AWS SigV4 signing while maintaining streaming capabilities, making it compatible with AgentCore Gateway's new IAM authentication feature."
   ]
  },
  {
   "cell_type": "code",
   "execution_count": null,
   "id": "be4b39c4-7387-4ce8-b728-f2347fbdaa36",
   "metadata": {},
   "outputs": [],
   "source": [
    "!pip3 install --upgrade strands-agents strands-agents-tools\n",
    "from strands.models import BedrockModel\n",
    "\n",
    "## The IAM credentials configured in ~/.aws/credentials should have access to Bedrock model\n",
    "yourmodel = BedrockModel(\n",
    "    model_id=\"us.amazon.nova-pro-v1:0\",\n",
    "    temperature=0.7,\n",
    ")"
   ]
  },
  {
   "cell_type": "code",
   "execution_count": null,
   "id": "e64794e7-4e5f-4fc5-824a-61c901e356c4",
   "metadata": {},
   "outputs": [],
   "source": [
    "from strands import Agent\n",
    "import logging\n",
    "from strands import Agent\n",
    "import logging\n",
    "from strands.tools.mcp.mcp_client import MCPClient\n",
    "from mcp.client.streamable_http import streamablehttp_client \n",
    "from botocore.credentials import Credentials\n",
    "from streamable_http_sigv4 import (\n",
    "    streamablehttp_client_with_sigv4,\n",
    ")\n",
    "\n",
    "SERVICE=\"bedrock-agentcore\"\n",
    "\n",
    "# Configure the root strands logger. Change it to DEBUG if you are debugging the issue.\n",
    "logging.getLogger(\"strands\").setLevel(logging.INFO)\n",
    "\n",
    "# Add a handler to see the logs\n",
    "logging.basicConfig(\n",
    "    format=\"%(levelname)s | %(name)s | %(message)s\", \n",
    "    handlers=[logging.StreamHandler()]\n",
    ")\n",
    "\n",
    "def create_streamable_http_transport(mcp_url: str, access_token: str):\n",
    "       return streamablehttp_client(mcp_url, headers={\"Authorization\": f\"Bearer {access_token}\"})\n",
    "\n",
    "def create_streamable_http_transport_sigv4(mcp_url: str, key: str, secret: str, sessionToken: str, serviceName: str, awsRegion: str):\n",
    "        iamcredentials = Credentials(\n",
    "            access_key=key,\n",
    "            secret_key=secret,\n",
    "            token = sessionToken\n",
    "        )\n",
    "        return streamablehttp_client_with_sigv4(\n",
    "            url=mcp_url,\n",
    "            credentials=iamcredentials,\n",
    "            service=serviceName,\n",
    "            region=awsRegion,\n",
    "        )\n",
    "\n",
    "def get_full_tools_list(client):\n",
    "    more_tools = True\n",
    "    tools = []\n",
    "    pagination_token = None\n",
    "    while more_tools:\n",
    "        tmp_tools = client.list_tools_sync(pagination_token=pagination_token)\n",
    "        tools.extend(tmp_tools)\n",
    "        if tmp_tools.pagination_token is None:\n",
    "            more_tools = False\n",
    "        else:\n",
    "            more_tools = True \n",
    "            pagination_token = tmp_tools.pagination_token\n",
    "    return tools\n",
    "\n",
    "def call_tool_sync(client, tool_id,tool_name, parameters=None):\n",
    "    # Call the tool (no pagination argument supported)\n",
    "    response = client.call_tool_sync(\n",
    "        tool_use_id=tool_id,\n",
    "        name=tool_name,\n",
    "        arguments=parameters\n",
    "    )\n",
    "\n",
    "    # Extract output content\n",
    "    if hasattr(response, \"results\") and response.results:\n",
    "        return response.results\n",
    "    elif hasattr(response, \"output\") and response.output:\n",
    "        return response.output\n",
    "    elif hasattr(response, \"content\"):\n",
    "        return response.content\n",
    "    else:\n",
    "        return response  # fallback\n",
    "         \n",
    "def run_agent(mcp_url: str,key: str, secret: str, sessionToken: str,serviceName: str, awsRegion: str):\n",
    "    mcp_client = MCPClient(lambda: create_streamable_http_transport_sigv4(mcp_url,key,secret,sessionToken,serviceName, awsRegion))\n",
    "\n",
    "    with mcp_client:\n",
    "        tools = get_full_tools_list(mcp_client)\n",
    "        print(f\"Found the following tools: {[tool.tool_name for tool in tools]}\")\n",
    "        print(f\"Tool name: {tools[0].tool_name}\")\n",
    "        \n",
    "        \n",
    "        agent = Agent(model=yourmodel,tools=tools) ## you can replace with any model you like\n",
    "        print(f\"Tools loaded in the agent are {agent.tool_names}\")\n",
    "        agent(\"Check the order status for order id 123 and show me the exact response from the tool\")\n",
    "        #call mcp with tool\n",
    "        tool=tools[0].tool_name\n",
    "        tool_id=\"get-order-id-123-call-1\"\n",
    "        result = call_tool_sync(\n",
    "            mcp_client,\n",
    "            tool_id,\n",
    "            tool_name=tool,\n",
    "            parameters={\"orderId\": \"123\"}\n",
    "        )\n",
    "\n",
    "        print(f\"Tool Call result: {result['content'][0]['text']}\")\n",
    "        "
   ]
  },
  {
   "cell_type": "markdown",
   "id": "d20fe901",
   "metadata": {},
   "source": [
    "Assume the IAM Gateway Invoke role and run the Agent"
   ]
  },
  {
   "cell_type": "code",
   "execution_count": null,
   "id": "02d0505f",
   "metadata": {},
   "outputs": [],
   "source": [
    "sts_client = boto3.client(\"sts\")\n",
    "response = sts_client.assume_role(\n",
    "        RoleArn=agentcore_gateway_iam_invoke_role['Role']['Arn'],\n",
    "        RoleSessionName=\"invoke_mcp_session\",\n",
    "        DurationSeconds=3600  # 1 hour, can be up to 12h for some roles\n",
    ")\n",
    "\n",
    "creds = response[\"Credentials\"]\n",
    "\n",
    "access=creds[\"AccessKeyId\"]\n",
    "secret=creds[\"SecretAccessKey\"]\n",
    "token=creds[\"SessionToken\"]\n",
    "\n",
    "# Run Agent with the credentials from this new gateway-invoke-role\n",
    "time.sleep(10) \n",
    "run_agent(gatewayURL,access,secret,token, SERVICE, os.environ['AWS_DEFAULT_REGION'])"
   ]
  },
  {
   "cell_type": "markdown",
   "id": "73169486-2fa0-42b5-8a8f-d6bdcc532159",
   "metadata": {},
   "source": [
    "**Issue: if you get below error while executing below cell, it indicates incompatibily between pydantic and pydantic-core versions.**\n",
    "\n",
    "```\n",
    "TypeError: model_schema() got an unexpected keyword argument 'generic_origin'\n",
    "```\n",
    "**How to resolve?**\n",
    "\n",
    "You will need to make sure you have pydantic==2.7.2 and pydantic-core 2.27.2 that are both compatible. Restart the kernel once done."
   ]
  },
  {
   "cell_type": "markdown",
   "id": "fa8dd91d-15a6-45b2-b539-bb3eaf0e0e08",
   "metadata": {},
   "source": [
    "# Clean up\n",
    "\n",
    "Additional resources are also created like IAM role, IAM Policies, Credentials provider and AWS Lambda functions that you might need to manually delete as part of the clean up. This depends on the example you run."
   ]
  },
  {
   "cell_type": "markdown",
   "id": "a22f158d-83b6-4d65-892f-9a208af3d742",
   "metadata": {},
   "source": [
    "## Delete the gateway (Optional)"
   ]
  },
  {
   "cell_type": "code",
   "execution_count": null,
   "id": "c3edc5b6-e5f0-47b9-994f-378415bad50d",
   "metadata": {},
   "outputs": [],
   "source": [
    "import utils\n",
    "utils.delete_gateway(gateway_client,gatewayID)"
   ]
  }
 ],
 "metadata": {
  "kernelspec": {
   "display_name": ".env",
   "language": "python",
   "name": "python3"
  },
  "language_info": {
   "codemirror_mode": {
    "name": "ipython",
    "version": 3
   },
   "file_extension": ".py",
   "mimetype": "text/x-python",
   "name": "python",
   "nbconvert_exporter": "python",
   "pygments_lexer": "ipython3",
   "version": "3.13.7"
  }
 },
 "nbformat": 4,
 "nbformat_minor": 5
}
