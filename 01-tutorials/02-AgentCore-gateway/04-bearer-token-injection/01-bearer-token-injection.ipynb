{
 "cells": [
  {
   "cell_type": "markdown",
   "id": "883d3f31-574f-4ee1-b531-41dd5cc6e348",
   "metadata": {},
   "source": [
    "# Bearer Token Injection Pattern for AWS Bedrock AgentCore Gateway Targets"
   ]
  },
  {
   "cell_type": "markdown",
   "id": "0ec29593-2f1a-4921-92a5-6641d70b2769",
   "metadata": {},
   "source": [
    "## Overview\n",
    "\n",
    "Customers want to enable an MCP Client(Cyphr, Amazon Q) to invoke tools (e.g., Asana functions) exposed by backend targets (Lambda functions or RESTful services) through the AgentCore Gateway. A critical requirement is to inject a dynamic bearer token from the MCP client into the target for authentication with the downstream service. The key challenge is the mandatory outbound authentication requirement in the AgentCore Gateway, which can conflict with dynamic header injection.\n",
    "\n",
    "The following architecture diagram shows the solution we are proposing for injecting auth token (e.g. \"Bearer actual-auth-token\") without conflicting with AgentCore outbound auth mechanism.\n",
    "\n",
    "<img src=\"./images/token-injection-architecture.png\" alt=\"Architecture diagram showing token injection pattern\" title=\"Architecture diagram showing token injection pattern\" />\n",
    "\n",
    "In the solution, the MCP client obtains the auth token to be used by the tool and passes it on to the AgentCore Gateway as a parameter in the payload which is then passed on to the tool as a custom header."
   ]
  },
  {
   "cell_type": "markdown",
   "id": "ce03190d",
   "metadata": {},
   "source": [
    "### Deploying the prerequisites\n",
    "\n",
    "This solution deploys the following components: \n",
    "- Cognito user pool for inbound authentication \n",
    "- API Gateway with Lambda integration\n",
    "- API Key for AgentCore outbound authentication\n"
   ]
  },
  {
   "cell_type": "code",
   "execution_count": 4,
   "id": "9612d6ae-6f69-4415-a42b-5322b77936b8",
   "metadata": {},
   "outputs": [
    {
     "name": "stdout",
     "output_type": "stream",
     "text": [
      "/Users/saurabks/aws_git_hub_repos/amazon-bedrock-agentcore-samples/01-tutorials/02-AgentCore-gateway/04-bearer-token-injection/prerequisites/agentcore-components\n"
     ]
    }
   ],
   "source": [
    "cd prerequisites/agentcore-components"
   ]
  },
  {
   "cell_type": "code",
   "execution_count": 15,
   "id": "2bc8ee82-890e-4e6c-9daf-04d2b3afd88c",
   "metadata": {},
   "outputs": [
    {
     "name": "stdout",
     "output_type": "stream",
     "text": [
      "🔍 Getting AWS Account ID...\n",
      "Region: us-east-1\n",
      "Account ID: 600406230016\n",
      "🔧 Starting deployment of infrastructure stack\n",
      "🚀 Deploying CloudFormation stack: AsanaIntegrationStackInfra\n",
      "\n",
      "Waiting for changeset to be created..\n",
      "Waiting for stack create/update to complete\n",
      "Successfully created/updated stack - AsanaIntegrationStackInfra\n",
      "✅ Stack AsanaIntegrationStackInfra deployed successfully.\n",
      "✅ Deployment complete for API stack.\n",
      "🔧 Starting deployment of infrastructure stack\n",
      "🚀 Deploying CloudFormation stack: AsanaIntegrationStackCognito\n",
      "\n",
      "Waiting for changeset to be created..\n",
      "Waiting for stack create/update to complete\n",
      "Successfully created/updated stack - AsanaIntegrationStackCognito\n",
      "✅ Stack AsanaIntegrationStackCognito deployed successfully.\n",
      "✅ Deployment complete for Cognito stack.\n",
      "✅ Deployment complete both prerequisite stacks.\n"
     ]
    }
   ],
   "source": [
    "!bash prereq.sh"
   ]
  },
  {
   "cell_type": "markdown",
   "id": "6559974a",
   "metadata": {},
   "source": [
    "## Creating AgentCore Gatewayway with API Gateway as target\n",
    "\n",
    "\n"
   ]
  },
  {
   "cell_type": "markdown",
   "id": "22fa318a-8fc8-4ecb-b1e2-9d1b871f9abd",
   "metadata": {},
   "source": [
    "### Step 1: Install Dependencies and Import \n",
    "\n",
    "Before we start, let's install the pre-requisites for this lab"
   ]
  },
  {
   "cell_type": "code",
   "execution_count": 1,
   "id": "127d163b-0457-428e-af42-63cd1264507b",
   "metadata": {},
   "outputs": [
    {
     "name": "stdout",
     "output_type": "stream",
     "text": [
      "current_dir set to /Users/saurabks/aws_git_hub_repos/amazon-bedrock-agentcore-samples/01-tutorials/02-AgentCore-gateway/04-bearer-token-injection\n"
     ]
    }
   ],
   "source": [
    "import os\n",
    "import sys\n",
    "\n",
    "# Get the directory of the current script\n",
    "if \"__file__\" in globals():\n",
    "    current_dir = os.path.dirname(os.path.abspath(__file__))\n",
    "else:\n",
    "    current_dir = os.getcwd()  # Fallback if __file__ is not defined (e.g., Jupyter)\n",
    "\n",
    "print(f\"current_dir set to {current_dir}\")\n",
    "\n",
    "# Navigate to the directory containing utils.py (two level up)\n",
    "utils_dir = os.path.abspath(os.path.join(current_dir, \"../../..\"))\n",
    "\n",
    "# Add to sys.path\n",
    "sys.path.insert(0, utils_dir)\n",
    "\n",
    "import utils"
   ]
  },
  {
   "cell_type": "code",
   "execution_count": null,
   "id": "2ea729e8-409b-4442-8400-d8aa461d4505",
   "metadata": {},
   "outputs": [
    {
     "name": "stdout",
     "output_type": "stream",
     "text": [
      "Requirement already satisfied: strands-agents in /opt/homebrew/lib/python3.13/site-packages (from -r requirements.txt (line 1)) (1.10.0)\n",
      "Requirement already satisfied: strands-agents-tools in /opt/homebrew/lib/python3.13/site-packages (from -r requirements.txt (line 2)) (0.2.9)\n",
      "Requirement already satisfied: bedrock-agentcore in /opt/homebrew/Cellar/jupyterlab/4.4.9/libexec/lib/python3.13/site-packages (from -r requirements.txt (line 3)) (0.1.7)\n",
      "Requirement already satisfied: PyYAML in /opt/homebrew/Cellar/jupyterlab/4.4.9/libexec/lib/python3.13/site-packages (from -r requirements.txt (line 4)) (6.0.3)\n",
      "Requirement already satisfied: ddgs in /opt/homebrew/lib/python3.13/site-packages (from -r requirements.txt (line 5)) (9.6.0)\n",
      "Requirement already satisfied: bedrock_agentcore_starter_toolkit in /opt/homebrew/Cellar/jupyterlab/4.4.9/libexec/lib/python3.13/site-packages (from -r requirements.txt (line 6)) (0.1.19)\n",
      "Requirement already satisfied: requests in /opt/homebrew/Cellar/jupyterlab/4.4.9/libexec/lib/python3.13/site-packages (from -r requirements.txt (line 7)) (2.32.5)\n",
      "Requirement already satisfied: boto3<2.0.0,>=1.26.0 in /opt/homebrew/lib/python3.13/site-packages (from strands-agents->-r requirements.txt (line 1)) (1.40.41)\n",
      "Requirement already satisfied: botocore<2.0.0,>=1.29.0 in /opt/homebrew/lib/python3.13/site-packages (from strands-agents->-r requirements.txt (line 1)) (1.40.41)\n",
      "Requirement already satisfied: docstring-parser<1.0,>=0.15 in /opt/homebrew/lib/python3.13/site-packages (from strands-agents->-r requirements.txt (line 1)) (0.17.0)\n",
      "Requirement already satisfied: mcp<2.0.0,>=1.11.0 in /opt/homebrew/lib/python3.13/site-packages (from strands-agents->-r requirements.txt (line 1)) (1.15.0)\n",
      "Requirement already satisfied: opentelemetry-api<2.0.0,>=1.30.0 in /opt/homebrew/lib/python3.13/site-packages (from strands-agents->-r requirements.txt (line 1)) (1.37.0)\n",
      "Requirement already satisfied: opentelemetry-instrumentation-threading<1.00b0,>=0.51b0 in /opt/homebrew/lib/python3.13/site-packages (from strands-agents->-r requirements.txt (line 1)) (0.58b0)\n",
      "Requirement already satisfied: opentelemetry-sdk<2.0.0,>=1.30.0 in /opt/homebrew/lib/python3.13/site-packages (from strands-agents->-r requirements.txt (line 1)) (1.37.0)\n",
      "Requirement already satisfied: pydantic<3.0.0,>=2.4.0 in /opt/homebrew/lib/python3.13/site-packages (from strands-agents->-r requirements.txt (line 1)) (2.11.9)\n",
      "Requirement already satisfied: typing-extensions<5.0.0,>=4.13.2 in /opt/homebrew/Cellar/jupyterlab/4.4.9/libexec/lib/python3.13/site-packages (from strands-agents->-r requirements.txt (line 1)) (4.15.0)\n",
      "Requirement already satisfied: watchdog<7.0.0,>=6.0.0 in /opt/homebrew/lib/python3.13/site-packages (from strands-agents->-r requirements.txt (line 1)) (6.0.0)\n",
      "Requirement already satisfied: jmespath<2.0.0,>=0.7.1 in /opt/homebrew/lib/python3.13/site-packages (from boto3<2.0.0,>=1.26.0->strands-agents->-r requirements.txt (line 1)) (1.0.1)\n",
      "Requirement already satisfied: s3transfer<0.15.0,>=0.14.0 in /opt/homebrew/lib/python3.13/site-packages (from boto3<2.0.0,>=1.26.0->strands-agents->-r requirements.txt (line 1)) (0.14.0)\n",
      "Requirement already satisfied: python-dateutil<3.0.0,>=2.1 in /opt/homebrew/Cellar/jupyterlab/4.4.9/libexec/lib/python3.13/site-packages (from botocore<2.0.0,>=1.29.0->strands-agents->-r requirements.txt (line 1)) (2.9.0.post0)\n",
      "Requirement already satisfied: urllib3!=2.2.0,<3,>=1.25.4 in /opt/homebrew/Cellar/jupyterlab/4.4.9/libexec/lib/python3.13/site-packages (from botocore<2.0.0,>=1.29.0->strands-agents->-r requirements.txt (line 1)) (2.5.0)\n",
      "Requirement already satisfied: anyio>=4.5 in /opt/homebrew/Cellar/jupyterlab/4.4.9/libexec/lib/python3.13/site-packages (from mcp<2.0.0,>=1.11.0->strands-agents->-r requirements.txt (line 1)) (4.11.0)\n",
      "Requirement already satisfied: httpx-sse>=0.4 in /opt/homebrew/lib/python3.13/site-packages (from mcp<2.0.0,>=1.11.0->strands-agents->-r requirements.txt (line 1)) (0.4.1)\n",
      "Requirement already satisfied: httpx>=0.27.1 in /opt/homebrew/Cellar/jupyterlab/4.4.9/libexec/lib/python3.13/site-packages (from mcp<2.0.0,>=1.11.0->strands-agents->-r requirements.txt (line 1)) (0.28.1)\n",
      "Requirement already satisfied: jsonschema>=4.20.0 in /opt/homebrew/Cellar/jupyterlab/4.4.9/libexec/lib/python3.13/site-packages (from mcp<2.0.0,>=1.11.0->strands-agents->-r requirements.txt (line 1)) (4.25.1)\n",
      "Requirement already satisfied: pydantic-settings>=2.5.2 in /opt/homebrew/lib/python3.13/site-packages (from mcp<2.0.0,>=1.11.0->strands-agents->-r requirements.txt (line 1)) (2.11.0)\n",
      "Requirement already satisfied: python-multipart>=0.0.9 in /opt/homebrew/lib/python3.13/site-packages (from mcp<2.0.0,>=1.11.0->strands-agents->-r requirements.txt (line 1)) (0.0.20)\n",
      "Requirement already satisfied: sse-starlette>=1.6.1 in /opt/homebrew/lib/python3.13/site-packages (from mcp<2.0.0,>=1.11.0->strands-agents->-r requirements.txt (line 1)) (3.0.2)\n",
      "Requirement already satisfied: starlette>=0.27 in /opt/homebrew/lib/python3.13/site-packages (from mcp<2.0.0,>=1.11.0->strands-agents->-r requirements.txt (line 1)) (0.48.0)\n",
      "Requirement already satisfied: uvicorn>=0.31.1 in /opt/homebrew/lib/python3.13/site-packages (from mcp<2.0.0,>=1.11.0->strands-agents->-r requirements.txt (line 1)) (0.37.0)\n",
      "Requirement already satisfied: importlib-metadata<8.8.0,>=6.0 in /opt/homebrew/lib/python3.13/site-packages (from opentelemetry-api<2.0.0,>=1.30.0->strands-agents->-r requirements.txt (line 1)) (8.7.0)\n",
      "Requirement already satisfied: zipp>=3.20 in /opt/homebrew/lib/python3.13/site-packages (from importlib-metadata<8.8.0,>=6.0->opentelemetry-api<2.0.0,>=1.30.0->strands-agents->-r requirements.txt (line 1)) (3.23.0)\n",
      "Requirement already satisfied: opentelemetry-instrumentation==0.58b0 in /opt/homebrew/lib/python3.13/site-packages (from opentelemetry-instrumentation-threading<1.00b0,>=0.51b0->strands-agents->-r requirements.txt (line 1)) (0.58b0)\n",
      "Requirement already satisfied: wrapt<2.0.0,>=1.0.0 in /opt/homebrew/lib/python3.13/site-packages (from opentelemetry-instrumentation-threading<1.00b0,>=0.51b0->strands-agents->-r requirements.txt (line 1)) (1.17.3)\n",
      "Requirement already satisfied: opentelemetry-semantic-conventions==0.58b0 in /opt/homebrew/lib/python3.13/site-packages (from opentelemetry-instrumentation==0.58b0->opentelemetry-instrumentation-threading<1.00b0,>=0.51b0->strands-agents->-r requirements.txt (line 1)) (0.58b0)\n",
      "Requirement already satisfied: packaging>=18.0 in /opt/homebrew/Cellar/jupyterlab/4.4.9/libexec/lib/python3.13/site-packages (from opentelemetry-instrumentation==0.58b0->opentelemetry-instrumentation-threading<1.00b0,>=0.51b0->strands-agents->-r requirements.txt (line 1)) (25.0)\n",
      "Requirement already satisfied: annotated-types>=0.6.0 in /opt/homebrew/lib/python3.13/site-packages (from pydantic<3.0.0,>=2.4.0->strands-agents->-r requirements.txt (line 1)) (0.7.0)\n",
      "Requirement already satisfied: pydantic-core==2.33.2 in /opt/homebrew/lib/python3.13/site-packages (from pydantic<3.0.0,>=2.4.0->strands-agents->-r requirements.txt (line 1)) (2.33.2)\n",
      "Requirement already satisfied: typing-inspection>=0.4.0 in /opt/homebrew/lib/python3.13/site-packages (from pydantic<3.0.0,>=2.4.0->strands-agents->-r requirements.txt (line 1)) (0.4.1)\n",
      "Requirement already satisfied: six>=1.5 in /opt/homebrew/Cellar/jupyterlab/4.4.9/libexec/lib/python3.13/site-packages (from python-dateutil<3.0.0,>=2.1->botocore<2.0.0,>=1.29.0->strands-agents->-r requirements.txt (line 1)) (1.17.0)\n",
      "Requirement already satisfied: aiohttp<4.0.0,>=3.8.0 in /opt/homebrew/lib/python3.13/site-packages (from strands-agents-tools->-r requirements.txt (line 2)) (3.12.15)\n",
      "Requirement already satisfied: aws-requests-auth<0.5.0,>=0.4.3 in /opt/homebrew/lib/python3.13/site-packages (from strands-agents-tools->-r requirements.txt (line 2)) (0.4.3)\n",
      "Requirement already satisfied: dill<0.5.0,>=0.4.0 in /opt/homebrew/lib/python3.13/site-packages (from strands-agents-tools->-r requirements.txt (line 2)) (0.4.0)\n",
      "Requirement already satisfied: markdownify<2.0.0,>=1.0.0 in /opt/homebrew/lib/python3.13/site-packages (from strands-agents-tools->-r requirements.txt (line 2)) (1.2.0)\n",
      "Requirement already satisfied: pillow<12.0.0,>=11.2.1 in /opt/homebrew/lib/python3.13/site-packages (from strands-agents-tools->-r requirements.txt (line 2)) (11.3.0)\n",
      "Requirement already satisfied: prompt-toolkit<4.0.0,>=3.0.51 in /opt/homebrew/Cellar/jupyterlab/4.4.9/libexec/lib/python3.13/site-packages (from strands-agents-tools->-r requirements.txt (line 2)) (3.0.52)\n",
      "Requirement already satisfied: pyjwt<3.0.0,>=2.10.1 in /opt/homebrew/lib/python3.13/site-packages (from strands-agents-tools->-r requirements.txt (line 2)) (2.10.1)\n",
      "Requirement already satisfied: rich<15.0.0,>=14.0.0 in /opt/homebrew/lib/python3.13/site-packages (from strands-agents-tools->-r requirements.txt (line 2)) (14.1.0)\n",
      "Requirement already satisfied: slack-bolt<2.0.0,>=1.23.0 in /opt/homebrew/lib/python3.13/site-packages (from strands-agents-tools->-r requirements.txt (line 2)) (1.25.0)\n",
      "Requirement already satisfied: sympy<2.0.0,>=1.12.0 in /opt/homebrew/lib/python3.13/site-packages (from strands-agents-tools->-r requirements.txt (line 2)) (1.14.0)\n",
      "Requirement already satisfied: tenacity<10.0.0,>=9.1.2 in /opt/homebrew/lib/python3.13/site-packages (from strands-agents-tools->-r requirements.txt (line 2)) (9.1.2)\n",
      "Requirement already satisfied: charset_normalizer<4,>=2 in /opt/homebrew/Cellar/jupyterlab/4.4.9/libexec/lib/python3.13/site-packages (from requests->-r requirements.txt (line 7)) (3.4.3)\n",
      "Requirement already satisfied: idna<4,>=2.5 in /opt/homebrew/Cellar/jupyterlab/4.4.9/libexec/lib/python3.13/site-packages (from requests->-r requirements.txt (line 7)) (3.10)\n",
      "Requirement already satisfied: certifi>=2017.4.17 in /opt/homebrew/opt/certifi/lib/python3.13/site-packages (from requests->-r requirements.txt (line 7)) (2025.8.3)\n",
      "Requirement already satisfied: aiohappyeyeballs>=2.5.0 in /opt/homebrew/lib/python3.13/site-packages (from aiohttp<4.0.0,>=3.8.0->strands-agents-tools->-r requirements.txt (line 2)) (2.6.1)\n",
      "Requirement already satisfied: aiosignal>=1.4.0 in /opt/homebrew/lib/python3.13/site-packages (from aiohttp<4.0.0,>=3.8.0->strands-agents-tools->-r requirements.txt (line 2)) (1.4.0)\n",
      "Requirement already satisfied: attrs>=17.3.0 in /opt/homebrew/Cellar/jupyterlab/4.4.9/libexec/lib/python3.13/site-packages (from aiohttp<4.0.0,>=3.8.0->strands-agents-tools->-r requirements.txt (line 2)) (25.3.0)\n",
      "Requirement already satisfied: frozenlist>=1.1.1 in /opt/homebrew/lib/python3.13/site-packages (from aiohttp<4.0.0,>=3.8.0->strands-agents-tools->-r requirements.txt (line 2)) (1.7.0)\n",
      "Requirement already satisfied: multidict<7.0,>=4.5 in /opt/homebrew/lib/python3.13/site-packages (from aiohttp<4.0.0,>=3.8.0->strands-agents-tools->-r requirements.txt (line 2)) (6.6.4)\n",
      "Requirement already satisfied: propcache>=0.2.0 in /opt/homebrew/lib/python3.13/site-packages (from aiohttp<4.0.0,>=3.8.0->strands-agents-tools->-r requirements.txt (line 2)) (0.3.2)\n",
      "Requirement already satisfied: yarl<2.0,>=1.17.0 in /opt/homebrew/lib/python3.13/site-packages (from aiohttp<4.0.0,>=3.8.0->strands-agents-tools->-r requirements.txt (line 2)) (1.20.1)\n",
      "Requirement already satisfied: beautifulsoup4<5,>=4.9 in /opt/homebrew/Cellar/jupyterlab/4.4.9/libexec/lib/python3.13/site-packages (from markdownify<2.0.0,>=1.0.0->strands-agents-tools->-r requirements.txt (line 2)) (4.13.5)\n",
      "Requirement already satisfied: soupsieve>1.2 in /opt/homebrew/Cellar/jupyterlab/4.4.9/libexec/lib/python3.13/site-packages (from beautifulsoup4<5,>=4.9->markdownify<2.0.0,>=1.0.0->strands-agents-tools->-r requirements.txt (line 2)) (2.8)\n",
      "Requirement already satisfied: wcwidth in /opt/homebrew/Cellar/jupyterlab/4.4.9/libexec/lib/python3.13/site-packages (from prompt-toolkit<4.0.0,>=3.0.51->strands-agents-tools->-r requirements.txt (line 2)) (0.2.14)\n",
      "Requirement already satisfied: markdown-it-py>=2.2.0 in /opt/homebrew/lib/python3.13/site-packages (from rich<15.0.0,>=14.0.0->strands-agents-tools->-r requirements.txt (line 2)) (4.0.0)\n",
      "Requirement already satisfied: pygments<3.0.0,>=2.13.0 in /opt/homebrew/Cellar/jupyterlab/4.4.9/libexec/lib/python3.13/site-packages (from rich<15.0.0,>=14.0.0->strands-agents-tools->-r requirements.txt (line 2)) (2.19.2)\n",
      "Requirement already satisfied: slack_sdk<4,>=3.35.0 in /opt/homebrew/lib/python3.13/site-packages (from slack-bolt<2.0.0,>=1.23.0->strands-agents-tools->-r requirements.txt (line 2)) (3.36.0)\n",
      "Requirement already satisfied: mpmath<1.4,>=1.1.0 in /opt/homebrew/lib/python3.13/site-packages (from sympy<2.0.0,>=1.12.0->strands-agents-tools->-r requirements.txt (line 2)) (1.3.0)\n",
      "Requirement already satisfied: click>=8.1.8 in /opt/homebrew/lib/python3.13/site-packages (from ddgs->-r requirements.txt (line 5)) (8.3.0)\n",
      "Requirement already satisfied: primp>=0.15.0 in /opt/homebrew/lib/python3.13/site-packages (from ddgs->-r requirements.txt (line 5)) (0.15.0)\n",
      "Requirement already satisfied: lxml>=6.0.0 in /opt/homebrew/lib/python3.13/site-packages (from ddgs->-r requirements.txt (line 5)) (6.0.2)\n",
      "Requirement already satisfied: autopep8>=2.3.2 in /opt/homebrew/Cellar/jupyterlab/4.4.9/libexec/lib/python3.13/site-packages (from bedrock_agentcore_starter_toolkit->-r requirements.txt (line 6)) (2.3.2)\n",
      "Requirement already satisfied: jinja2>=3.1.6 in /opt/homebrew/Cellar/jupyterlab/4.4.9/libexec/lib/python3.13/site-packages (from bedrock_agentcore_starter_toolkit->-r requirements.txt (line 6)) (3.1.6)\n",
      "Requirement already satisfied: openapi-spec-validator>=0.7.2 in /opt/homebrew/Cellar/jupyterlab/4.4.9/libexec/lib/python3.13/site-packages (from bedrock_agentcore_starter_toolkit->-r requirements.txt (line 6)) (0.7.2)\n",
      "Requirement already satisfied: prance>=25.4.8.0 in /opt/homebrew/Cellar/jupyterlab/4.4.9/libexec/lib/python3.13/site-packages (from bedrock_agentcore_starter_toolkit->-r requirements.txt (line 6)) (25.4.8.0)\n",
      "Requirement already satisfied: py-openapi-schema-to-json-schema>=0.0.3 in /opt/homebrew/Cellar/jupyterlab/4.4.9/libexec/lib/python3.13/site-packages (from bedrock_agentcore_starter_toolkit->-r requirements.txt (line 6)) (0.0.3)\n",
      "Requirement already satisfied: questionary>=2.1.0 in /opt/homebrew/Cellar/jupyterlab/4.4.9/libexec/lib/python3.13/site-packages (from bedrock_agentcore_starter_toolkit->-r requirements.txt (line 6)) (2.1.1)\n",
      "Requirement already satisfied: ruamel-yaml>=0.18.14 in /opt/homebrew/Cellar/jupyterlab/4.4.9/libexec/lib/python3.13/site-packages (from bedrock_agentcore_starter_toolkit->-r requirements.txt (line 6)) (0.18.15)\n",
      "Requirement already satisfied: toml>=0.10.2 in /opt/homebrew/Cellar/jupyterlab/4.4.9/libexec/lib/python3.13/site-packages (from bedrock_agentcore_starter_toolkit->-r requirements.txt (line 6)) (0.10.2)\n",
      "Requirement already satisfied: typer>=0.16.0 in /opt/homebrew/Cellar/jupyterlab/4.4.9/libexec/lib/python3.13/site-packages (from bedrock_agentcore_starter_toolkit->-r requirements.txt (line 6)) (0.19.2)\n",
      "Requirement already satisfied: sniffio>=1.1 in /opt/homebrew/Cellar/jupyterlab/4.4.9/libexec/lib/python3.13/site-packages (from anyio>=4.5->mcp<2.0.0,>=1.11.0->strands-agents->-r requirements.txt (line 1)) (1.3.1)\n",
      "Requirement already satisfied: pycodestyle>=2.12.0 in /opt/homebrew/Cellar/jupyterlab/4.4.9/libexec/lib/python3.13/site-packages (from autopep8>=2.3.2->bedrock_agentcore_starter_toolkit->-r requirements.txt (line 6)) (2.14.0)\n",
      "Requirement already satisfied: httpcore==1.* in /opt/homebrew/Cellar/jupyterlab/4.4.9/libexec/lib/python3.13/site-packages (from httpx>=0.27.1->mcp<2.0.0,>=1.11.0->strands-agents->-r requirements.txt (line 1)) (1.0.9)\n",
      "Requirement already satisfied: h11>=0.16 in /opt/homebrew/Cellar/jupyterlab/4.4.9/libexec/lib/python3.13/site-packages (from httpcore==1.*->httpx>=0.27.1->mcp<2.0.0,>=1.11.0->strands-agents->-r requirements.txt (line 1)) (0.16.0)\n",
      "Requirement already satisfied: brotli in /opt/homebrew/lib/python3.13/site-packages (from httpx[brotli,http2,socks]>=0.28.1->ddgs->-r requirements.txt (line 5)) (1.1.0)\n",
      "Requirement already satisfied: h2<5,>=3 in /opt/homebrew/lib/python3.13/site-packages (from httpx[brotli,http2,socks]>=0.28.1->ddgs->-r requirements.txt (line 5)) (4.3.0)\n",
      "Requirement already satisfied: socksio==1.* in /opt/homebrew/lib/python3.13/site-packages (from httpx[brotli,http2,socks]>=0.28.1->ddgs->-r requirements.txt (line 5)) (1.0.0)\n",
      "Requirement already satisfied: hyperframe<7,>=6.1 in /opt/homebrew/lib/python3.13/site-packages (from h2<5,>=3->httpx[brotli,http2,socks]>=0.28.1->ddgs->-r requirements.txt (line 5)) (6.1.0)\n",
      "Requirement already satisfied: hpack<5,>=4.1 in /opt/homebrew/lib/python3.13/site-packages (from h2<5,>=3->httpx[brotli,http2,socks]>=0.28.1->ddgs->-r requirements.txt (line 5)) (4.1.0)\n",
      "Requirement already satisfied: MarkupSafe>=2.0 in /opt/homebrew/Cellar/jupyterlab/4.4.9/libexec/lib/python3.13/site-packages (from jinja2>=3.1.6->bedrock_agentcore_starter_toolkit->-r requirements.txt (line 6)) (3.0.2)\n",
      "Requirement already satisfied: jsonschema-specifications>=2023.03.6 in /opt/homebrew/Cellar/jupyterlab/4.4.9/libexec/lib/python3.13/site-packages (from jsonschema>=4.20.0->mcp<2.0.0,>=1.11.0->strands-agents->-r requirements.txt (line 1)) (2025.9.1)\n",
      "Requirement already satisfied: referencing>=0.28.4 in /opt/homebrew/Cellar/jupyterlab/4.4.9/libexec/lib/python3.13/site-packages (from jsonschema>=4.20.0->mcp<2.0.0,>=1.11.0->strands-agents->-r requirements.txt (line 1)) (0.36.2)\n",
      "Requirement already satisfied: rpds-py>=0.7.1 in /opt/homebrew/Cellar/jupyterlab/4.4.9/libexec/lib/python3.13/site-packages (from jsonschema>=4.20.0->mcp<2.0.0,>=1.11.0->strands-agents->-r requirements.txt (line 1)) (0.27.1)\n",
      "Requirement already satisfied: mdurl~=0.1 in /opt/homebrew/lib/python3.13/site-packages (from markdown-it-py>=2.2.0->rich<15.0.0,>=14.0.0->strands-agents-tools->-r requirements.txt (line 2)) (0.1.2)\n",
      "Requirement already satisfied: jsonschema-path<0.4.0,>=0.3.1 in /opt/homebrew/Cellar/jupyterlab/4.4.9/libexec/lib/python3.13/site-packages (from openapi-spec-validator>=0.7.2->bedrock_agentcore_starter_toolkit->-r requirements.txt (line 6)) (0.3.4)\n",
      "Requirement already satisfied: lazy-object-proxy<2.0.0,>=1.7.1 in /opt/homebrew/Cellar/jupyterlab/4.4.9/libexec/lib/python3.13/site-packages (from openapi-spec-validator>=0.7.2->bedrock_agentcore_starter_toolkit->-r requirements.txt (line 6)) (1.12.0)\n",
      "Requirement already satisfied: openapi-schema-validator<0.7.0,>=0.6.0 in /opt/homebrew/Cellar/jupyterlab/4.4.9/libexec/lib/python3.13/site-packages (from openapi-spec-validator>=0.7.2->bedrock_agentcore_starter_toolkit->-r requirements.txt (line 6)) (0.6.3)\n",
      "Requirement already satisfied: pathable<0.5.0,>=0.4.1 in /opt/homebrew/Cellar/jupyterlab/4.4.9/libexec/lib/python3.13/site-packages (from jsonschema-path<0.4.0,>=0.3.1->openapi-spec-validator>=0.7.2->bedrock_agentcore_starter_toolkit->-r requirements.txt (line 6)) (0.4.4)\n",
      "Requirement already satisfied: rfc3339-validator in /opt/homebrew/Cellar/jupyterlab/4.4.9/libexec/lib/python3.13/site-packages (from openapi-schema-validator<0.7.0,>=0.6.0->openapi-spec-validator>=0.7.2->bedrock_agentcore_starter_toolkit->-r requirements.txt (line 6)) (0.1.4)\n",
      "Requirement already satisfied: chardet>=5.2 in /opt/homebrew/Cellar/jupyterlab/4.4.9/libexec/lib/python3.13/site-packages (from prance>=25.4.8.0->bedrock_agentcore_starter_toolkit->-r requirements.txt (line 6)) (5.2.0)\n",
      "Requirement already satisfied: python-dotenv>=0.21.0 in /opt/homebrew/lib/python3.13/site-packages (from pydantic-settings>=2.5.2->mcp<2.0.0,>=1.11.0->strands-agents->-r requirements.txt (line 1)) (1.1.1)\n",
      "Requirement already satisfied: ruamel.yaml.clib>=0.2.7 in /opt/homebrew/Cellar/jupyterlab/4.4.9/libexec/lib/python3.13/site-packages (from ruamel-yaml>=0.18.14->bedrock_agentcore_starter_toolkit->-r requirements.txt (line 6)) (0.2.14)\n",
      "Requirement already satisfied: shellingham>=1.3.0 in /opt/homebrew/Cellar/jupyterlab/4.4.9/libexec/lib/python3.13/site-packages (from typer>=0.16.0->bedrock_agentcore_starter_toolkit->-r requirements.txt (line 6)) (1.5.4)\n",
      "Note: you may need to restart the kernel to use updated packages.\n"
     ]
    }
   ],
   "source": [
    "# Install required packages\n",
    "%pip install -U -r requirements.txt -q"
   ]
  },
  {
   "cell_type": "markdown",
   "id": "7081d97e-f130-463c-8838-0c0fcc8e3100",
   "metadata": {},
   "source": [
    "### Step 2: Create AgentCore Gateway\n",
    "\n",
    "The following Python code:\n",
    "- creates AgentCore Gateway\n",
    "- adds the previously created APIGateway with API_KEY as Target."
   ]
  },
  {
   "cell_type": "code",
   "execution_count": 5,
   "id": "ef6ca2da-5f43-4e81-896f-2a40de7e8f78",
   "metadata": {},
   "outputs": [
    {
     "name": "stdout",
     "output_type": "stream",
     "text": [
      "✅ Fetching AgentCore gateway!\n",
      "Creating gateway in region us-east-1 with name: agentcore-gw-asana-integration\n",
      "Found existing gateway with ID: agentcore-gw-asana-integration-zwypthrpiu\n",
      "✅ Loaded API specification file: [{'openapi': '3.0.0', 'info': {'title': 'Asana Single-Endpoint API', 'version': '1.0.0'}, 'servers': [{'url': 'REPLACE_WITH_API_GATEWAY_URL'}], 'paths': {'/asana': {'post': {'operationId': 'asanaInvoke', 'description': 'Catch-all Asana tool endpoint.', 'parameters': [{'name': 'X-Asana-Token', 'in': 'header', 'required': True, 'schema': {'type': 'string'}, 'description': 'Bearer token for Asana authentication (passed through from agent)'}], 'requestBody': {'required': True, 'content': {'application/json': {'schema': {'type': 'object', 'properties': {'tool_name': {'type': 'string', 'description': 'Name of the Asana operation to execute'}, 'name': {'type': 'string', 'description': 'Task name'}, 'notes': {'type': 'string', 'description': 'Task notes'}, 'project': {'type': 'string', 'description': 'Project GID'}, 'task_gid': {'type': 'string', 'description': 'Task GID'}, 'workspace': {'type': 'string', 'description': 'Workspace GID (optional)'}}, 'required': ['tool_name']}}}}, 'responses': {'200': {'description': 'Success'}}}}}}]\n",
      "✅ Replaced API Gateway URL: https://ijtjvltnbc.execute-api.us-east-1.amazonaws.com/Prod\n",
      "✅ Creating credential provider...\n",
      "Found existing credential provider with ARN: arn:aws:bedrock-agentcore:us-east-1:600406230016:token-vault/default/apikeycredentialprovider/AgentCoreAPIGatewayAPIKey\n",
      "✅ Created inline_spec: {\"openapi\": \"3.0.0\", \"info\": {\"title\": \"Asana Single-Endpoint API\", \"version\": \"1.0.0\"}, \"servers\": [{\"url\": \"https://ijtjvltnbc.execute-api.us-east-1.amazonaws.com/Prod\"}], \"paths\": {\"/asana\": {\"post\": {\"operationId\": \"asanaInvoke\", \"description\": \"Catch-all Asana tool endpoint.\", \"parameters\": [{\"name\": \"X-Asana-Token\", \"in\": \"header\", \"required\": true, \"schema\": {\"type\": \"string\"}, \"description\": \"Bearer token for Asana authentication (passed through from agent)\"}], \"requestBody\": {\"required\": true, \"content\": {\"application/json\": {\"schema\": {\"type\": \"object\", \"properties\": {\"tool_name\": {\"type\": \"string\", \"description\": \"Name of the Asana operation to execute\"}, \"name\": {\"type\": \"string\", \"description\": \"Task name\"}, \"notes\": {\"type\": \"string\", \"description\": \"Task notes\"}, \"project\": {\"type\": \"string\", \"description\": \"Project GID\"}, \"task_gid\": {\"type\": \"string\", \"description\": \"Task GID\"}, \"workspace\": {\"type\": \"string\", \"description\": \"Workspace GID (optional)\"}}, \"required\": [\"tool_name\"]}}}}, \"responses\": {\"200\": {\"description\": \"Success\"}}}}}}\n",
      "✅ Creating gateway target...\n",
      "✅ Gateway target created: NLHQEQYOGG\n"
     ]
    }
   ],
   "source": [
    "%run agentcore_gateway_creation.py"
   ]
  },
  {
   "cell_type": "markdown",
   "id": "257f5949-904a-4569-9428-92f5d8ea1510",
   "metadata": {},
   "source": [
    "Let's look at OpenAPI Spec which is used to define the API for this:\n",
    "\n",
    "<img src=\"./images/bearer-token-in-api-spec.png\" alt=\"bearer token in api spec as a header\" title=\"bearer token in api spec as a header\" />\n",
    "\n",
    "The token is defined as a header parameter in the schema and forwarded in the HTTP header: ```X-Asana-Token```. \n",
    "\n",
    "This is most conventional pattern for authentication tokens."
   ]
  },
  {
   "cell_type": "markdown",
   "id": "f8caf0c8",
   "metadata": {},
   "source": [
    "### Step 3: Test end to end flow\n",
    "\n",
    "Let's now test the end to end flow where we will invoke ``` tools/list ``` from a MCP client."
   ]
  },
  {
   "cell_type": "code",
   "execution_count": 3,
   "id": "0eb7efe5-412f-4af3-89f2-4a883a3b53a9",
   "metadata": {},
   "outputs": [
    {
     "name": "stdout",
     "output_type": "stream",
     "text": [
      "access token received\n",
      "tools/list Status: 200\n",
      "Available Tools:\n",
      "{\n",
      "  \"jsonrpc\": \"2.0\",\n",
      "  \"id\": \"list-1\",\n",
      "  \"result\": {\n",
      "    \"tools\": [\n",
      "      {\n",
      "        \"inputSchema\": {\n",
      "          \"type\": \"object\",\n",
      "          \"properties\": {\n",
      "            \"tool_name\": {\n",
      "              \"description\": \"Name of the Asana operation to execute\",\n",
      "              \"type\": \"string\"\n",
      "            },\n",
      "            \"workspace\": {\n",
      "              \"description\": \"Workspace GID (optional)\",\n",
      "              \"type\": \"string\"\n",
      "            },\n",
      "            \"notes\": {\n",
      "              \"description\": \"Task notes\",\n",
      "              \"type\": \"string\"\n",
      "            },\n",
      "            \"X-Asana-Token\": {\n",
      "              \"description\": \"Bearer token for Asana authentication (passed through from agent)\",\n",
      "              \"type\": \"string\"\n",
      "            },\n",
      "            \"name\": {\n",
      "              \"description\": \"Task name\",\n",
      "              \"type\": \"string\"\n",
      "            },\n",
      "            \"project\": {\n",
      "              \"description\": \"Project GID\",\n",
      "              \"type\": \"string\"\n",
      "            },\n",
      "            \"task_gid\": {\n",
      "              \"description\": \"Task GID\",\n",
      "              \"type\": \"string\"\n",
      "            }\n",
      "          },\n",
      "          \"required\": [\n",
      "            \"X-Asana-Token\",\n",
      "            \"tool_name\"\n",
      "          ]\n",
      "        },\n",
      "        \"name\": \"AgentCoreGwyAPIGatewayTarget___asanaInvoke\",\n",
      "        \"description\": \"Catch-all Asana tool endpoint.\"\n",
      "      }\n",
      "    ]\n",
      "  }\n",
      "}\n"
     ]
    }
   ],
   "source": [
    "import os\n",
    "import boto3\n",
    "import time\n",
    "from botocore.exceptions import ClientError\n",
    "import utils\n",
    "import uuid\n",
    "import json\n",
    "import requests\n",
    "\n",
    "# Step 1: Get inbound Auth token for MCP client to authenticate with AgentCore\n",
    "token_url = utils.get_ssm_parameter(\"/app/asana/demo/agentcoregwy/cognito_token_url\")\n",
    "client_id = utils.get_ssm_parameter(\"/app/asana/demo/agentcoregwy/machine_client_id\")\n",
    "client_secret = utils.get_cognito_client_secret()\n",
    "inbound_auth_token = utils.fetch_access_token(client_id, client_secret, token_url)\n",
    "print(\"access token received\")\n",
    "\n",
    "# Step 2: Get Gateway config and prepare payload\n",
    "GATEWAY_MCP_URL = gateway_url = (\n",
    "    f\"https://{utils.get_ssm_parameter('/app/asana/demo/agentcoregwy/gateway_id')}.gateway.bedrock-agentcore.us-east-1.amazonaws.com/mcp\"\n",
    ")\n",
    "\n",
    "SESSION_ID = str(uuid.uuid4())\n",
    "headers = {\n",
    "    \"Authorization\": f\"Bearer {inbound_auth_token}\",  # For Inbound Auth\n",
    "    \"Content-Type\": \"application/json\",\n",
    "    \"Mcp-Session-Id\": SESSION_ID,\n",
    "}\n",
    "\n",
    "# Step 3: Call tools/list to get available tools\n",
    "list_body = {\"jsonrpc\": \"2.0\", \"id\": \"list-1\", \"method\": \"tools/list\"}\n",
    "\n",
    "list_response = requests.post(GATEWAY_MCP_URL, headers=headers, json=list_body)\n",
    "print(f\"tools/list Status: {list_response.status_code}\")\n",
    "print(\"Available Tools:\")\n",
    "print(json.dumps(list_response.json(), indent=2))"
   ]
  },
  {
   "cell_type": "markdown",
   "id": "be27ba3e",
   "metadata": {},
   "source": [
    "### Step 4: Bearer token injection from MCP client to AgentCore Gateway target\n",
    "\n",
    "Now we will pass the bearer token ``` Bearer ASANA-TOKEN ``` in the parameters (you would replace ``` ASANA-TOKEN ``` with the actual token your MCP client would have obtained) and invoke the tool ```AgentCoreGwyAPIGatewayTarget___asanaInvoke```. "
   ]
  },
  {
   "cell_type": "code",
   "execution_count": 4,
   "id": "668515a5-356a-45a4-8b64-81666f9d5cd8",
   "metadata": {},
   "outputs": [
    {
     "name": "stdout",
     "output_type": "stream",
     "text": [
      "tools/call Status: 200\n",
      "Tool Call Response:\n",
      "{\n",
      "  \"jsonrpc\": \"2.0\",\n",
      "  \"id\": \"call-1\",\n",
      "  \"result\": {\n",
      "    \"isError\": false,\n",
      "    \"content\": [\n",
      "      {\n",
      "        \"type\": \"text\",\n",
      "        \"text\": \"{\\\"message\\\":\\\"POST request processed successfully\\\",\\\"method\\\":\\\"POST\\\",\\\"endpoint\\\":\\\"/asana\\\",\\\"processed\\\":true,\\\"received_data\\\":{\\\"tool_name\\\":\\\"createTask\\\",\\\"notes\\\":\\\"This is a test description\\\",\\\"name\\\":\\\"Test Task from MCP\\\",\\\"project\\\":\\\"your-project-gid\\\"}}\"\n",
      "      }\n",
      "    ]\n",
      "  }\n",
      "}\n"
     ]
    }
   ],
   "source": [
    "# Step 4: Call tools/call with Asana token in arguments (will forward as header per updated schema)\n",
    "call_body = {\n",
    "    \"jsonrpc\": \"2.0\",\n",
    "    \"id\": \"call-1\",\n",
    "    \"method\": \"tools/call\",\n",
    "    \"params\": {\n",
    "        \"name\": \"AgentCoreGwyAPIGatewayTarget___asanaInvoke\",  # Exact name from tools/list\n",
    "        \"arguments\": {\n",
    "            \"tool_name\": \"createTask\",\n",
    "            \"X-Asana-Token\": \"Bearer ASANA-TOKEN\",  # Actual Asana bearer token here (forwards to header)\n",
    "            \"name\": \"Test Task from MCP\",\n",
    "            \"notes\": \"This is a test description\",\n",
    "            \"project\": \"your-project-gid\",  # Replace with actual Project GID\n",
    "        },\n",
    "    },\n",
    "}\n",
    "\n",
    "call_response = requests.post(GATEWAY_MCP_URL, headers=headers, json=call_body)\n",
    "print(f\"tools/call Status: {call_response.status_code}\")\n",
    "print(\"Tool Call Response:\")\n",
    "print(json.dumps(call_response.json(), indent=2))"
   ]
  },
  {
   "cell_type": "markdown",
   "id": "777d3d95",
   "metadata": {},
   "source": [
    "### Step 4: Verifying the token injection\n",
    "\n",
    "Let's verify the token injection by checking the logs in CloudWatch. The following screenshot shows the ``` Bearer token ``` passed from MCP client to AgentCore Gateway to the Lambda function in header ``` X-Asana-Token ``` as defined in the OpenAPI spec.\n",
    "\n",
    "<img src=\"./images/Lambda-log-received-headers.png\" alt=\"Bearer token injected as header\" title=\"Bearer token injected as header\" />\n",
    "\n",
    "Rest of the payload from MCP client is available to the Lambda function in the body of the event as shown below:\n",
    "<img src=\"./images/Lambda-log-received-body.png\" alt=\"payload body\" title=\"payload body\" />"
   ]
  },
  {
   "cell_type": "markdown",
   "id": "18038c9a-81ef-4778-9211-647fac66ad29",
   "metadata": {},
   "source": [
    "## Clean up"
   ]
  },
  {
   "cell_type": "markdown",
   "id": "aaf7d685-df5f-4eb3-9177-385f35df0448",
   "metadata": {},
   "source": [
    "### Delete AgentCore Gateway"
   ]
  },
  {
   "cell_type": "code",
   "execution_count": 1,
   "id": "83f05358-9687-42cd-8037-2dda6d6cb5dc",
   "metadata": {},
   "outputs": [
    {
     "name": "stdout",
     "output_type": "stream",
     "text": [
      "Deleting all targets for gateway agentcore-gw-asana-integration-zzszjee4wr\n",
      "Deleting target  PY6OTH3EZV\n",
      "Deleting gateway  agentcore-gw-asana-integration-zzszjee4wr\n"
     ]
    }
   ],
   "source": [
    "import utils\n",
    "import boto3\n",
    "\n",
    "gateway_client = boto3.client(\"bedrock-agentcore-control\")\n",
    "\n",
    "gateway_id = \"agentcore-gw-asana-integration-zzszjee4wr\"\n",
    "utils.delete_gateway(gateway_client, gateway_id)"
   ]
  },
  {
   "cell_type": "markdown",
   "id": "8e0d85d2-168d-47bb-a2c5-ca2f52199891",
   "metadata": {},
   "source": [
    "### Delete Cloudformation stacks"
   ]
  },
  {
   "cell_type": "code",
   "execution_count": null,
   "id": "6eb9a4a1-17d6-414a-9b5e-2ae2c2f658a8",
   "metadata": {},
   "outputs": [],
   "source": [
    "!bash clean_up.sh"
   ]
  }
 ],
 "metadata": {
  "kernelspec": {
   "display_name": "Python 3 (ipykernel)",
   "language": "python",
   "name": "python3"
  },
  "language_info": {
   "codemirror_mode": {
    "name": "ipython",
    "version": 3
   },
   "file_extension": ".py",
   "mimetype": "text/x-python",
   "name": "python",
   "nbconvert_exporter": "python",
   "pygments_lexer": "ipython3",
   "version": "3.13.7"
  }
 },
 "nbformat": 4,
 "nbformat_minor": 5
}
