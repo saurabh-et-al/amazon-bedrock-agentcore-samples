{
 "cells": [
  {
   "cell_type": "markdown",
   "id": "0",
   "metadata": {
    "jupyter": {
     "outputs_hidden": true
    }
   },
   "source": [
    "# Integrate your own MCP Server into AgentCore Gateway\n",
    "\n",
    "## Overview\n",
    "\n",
    "In large enterprises with thousands of development teams, each running multiple MCP servers with several tools, managing and discovering tools becomes a critical challenge:\n",
    "\n",
    "* **Tool Discovery and Sharing**: Teams struggle to discover and consume tools across the organization. Should each team maintain separate gateways? How do you share gateway URLs and manage central registries without creating operational overhead?\n",
    "* **Gateway Management**: Maintaining separate gateways for each MCP server quickly becomes unmanageable at scale.\n",
    "* **Authentication Complexity**: Managing authentication and authorization across multiple MCP servers becomes increasingly complex, especially with sensitive enterprise data.\n",
    "* **Maintenance Overhead**: Keeping up with MCP specification updates requires continuous rework and testing across all implementations.\n",
    "\n",
    "AgentCore Gateway now supports onboarding pre-existing MCP server implementations as targets, in addition to Lambda and OpenAPI tools. This tutorial demonstrates the concept using a simple MCP server in AgentCore Runtime for this implementation.\n",
    "\n",
    "![Diagram](images/mcp-server-target.png)\n",
    "\n",
    "Once the AgentCore Gateway is integrated with the MCP server as a target, we'll search for tools through our integrated MCP server, then we'll use a Strands Agent to demonstrate the list tools and invoke tool functionality. More detail on each of these flows can be found below:\n",
    "\n",
    "### Search tool behavior for MCP Targets\n",
    "\n",
    "The search capability in AgentCore Gateway enables semantic discovery of tools across all target types, including MCP targets. For MCP targets, the search functionality operates on normalized tool definitions that were captured and indexed during synchronization operations, providing efficient semantic search without real-time MCP server communication. When tool definitions are synchronized from an MCP target, Gateway automatically generates embeddings for each tool's name, description, and parameter descriptions. These embeddings are stored alongside the normalized tool definitions, enabling semantic search that understands the intent and context of search queries. Unlike traditional keyword matching, this allows agents to discover relevant tools even when exact terminology doesn't match.\n",
    "\n",
    "![Search](images/mcp-server-search-tool.png)\n",
    "\n",
    "### ListTools behavior for MCP Targets\n",
    "\n",
    "The ListTools operation in AgentCore Gateway provides access to tool definitions previously synchronized from MCP targets, following a cache-first approach that prioritizes performance and reliability. Unlike traditional OpenAPI or Lambda targets where tool definitions are statically defined, MCP target tools are discovered and cached through synchronization operations. When a client calls ListTools, the Gateway retrieves tool definitions from its persistent storage rather than making real-time calls to the MCP server. These definitions were previously populated either through implicit synchronization during target creation/update or through explicit SynchronizeGateway API calls. The operation returns a paginated list of normalized tool definitions.\n",
    "\n",
    "![List](images/mcp-server-list-tools.png)\n",
    "\n",
    "### InvokeTool (tools/call) Behavior for MCP Targets\n",
    "\n",
    "The InvokeTool operation for MCP targets handles the actual execution of tools discovered through ListTools, managing real-time communication with the target MCP server. Unlike the cache-based ListTools operation, tools/call requires active communication with the MCP server, introducing specific authentication, session management, and error handling requirements. When a tools/call request arrives, Gateway first validates the tool exists in its synchronized definitions. For MCP targets, Gateway performs an initial 'initialize' call to establish a session with the MCP server. If the target is configured with OAuth credentials, Gateway retrieves fresh credentials from AgentCore Identity before making the initialize call. This ensures that even if ListTools returned cached tools with expired credentials, the actual invocation uses valid authentication.\n",
    "\n",
    "![Invoke](images/mcp-server-invoke-tool.png)\n",
    "\n",
    "\n",
    "### Tutorial Details\n",
    "\n",
    "\n",
    "| Information          | Details                                                   |\n",
    "|:---------------------|:----------------------------------------------------------|\n",
    "| Tutorial type        | Interactive                                               |\n",
    "| AgentCore components | AgentCore Gateway, AgentCore Identity                     |\n",
    "| Agentic Framework    | Strands Agents                                            |\n",
    "| Gateway Target type  | MCP server                                                |\n",
    "| Agent                | Strands                                                   |\n",
    "| Inbound Auth IdP     | Amazon Cognito, but can use others                        |\n",
    "| Outbound Auth        | Amazon Cognito, but can use others                        |\n",
    "| LLM model            | Anthropic Claude Sonnet 4                                 |\n",
    "| Tutorial components  | Creating AgentCore Gateway and Invoking AgentCore Gateway |\n",
    "| Tutorial vertical    | Cross-vertical                                            |\n",
    "| Example complexity   | Easy                                                      |\n",
    "| SDK used             | boto3                                                     |\n",
    "\n",
    "## Tutorial architecture\n",
    "\n",
    "This tutorial serves as a practical example of the broader enterprise challenge: **How to integrate existing MCP servers into a centralized Gateway architecture.**"
   ]
  },
  {
   "cell_type": "markdown",
   "id": "1",
   "metadata": {},
   "source": [
    "## Prerequisites\n",
    "\n",
    "To execute this tutorial you will need:\n",
    "* Jupyter notebook (Python kernel)\n",
    "* uv\n",
    "* AWS credentials\n",
    "* Amazon Cognito"
   ]
  },
  {
   "cell_type": "code",
   "execution_count": null,
   "id": "2",
   "metadata": {},
   "outputs": [],
   "source": [
    "# Install from the requirements file or pyproject.toml file in current directory\n",
    "!pip install --force-reinstall -U -r requirements.txt --quiet"
   ]
  },
  {
   "cell_type": "code",
   "execution_count": null,
   "id": "3",
   "metadata": {},
   "outputs": [],
   "source": [
    "import os\n",
    "# Set AWS credentials if not using SageMaker notebook\n",
    "# os.environ['AWS_ACCESS_KEY_ID'] = '' # Set the access key\n",
    "# os.environ['AWS_SECRET_ACCESS_KEY'] = '' # Set the secret key\n",
    "os.environ['AWS_DEFAULT_REGION'] = os.environ.get('AWS_REGION', 'us-east-1')"
   ]
  },
  {
   "cell_type": "code",
   "execution_count": null,
   "id": "4",
   "metadata": {},
   "outputs": [],
   "source": [
    "# Import utils\n",
    "import os\n",
    "import sys\n",
    "\n",
    "# Get the directory of the current script\n",
    "if '__file__' in globals():\n",
    "    current_dir = os.path.dirname(os.path.abspath(__file__))\n",
    "else:\n",
    "    current_dir = os.getcwd()  # Fallback if __file__ is not defined (e.g., Jupyter)\n",
    "\n",
    "# Navigate to the directory containing utils.py (one level up)\n",
    "utils_dir = os.path.abspath(os.path.join(current_dir, '..'))\n",
    "\n",
    "# Add to sys.path\n",
    "sys.path.insert(0, utils_dir)\n",
    "\n",
    "# Now you can import utils\n",
    "import utils\n",
    "\n",
    "# Setup logging \n",
    "import logging\n",
    "\n",
    "# Configure logging for notebook environment\n",
    "logging.basicConfig(\n",
    "    level=logging.INFO,\n",
    "    format=\"%(asctime)s | %(levelname)s | %(name)s | %(message)s\",\n",
    "    handlers=[logging.StreamHandler()]\n",
    ")\n",
    "\n",
    "# Set specific logger levels\n",
    "logging.getLogger(\"strands\").setLevel(logging.INFO)\n"
   ]
  },
  {
   "cell_type": "markdown",
   "id": "5",
   "metadata": {},
   "source": [
    "## Create an IAM role for the Gateway to assume"
   ]
  },
  {
   "cell_type": "code",
   "execution_count": null,
   "id": "6",
   "metadata": {},
   "outputs": [],
   "source": [
    "agentcore_gateway_iam_role = utils.create_agentcore_gateway_role(\"sample-mcpgateway\")\n",
    "print(\"Agentcore gateway role ARN: \", agentcore_gateway_iam_role['Role']['Arn'])"
   ]
  },
  {
   "cell_type": "markdown",
   "id": "7",
   "metadata": {},
   "source": [
    "## Create Amazon Cognito Pool for Inbound authorization to Gateway"
   ]
  },
  {
   "cell_type": "code",
   "execution_count": null,
   "id": "8",
   "metadata": {},
   "outputs": [],
   "source": [
    "# Creating Cognito User Pool \n",
    "import os\n",
    "import boto3\n",
    "\n",
    "REGION = os.environ['AWS_DEFAULT_REGION']\n",
    "USER_POOL_NAME = \"sample-agentcore-gateway-pool\"\n",
    "RESOURCE_SERVER_ID = \"sample-agentcore-gateway-id\"\n",
    "RESOURCE_SERVER_NAME = \"sample-agentcore-gateway-name\"\n",
    "CLIENT_NAME = \"sample-agentcore-gateway-client\"\n",
    "SCOPES = [\n",
    "    {\"ScopeName\": \"invoke\",  # Just 'invoke', will be formatted as resource_server_id/invoke\n",
    "    \"ScopeDescription\": \"Scope for invoking the agentcore gateway\"},\n",
    "]\n",
    "\n",
    "scope_names = [f\"{RESOURCE_SERVER_ID}/{scope['ScopeName']}\" for scope in SCOPES]\n",
    "scopeString = \" \".join(scope_names)\n",
    "\n",
    "\n",
    "cognito = boto3.client(\"cognito-idp\", region_name=REGION)\n",
    "\n",
    "print(\"Creating or retrieving Cognito resources...\")\n",
    "gw_user_pool_id = utils.get_or_create_user_pool(cognito, USER_POOL_NAME)\n",
    "print(f\"User Pool ID: {gw_user_pool_id}\")\n",
    "\n",
    "utils.get_or_create_resource_server(cognito, gw_user_pool_id, RESOURCE_SERVER_ID, RESOURCE_SERVER_NAME, SCOPES)\n",
    "print(\"Resource server ensured.\")\n",
    "\n",
    "gw_client_id, gw_client_secret = utils.get_or_create_m2m_client(cognito, gw_user_pool_id, CLIENT_NAME, RESOURCE_SERVER_ID, scope_names)\n",
    "\n",
    "print(f\"Client ID: {gw_client_id}\")\n",
    "\n",
    "# Get discovery URL\n",
    "gw_cognito_discovery_url = f'https://cognito-idp.{REGION}.amazonaws.com/{gw_user_pool_id}/.well-known/openid-configuration'\n",
    "print(gw_cognito_discovery_url)"
   ]
  },
  {
   "cell_type": "markdown",
   "id": "9",
   "metadata": {},
   "source": [
    "## Create Amazon Cognito Pool for Inbound authorization to Runtime\n",
    "This section highlights the ability for the gateway to have a separate inbound authentication from its target systems. This allows agents to access tools that use multiple identity providers through a single interface."
   ]
  },
  {
   "cell_type": "code",
   "execution_count": null,
   "id": "10",
   "metadata": {},
   "outputs": [],
   "source": [
    "# Creating Cognito User Pool\n",
    "import os\n",
    "import boto3\n",
    "\n",
    "REGION = os.environ['AWS_DEFAULT_REGION']\n",
    "USER_POOL_NAME = \"sample-agentcore-runtime-pool\"\n",
    "RESOURCE_SERVER_ID = \"sample-agentcore-runtime-id\"\n",
    "RESOURCE_SERVER_NAME = \"sample-agentcore-runtime-name\"\n",
    "CLIENT_NAME = \"sample-agentcore-runtime-client\"\n",
    "SCOPES = [\n",
    "    {\"ScopeName\": \"invoke\",  # Just 'invoke', will be formatted as resource_server_id/invoke\n",
    "    \"ScopeDescription\": \"Scope for invoking the agentcore gateway\"},\n",
    "]\n",
    "\n",
    "scope_names = [f\"{RESOURCE_SERVER_ID}/{scope['ScopeName']}\" for scope in SCOPES]\n",
    "runtimeScopeString = \" \".join(scope_names)\n",
    "\n",
    "\n",
    "cognito = boto3.client(\"cognito-idp\", region_name=REGION)\n",
    "\n",
    "print(\"Creating or retrieving Cognito resources...\")\n",
    "runtime_user_pool_id = utils.get_or_create_user_pool(cognito, USER_POOL_NAME)\n",
    "print(f\"User Pool ID: {runtime_user_pool_id}\")\n",
    "\n",
    "utils.get_or_create_resource_server(cognito, runtime_user_pool_id, RESOURCE_SERVER_ID, RESOURCE_SERVER_NAME, SCOPES)\n",
    "print(\"Resource server ensured.\")\n",
    "\n",
    "runtime_client_id, runtime_client_secret = utils.get_or_create_m2m_client(cognito, runtime_user_pool_id, CLIENT_NAME, RESOURCE_SERVER_ID, scope_names)\n",
    "\n",
    "print(f\"Client ID: {runtime_client_id}\")\n",
    "\n",
    "# Get discovery URL\n",
    "runtime_cognito_discovery_url = f'https://cognito-idp.{REGION}.amazonaws.com/{runtime_user_pool_id}/.well-known/openid-configuration'\n",
    "print(runtime_cognito_discovery_url)"
   ]
  },
  {
   "cell_type": "markdown",
   "id": "11",
   "metadata": {},
   "source": [
    "## Create the Gateway"
   ]
  },
  {
   "cell_type": "code",
   "execution_count": null,
   "id": "12",
   "metadata": {},
   "outputs": [],
   "source": [
    "# CreateGateway with Cognito authorizer. Use the Cognito user pool created in the previous step\n",
    "import boto3\n",
    "gateway_client = boto3.client('bedrock-agentcore-control', region_name=REGION)\n",
    "auth_config = {\n",
    "    \"customJWTAuthorizer\": { \n",
    "        \"allowedClients\": [gw_client_id],  # Client MUST match with the ClientId configured in Cognito. Example: 7rfbikfsm51j2fpaggacgng84g\n",
    "        \"discoveryUrl\": gw_cognito_discovery_url\n",
    "    }\n",
    "}\n",
    "create_response = gateway_client.create_gateway(name='ac-gateway-mcp-server',\n",
    "    roleArn=agentcore_gateway_iam_role['Role']['Arn'], # The IAM Role must have permissions to create/list/get/delete Gateway\n",
    "    protocolType='MCP',\n",
    "    protocolConfiguration={\n",
    "        'mcp': {\n",
    "            'supportedVersions': ['2025-03-26'],\n",
    "            'searchType': 'SEMANTIC'\n",
    "        }\n",
    "    },\n",
    "    authorizerType='CUSTOM_JWT',\n",
    "    authorizerConfiguration=auth_config,\n",
    "    description='AgentCore Gateway with MCP Server target'\n",
    ")\n",
    "print(create_response)\n",
    "# Retrieve the GatewayID used for GatewayTarget creation\n",
    "gatewayID = create_response[\"gatewayId\"]\n",
    "gatewayURL = create_response[\"gatewayUrl\"]\n",
    "print(gatewayID)"
   ]
  },
  {
   "cell_type": "markdown",
   "id": "13",
   "metadata": {},
   "source": [
    "## Create a sample MCP Server and host it in Runtime"
   ]
  },
  {
   "cell_type": "markdown",
   "id": "14",
   "metadata": {},
   "source": [
    "You can replace below with your MCP server that might already exist. This section follows the example in the [Hosting MCP Server on Amazon Bedrock AgentCore Runtime](https://github.com/awslabs/amazon-bedrock-agentcore-samples/blob/main/01-tutorials/01-AgentCore-runtime/02-hosting-MCP-server/hosting_mcp_server.ipynb) tutorial."
   ]
  },
  {
   "cell_type": "code",
   "execution_count": null,
   "id": "15",
   "metadata": {},
   "outputs": [],
   "source": [
    "%%writefile mcp_server.py\n",
    "from mcp.server.fastmcp import FastMCP\n",
    "\n",
    "mcp = FastMCP(host=\"0.0.0.0\", stateless_http=True)\n",
    "\n",
    "@mcp.tool()\n",
    "def getOrder() -> int:\n",
    "    \"\"\"Get an order\"\"\"\n",
    "    return 123\n",
    "\n",
    "@mcp.tool()\n",
    "def updateOrder(orderId: int) -> int:\n",
    "    \"\"\"Update existing order\"\"\"\n",
    "    return 456\n",
    "\n",
    "if __name__ == \"__main__\":\n",
    "    mcp.run(transport=\"streamable-http\")"
   ]
  },
  {
   "cell_type": "markdown",
   "id": "16",
   "metadata": {},
   "source": [
    "Next, configure the AgentCore Runtime environment."
   ]
  },
  {
   "cell_type": "code",
   "execution_count": null,
   "id": "17",
   "metadata": {},
   "outputs": [],
   "source": [
    "from bedrock_agentcore_starter_toolkit import Runtime\n",
    "from boto3.session import Session\n",
    "\n",
    "boto_session = Session()\n",
    "region = boto_session.region_name\n",
    "print(f\"Using AWS region: {region}\")\n",
    "\n",
    "required_files = ['mcp_server.py', 'requirements.txt']\n",
    "for file in required_files:\n",
    "    if not os.path.exists(file):\n",
    "        raise FileNotFoundError(f\"Required file {file} not found\")\n",
    "print(\"All required files found ✓\")\n",
    "agentcore_runtime = Runtime()\n",
    "\n",
    "auth_config = {\n",
    "    \"customJWTAuthorizer\": {\n",
    "        \"allowedClients\": [\n",
    "            runtime_client_id\n",
    "        ],\n",
    "        \"discoveryUrl\": runtime_cognito_discovery_url\n",
    "    }\n",
    "}\n",
    "\n",
    "print(\"Configuring AgentCore Runtime...\")\n",
    "response = agentcore_runtime.configure(\n",
    "    entrypoint=\"mcp_server.py\",\n",
    "    auto_create_execution_role=True,\n",
    "    auto_create_ecr=True,\n",
    "    requirements_file=\"requirements.txt\",\n",
    "    region=region,\n",
    "    authorizer_configuration=auth_config,\n",
    "    protocol=\"MCP\",\n",
    "    agent_name=\"ac_gateway_mcp_server\"\n",
    ")\n",
    "print(\"Configuration completed ✓\")"
   ]
  },
  {
   "cell_type": "markdown",
   "id": "18",
   "metadata": {},
   "source": [
    "Then, deploy to AgentCore Runtime."
   ]
  },
  {
   "cell_type": "code",
   "execution_count": null,
   "id": "19",
   "metadata": {},
   "outputs": [],
   "source": [
    "print(\"Launching MCP server to AgentCore Runtime...\")\n",
    "print(\"This may take several minutes...\")\n",
    "launch_result = agentcore_runtime.launch()\n",
    "\n",
    "agent_arn = launch_result.agent_arn\n",
    "agent_id = launch_result.agent_id\n",
    "\n",
    "encoded_arn = agent_arn.replace(':', '%3A').replace('/', '%2F')\n",
    "\n",
    "agent_url = f'https://bedrock-agentcore.{region}.amazonaws.com/runtimes/{encoded_arn}/invocations?qualifier=DEFAULT'\n",
    "print(\"Launch completed ✓\")\n",
    "print(f\"Agent ARN: {agent_arn}\")\n",
    "print(f\"Agent ID: {agent_id}\")"
   ]
  },
  {
   "cell_type": "markdown",
   "id": "20",
   "metadata": {},
   "source": [
    "## Create an MCP server as target for AgentCore Gateway"
   ]
  },
  {
   "cell_type": "markdown",
   "id": "21",
   "metadata": {},
   "source": [
    "### Configure Outbound Auth\n",
    "\n",
    "First, we will create an AgentCore Identity Resource Credential Provider for our AgentCore Gateway to use as outbound auth to our MCP server in AgentCore Runtime."
   ]
  },
  {
   "cell_type": "code",
   "execution_count": null,
   "id": "22",
   "metadata": {},
   "outputs": [],
   "source": [
    "import boto3\n",
    "identity_client = boto3.client('bedrock-agentcore-control', region_name=REGION)\n",
    "\n",
    "cognito_provider = identity_client.create_oauth2_credential_provider(\n",
    "    name=\"ac-gateway-mcp-server-identity\",\n",
    "    credentialProviderVendor=\"CustomOauth2\",\n",
    "    oauth2ProviderConfigInput={\n",
    "        'customOauth2ProviderConfig': {\n",
    "            'oauthDiscovery': {\n",
    "                'discoveryUrl': runtime_cognito_discovery_url,\n",
    "            },\n",
    "            'clientId': runtime_client_id,\n",
    "            'clientSecret': runtime_client_secret\n",
    "        }\n",
    "    }\n",
    ")\n",
    "cognito_provider_arn = cognito_provider['credentialProviderArn']\n",
    "print(cognito_provider_arn)"
   ]
  },
  {
   "cell_type": "markdown",
   "id": "23",
   "metadata": {},
   "source": [
    "### Create the Gateway Target"
   ]
  },
  {
   "cell_type": "code",
   "execution_count": null,
   "id": "24",
   "metadata": {},
   "outputs": [],
   "source": [
    "import boto3\n",
    "gateway_client = boto3.client('bedrock-agentcore-control', region_name=REGION)\n",
    "create_gateway_target_response = gateway_client.create_gateway_target(\n",
    "    name='mcp-server-target',\n",
    "    gatewayIdentifier=gatewayID,\n",
    "    targetConfiguration={\n",
    "        'mcp': {\n",
    "            'mcpServer': {\n",
    "                'endpoint': agent_url\n",
    "            }\n",
    "        }\n",
    "    },\n",
    "    credentialProviderConfigurations=[\n",
    "        {\n",
    "            'credentialProviderType': 'OAUTH',\n",
    "            'credentialProvider': {\n",
    "                'oauthCredentialProvider': {\n",
    "                    'providerArn': cognito_provider_arn,\n",
    "                    'scopes': [\n",
    "                        runtimeScopeString\n",
    "                    ]\n",
    "                }\n",
    "            }\n",
    "        },\n",
    "    ]\n",
    ")\n",
    "print(create_gateway_target_response)"
   ]
  },
  {
   "cell_type": "markdown",
   "id": "25",
   "metadata": {},
   "source": [
    "#### Check that the Gateway target exists, and is READY"
   ]
  },
  {
   "cell_type": "code",
   "execution_count": null,
   "id": "26",
   "metadata": {},
   "outputs": [],
   "source": [
    "list_targets_response = gateway_client.list_gateway_targets(gatewayIdentifier=gatewayID)\n",
    "print(list_targets_response)"
   ]
  },
  {
   "cell_type": "markdown",
   "id": "27",
   "metadata": {},
   "source": [
    "#### Request the access token from Amazon Cognito for inbound authorization"
   ]
  },
  {
   "cell_type": "code",
   "execution_count": null,
   "id": "28",
   "metadata": {},
   "outputs": [],
   "source": [
    "print(\"Requesting the access token from Amazon Cognito authorizer...May fail for some time till the domain name propagation completes\")\n",
    "token_response = utils.get_token(gw_user_pool_id, gw_client_id, gw_client_secret, scopeString, REGION)\n",
    "token = token_response[\"access_token\"]\n",
    "print(\"Token response:\", token)"
   ]
  },
  {
   "cell_type": "markdown",
   "id": "29",
   "metadata": {},
   "source": [
    "## Search for MCP Server tools through the Gateway"
   ]
  },
  {
   "cell_type": "code",
   "execution_count": null,
   "id": "30",
   "metadata": {},
   "outputs": [],
   "source": [
    "import requests\n",
    "import json\n",
    "\n",
    "def search_tools(gateway_url, access_token, query):\n",
    "    headers = {\n",
    "        \"Content-Type\": \"application/json\",\n",
    "        \"Authorization\": f\"Bearer {access_token}\"\n",
    "    }\n",
    "\n",
    "    payload = {\n",
    "        \"jsonrpc\": \"2.0\",\n",
    "        \"id\": \"search-tools-request\",\n",
    "        \"method\": \"tools/call\",\n",
    "        \"params\": {\n",
    "            \"name\": \"x_amz_bedrock_agentcore_search\",\n",
    "            \"arguments\": {\n",
    "                \"query\": query\n",
    "            }\n",
    "        }\n",
    "    }\n",
    "\n",
    "    response = requests.post(gateway_url, headers=headers, json=payload)\n",
    "    return response.json()\n",
    "\n",
    "# Example usage\n",
    "token_response = utils.get_token(gw_user_pool_id, gw_client_id, gw_client_secret, scopeString, REGION)\n",
    "access_token = token_response['access_token']\n",
    "results = search_tools(gatewayURL, access_token, \"orders\")\n",
    "print(json.dumps(results, indent=2))"
   ]
  },
  {
   "cell_type": "markdown",
   "id": "31",
   "metadata": {},
   "source": [
    "For more relevant examples on AgentCore Gateway search functionality, see [03-search-tools](../03-search-tools)."
   ]
  },
  {
   "cell_type": "markdown",
   "id": "32",
   "metadata": {},
   "source": [
    "## Use an agent to operate on orders via the Gateway"
   ]
  },
  {
   "cell_type": "code",
   "execution_count": null,
   "id": "33",
   "metadata": {},
   "outputs": [],
   "source": [
    "import json\n",
    "\n",
    "import requests\n",
    "from strands.models import BedrockModel\n",
    "from mcp.client.streamable_http import streamablehttp_client\n",
    "from strands.tools.mcp.mcp_client import MCPClient\n",
    "from strands import Agent\n",
    "\n",
    "\n",
    "def get_token():\n",
    "    token = utils.get_token(gw_user_pool_id, gw_client_id, gw_client_secret, scopeString, REGION)\n",
    "    return token['access_token']\n",
    "\n",
    "\n",
    "def create_streamable_http_transport():\n",
    "    return streamablehttp_client(\n",
    "        gatewayURL, headers={\"Authorization\": f\"Bearer {get_token()}\"}\n",
    "    )\n",
    "\n",
    "\n",
    "client = MCPClient(create_streamable_http_transport)\n",
    "\n",
    "## The IAM group/user/ configured in ~/.aws/credentials should have access to Bedrock model\n",
    "yourmodel = BedrockModel(\n",
    "    model_id=\"us.anthropic.claude-sonnet-4-20250514-v1:0\", # may need to update model_id depending on region\n",
    "    temperature=0.7,\n",
    "    max_tokens=500,  # Limit response length\n",
    ")\n",
    "\n",
    "with client:\n",
    "    # Call the listTools\n",
    "    tools = client.list_tools_sync()\n",
    "    # Create an Agent with the model and tools\n",
    "    agent = Agent(\n",
    "        model=yourmodel, tools=tools\n",
    "    )  ## you can replace with any model you like\n",
    "    # Invoke the agent with the sample prompt. This will only invoke MCP listTools and retrieve the list of tools the LLM has access to. The below does not actually call any tool.\n",
    "    agent(\"Hi, can you list all tools available to you\")\n",
    "    # Simplified prompt and error handling\n",
    "    result = agent(\"Update order 123\")"
   ]
  },
  {
   "cell_type": "markdown",
   "id": "34",
   "metadata": {},
   "source": [
    "## Clean up\n",
    "Additional resources are also created like IAM role, IAM Policies, Credentials provider, AWS Lambda functions, Cognito user pools, s3 buckets that you might need to manually delete as part of the clean up. This depends on the example you run.\n",
    "\n",
    "### NOTE: if you are moving on to the next notebook, [02-mcp-target-synchronization](02-mcp-target-synchronization.ipynb), we suggest retaining these resources for the next tutorial."
   ]
  },
  {
   "cell_type": "markdown",
   "id": "35",
   "metadata": {},
   "source": [
    "### Delete the Gateway (Optional)"
   ]
  },
  {
   "cell_type": "code",
   "execution_count": null,
   "id": "36",
   "metadata": {},
   "outputs": [],
   "source": [
    "utils.delete_gateway(gateway_client, gatewayID)"
   ]
  },
  {
   "cell_type": "markdown",
   "id": "37",
   "metadata": {},
   "source": [
    "### Delete the Identity Provider (Optional)"
   ]
  },
  {
   "cell_type": "code",
   "execution_count": null,
   "id": "38",
   "metadata": {},
   "outputs": [],
   "source": [
    "identity_client.delete_oauth2_credential_provider(name='ac-gateway-mcp-server-identity')"
   ]
  },
  {
   "cell_type": "markdown",
   "id": "39",
   "metadata": {},
   "source": [
    "### Delete the Runtime (Optional)"
   ]
  },
  {
   "cell_type": "code",
   "execution_count": null,
   "id": "40",
   "metadata": {},
   "outputs": [],
   "source": [
    "import boto3\n",
    "runtime_client = boto3.client('bedrock-agentcore-control', region_name=REGION)\n",
    "runtime_client.delete_agent_runtime(agentRuntimeId=agent_id)"
   ]
  }
 ],
 "metadata": {
  "kernelspec": {
   "display_name": "Python 3 (ipykernel)",
   "language": "python",
   "name": "python3"
  },
  "language_info": {
   "codemirror_mode": {
    "name": "ipython",
    "version": 3
   },
   "file_extension": ".py",
   "mimetype": "text/x-python",
   "name": "python",
   "nbconvert_exporter": "python",
   "pygments_lexer": "ipython3",
   "version": "3.12.9"
  }
 },
 "nbformat": 4,
 "nbformat_minor": 5
}
