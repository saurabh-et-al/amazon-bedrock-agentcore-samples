{
 "cells": [
  {
   "cell_type": "markdown",
   "id": "4ba51a29-a566-4b5a-97f0-10e634567e40",
   "metadata": {
    "collapsed": true,
    "jupyter": {
     "outputs_hidden": true
    }
   },
   "source": [
    "# Refreshing tool definitions of your MCP servers in AgentCore Gateway\n",
    "\n",
    "## Overview\n",
    "\n",
    "The synchronization mechanism in AgentCore Gateway ensures accurate tool definitions from MCP server targets. It manages schema consistency, optimizes performance, and maintains data integrity through both explicit and implicit synchronization methods.\n",
    "\n",
    "### Explicit Synchronization\n",
    "\n",
    "The SynchronizeGateway API is an asynchronous operation that enables on-demand synchronization of tools from MCP server targets. This API provides customers with explicit control over when to refresh their tool definitions, particularly useful after making changes to their MCP server's tool configurations. For targets configured with OAuth authentication, the API first validates credentials through the AgentCore Identity service before proceeding with MCP server communication. If validation fails, the synchronization operation fails with appropriate error details, transitioning the target to a FAILED state. For targets configured without authentication, the API proceeds directly to tool synchronization.\n",
    "\n",
    "The tool processing workflow begins with establishing a session with the MCP server. The API then retrieves and processes tools in optimized batches, adding target-specific prefixes to prevent naming collisions with tools from other targets. The API enforces a limit of 10,000 tools per target and ensures tool definitions are normalized while preserving essential metadata from the original MCP server definitions.\n",
    "\n",
    "In this tutorial, we will update the MCP Server created in '01-Gateway-MCP-Target' by adding additional tools and then invoke the SynchronizeGateway API to explicitly synchronize the latest tool definitions.\n",
    "\n",
    "![Diagram](images/mcp-server-target-explicit-sync.png)\n",
    "\n",
    "### Implicit Synchronization\n",
    "\n",
    "AgentCore Gateway performs an implicit synchronization during CreateGatewayTarget and UpdateGatewayTarget operations that differs from the explicit SynchronizeGateway API. This built-in synchronization ensures that newly created or updated MCP targets are immediately usable while maintaining data consistency. This implicit synchronization ensures that MCP targets are always created or updated with valid, current tool definitions, maintaining Gateway's guarantee that any target in READY state is immediately usable. \n",
    "\n",
    "In this tutorial, we will create a new MCP Server and call UpdateGatewayTarget operation to update the new MCP target that implicitly synchronize the tool definitions from new MCP Server.\n",
    "\n",
    "![Diagram](images/mcp-server-target-implicit-sync.png)\n",
    "\n",
    "### Tutorial Details\n",
    "\n",
    "\n",
    "| Information          | Details                                                              |\n",
    "|:---------------------|:---------------------------------------------------------------------|\n",
    "| Tutorial type        | Interactive                                                          |\n",
    "| AgentCore components | AgentCore Gateway, AgentCore Identity, AgentCore Runtime             |\n",
    "| Agentic Framework    | Strands Agents                                                       |\n",
    "| Gateway Target type  | MCP server                                                           |\n",
    "| Agent                | Strands                                                              |\n",
    "| Inbound Auth IdP     | Amazon Cognito, but can use others                                   |\n",
    "| Outbound Auth        | Amazon Cognito, but can use others                                   |\n",
    "| LLM model            | Anthropic Claude Sonnet 4                                            |\n",
    "| Tutorial components  | Creating AgentCore Gateway with MCP Target and synchronize the tools |\n",
    "| Tutorial vertical    | Cross-vertical                                                       |\n",
    "| Example complexity   | Easy                                                                 |\n",
    "| SDK used             | boto3                                                                |\n",
    "\n",
    "## Tutorial architecture\n",
    "\n",
    "In this tutorial, we will describe how to trigger both explicit and implicit synchronization of tool definitions from MCP server targets within AgentCore Gateway"
   ]
  },
  {
   "cell_type": "markdown",
   "id": "5362e1ad-f027-4452-a8d9-0b861c0115c2",
   "metadata": {},
   "source": [
    "## Prerequisites\n",
    "\n",
    "To execute this tutorial you will need:\n",
    "* Jupyter notebook (Python kernel)\n",
    "* uv\n",
    "* AWS credentials\n",
    "* Amazon Cognito"
   ]
  },
  {
   "cell_type": "code",
   "execution_count": null,
   "id": "a17e1d70-9a76-42ce-b1ac-1c3a0bf4d12c",
   "metadata": {
    "ExecuteTime": {
     "end_time": "2025-10-03T22:09:51.408382Z",
     "start_time": "2025-10-03T22:09:29.714867Z"
    }
   },
   "outputs": [],
   "source": [
    "# Install from the requirements file or pyproject.toml file in current directory\n",
    "!pip install --force-reinstall -U -r requirements.txt --quiet"
   ]
  },
  {
   "cell_type": "code",
   "execution_count": null,
   "id": "a4e6248d-b740-418b-ae0d-c0a9623e43e1",
   "metadata": {
    "ExecuteTime": {
     "end_time": "2025-10-03T22:09:55.319931Z",
     "start_time": "2025-10-03T22:09:55.308909Z"
    }
   },
   "outputs": [],
   "source": [
    "# Set AWS credentials if not using Amazon SageMaker notebook\n",
    "import os\n",
    "# os.environ['AWS_ACCESS_KEY_ID'] = '' # Set the access key\n",
    "# os.environ['AWS_SECRET_ACCESS_KEY'] = '' # Set the secret key\n",
    "os.environ['AWS_DEFAULT_REGION'] = os.environ.get('AWS_REGION', 'us-east-1')"
   ]
  },
  {
   "cell_type": "code",
   "execution_count": null,
   "id": "4ca94412-7337-4293-ab74-aa2e77507fd0",
   "metadata": {
    "ExecuteTime": {
     "end_time": "2025-10-03T22:09:58.651360Z",
     "start_time": "2025-10-03T22:09:58.222127Z"
    }
   },
   "outputs": [],
   "source": [
    "# Import utils\n",
    "import os\n",
    "import sys\n",
    "\n",
    "# Get the directory of the current script\n",
    "if '__file__' in globals():\n",
    "    current_dir = os.path.dirname(os.path.abspath(__file__))\n",
    "else:\n",
    "    current_dir = os.getcwd()  # Fallback if __file__ is not defined (e.g., Jupyter)\n",
    "\n",
    "# Navigate to the directory containing utils.py (one level up)\n",
    "utils_dir = os.path.abspath(os.path.join(current_dir, '..'))\n",
    "\n",
    "# Add to sys.path\n",
    "sys.path.insert(0, utils_dir)\n",
    "\n",
    "# Now you can import utils\n",
    "import utils\n",
    "\n",
    "# Setup logging \n",
    "import logging\n",
    "\n",
    "# Configure logging for notebook environment\n",
    "logging.basicConfig(\n",
    "    level=logging.INFO,\n",
    "    format=\"%(asctime)s | %(levelname)s | %(name)s | %(message)s\",\n",
    "    handlers=[logging.StreamHandler()]\n",
    ")\n",
    "\n",
    "# Set specific logger levels\n",
    "logging.getLogger(\"gateway\").setLevel(logging.INFO)"
   ]
  },
  {
   "cell_type": "markdown",
   "id": "65120594-c3ec-4d51-810b-8d478851d8d2",
   "metadata": {},
   "source": [
    "# Perform Explicit Synchronization"
   ]
  },
  {
   "cell_type": "markdown",
   "id": "0d1d6529-471a-44ef-8dde-5b3fed660f65",
   "metadata": {},
   "source": [
    "## Retrieve the Cognito User Pool Information for Inbound authorization to Gateway"
   ]
  },
  {
   "cell_type": "code",
   "execution_count": null,
   "id": "af3d0b81-1e95-4c2d-8769-b60f93b426f1",
   "metadata": {},
   "outputs": [],
   "source": [
    "# Creating Cognito User Pool \n",
    "import os\n",
    "import boto3\n",
    "\n",
    "REGION = os.environ['AWS_DEFAULT_REGION']\n",
    "USER_POOL_NAME = \"sample-agentcore-gateway-pool\"\n",
    "RESOURCE_SERVER_ID = \"sample-agentcore-gateway-id\"\n",
    "RESOURCE_SERVER_NAME = \"sample-agentcore-gateway-name\"\n",
    "CLIENT_NAME = \"sample-agentcore-gateway-client\"\n",
    "SCOPES = [\n",
    "    {\"ScopeName\": \"invoke\",  # Just 'invoke', will be formatted as resource_server_id/invoke\n",
    "    \"ScopeDescription\": \"Scope for invoking the agentcore gateway\"},\n",
    "]\n",
    "\n",
    "scope_names = [f\"{RESOURCE_SERVER_ID}/{scope['ScopeName']}\" for scope in SCOPES]\n",
    "scopeString = \" \".join(scope_names)\n",
    "\n",
    "\n",
    "cognito = boto3.client(\"cognito-idp\", region_name=REGION)\n",
    "\n",
    "print(\"Creating or retrieving Cognito resources...\")\n",
    "gw_user_pool_id = utils.get_or_create_user_pool(cognito, USER_POOL_NAME)\n",
    "print(f\"User Pool ID: {gw_user_pool_id}\")\n",
    "\n",
    "utils.get_or_create_resource_server(cognito, gw_user_pool_id, RESOURCE_SERVER_ID, RESOURCE_SERVER_NAME, SCOPES)\n",
    "print(\"Resource server ensured.\")\n",
    "\n",
    "gw_client_id, gw_client_secret = utils.get_or_create_m2m_client(cognito, gw_user_pool_id, CLIENT_NAME, RESOURCE_SERVER_ID, scope_names)\n",
    "\n",
    "print(f\"Client ID: {gw_client_id}\")\n",
    "\n",
    "# Get discovery URL\n",
    "gw_cognito_discovery_url = f'https://cognito-idp.{REGION}.amazonaws.com/{gw_user_pool_id}/.well-known/openid-configuration'\n",
    "print(gw_cognito_discovery_url)"
   ]
  },
  {
   "cell_type": "markdown",
   "id": "ca962199-866f-4be3-9d2d-e3e5305fbf70",
   "metadata": {},
   "source": [
    "## Retrieve the Cognito User Pool Information for Inbound authorization to Runtime"
   ]
  },
  {
   "cell_type": "code",
   "execution_count": null,
   "id": "4cd8c66a-a007-46f2-8f3a-b12e0292e11e",
   "metadata": {},
   "outputs": [],
   "source": [
    "# Creating Cognito User Pool\n",
    "import os\n",
    "import boto3\n",
    "\n",
    "REGION = os.environ['AWS_DEFAULT_REGION']\n",
    "USER_POOL_NAME = \"sample-agentcore-runtime-pool\"\n",
    "RESOURCE_SERVER_ID = \"sample-agentcore-runtime-id\"\n",
    "RESOURCE_SERVER_NAME = \"sample-agentcore-runtime-name\"\n",
    "CLIENT_NAME = \"sample-agentcore-runtime-client\"\n",
    "SCOPES = [\n",
    "    {\"ScopeName\": \"invoke\",  # Just 'invoke', will be formatted as resource_server_id/invoke\n",
    "    \"ScopeDescription\": \"Scope for invoking the agentcore gateway\"},\n",
    "]\n",
    "\n",
    "scope_names = [f\"{RESOURCE_SERVER_ID}/{scope['ScopeName']}\" for scope in SCOPES]\n",
    "runtimeScopeString = \" \".join(scope_names)\n",
    "\n",
    "\n",
    "cognito = boto3.client(\"cognito-idp\", region_name=REGION)\n",
    "\n",
    "print(\"Creating or retrieving Cognito resources...\")\n",
    "runtime_user_pool_id = utils.get_or_create_user_pool(cognito, USER_POOL_NAME)\n",
    "print(f\"User Pool ID: {runtime_user_pool_id}\")\n",
    "\n",
    "utils.get_or_create_resource_server(cognito, runtime_user_pool_id, RESOURCE_SERVER_ID, RESOURCE_SERVER_NAME, SCOPES)\n",
    "print(\"Resource server ensured.\")\n",
    "\n",
    "runtime_client_id, runtime_client_secret = utils.get_or_create_m2m_client(cognito, runtime_user_pool_id, CLIENT_NAME, RESOURCE_SERVER_ID, scope_names)\n",
    "\n",
    "print(f\"Client ID: {runtime_client_id}\")\n",
    "\n",
    "# Get discovery URL\n",
    "runtime_cognito_discovery_url = f'https://cognito-idp.{REGION}.amazonaws.com/{runtime_user_pool_id}/.well-known/openid-configuration'\n",
    "print(runtime_cognito_discovery_url)"
   ]
  },
  {
   "cell_type": "markdown",
   "id": "a2ea3dbb-8c26-496e-809a-a278006413c0",
   "metadata": {},
   "source": [
    "## Add a new tool to the existing MCP Server"
   ]
  },
  {
   "cell_type": "markdown",
   "id": "2e02cdea-cb8d-4c93-9526-c94181b2c226",
   "metadata": {},
   "source": [
    "Add a new tool 'cancelOrder' to the existing MCP Server you created in '01-mcp-server-target' tutorial."
   ]
  },
  {
   "cell_type": "code",
   "execution_count": null,
   "id": "32c382f0-aefe-4756-8e06-fac3a7b96e1c",
   "metadata": {
    "ExecuteTime": {
     "end_time": "2025-10-03T22:10:07.745212Z",
     "start_time": "2025-10-03T22:10:06.425155Z"
    }
   },
   "outputs": [],
   "source": [
    "%%writefile mcp_server_updated.py\n",
    "from mcp.server.fastmcp import FastMCP\n",
    "\n",
    "mcp = FastMCP(host=\"0.0.0.0\", stateless_http=True)\n",
    "\n",
    "@mcp.tool()\n",
    "def getOrder() -> int:\n",
    "    \"\"\"Get an order\"\"\"\n",
    "    return 123\n",
    "\n",
    "@mcp.tool()\n",
    "def updateOrder(orderId: int) -> int:\n",
    "    \"\"\"Update existing order\"\"\"\n",
    "    return 456\n",
    "\n",
    "@mcp.tool()\n",
    "def cancelOrder(orderId: int) -> int:\n",
    "    \"\"\"cancel existing order\"\"\"\n",
    "    return 789\n",
    "\n",
    "if __name__ == \"__main__\":\n",
    "    mcp.run(transport=\"streamable-http\")"
   ]
  },
  {
   "cell_type": "markdown",
   "id": "03ed6c65-e859-40af-aff3-c9ce02e02e82",
   "metadata": {
    "execution": {
     "iopub.execute_input": "2025-10-05T12:16:18.691180Z",
     "iopub.status.busy": "2025-10-05T12:16:18.690880Z",
     "iopub.status.idle": "2025-10-05T12:16:18.697705Z",
     "shell.execute_reply": "2025-10-05T12:16:18.696456Z",
     "shell.execute_reply.started": "2025-10-05T12:16:18.691151Z"
    }
   },
   "source": [
    "Next, we will configure the AgentCore Runtime to deploy the updated MCP server with the new 'cancelOrder' tool."
   ]
  },
  {
   "cell_type": "code",
   "execution_count": null,
   "id": "1c7ef095-32dd-4b0a-b499-66ec7226787c",
   "metadata": {},
   "outputs": [],
   "source": [
    "from bedrock_agentcore_starter_toolkit import Runtime\n",
    "from boto3.session import Session\n",
    "\n",
    "boto_session = Session()\n",
    "region = boto_session.region_name\n",
    "print(f\"Using AWS region: {region}\")\n",
    "\n",
    "required_files = ['mcp_server_updated.py', 'requirements.txt']\n",
    "for file in required_files:\n",
    "    if not os.path.exists(file):\n",
    "        raise FileNotFoundError(f\"Required file {file} not found\")\n",
    "print(\"All required files found ✓\")\n",
    "agentcore_runtime = Runtime()\n",
    "\n",
    "auth_config = {\n",
    "    \"customJWTAuthorizer\": {\n",
    "        \"allowedClients\": [\n",
    "            runtime_client_id\n",
    "        ],\n",
    "        \"discoveryUrl\": runtime_cognito_discovery_url\n",
    "    }\n",
    "}\n",
    "\n",
    "print(\"Configuring AgentCore Runtime...\")\n",
    "response = agentcore_runtime.configure(\n",
    "    entrypoint=\"mcp_server_updated.py\",\n",
    "    auto_create_execution_role=True,\n",
    "    auto_create_ecr=True,\n",
    "    requirements_file=\"requirements.txt\",\n",
    "    region=region,\n",
    "    authorizer_configuration=auth_config,\n",
    "    protocol=\"MCP\",\n",
    "    agent_name=\"ac_gateway_mcp_server\"\n",
    ")\n",
    "print(\"Configuration completed ✓\")"
   ]
  },
  {
   "cell_type": "markdown",
   "id": "46bdf56773700101",
   "metadata": {},
   "source": [
    "Then, redeploy the updated MCP Server to AgentCore Runtime."
   ]
  },
  {
   "cell_type": "code",
   "execution_count": null,
   "id": "3665b5a5a15ebb2a",
   "metadata": {
    "ExecuteTime": {
     "end_time": "2025-10-03T22:12:56.420776Z",
     "start_time": "2025-10-03T22:12:18.078852Z"
    }
   },
   "outputs": [],
   "source": [
    "print(\"Launching MCP server to AgentCore Runtime...\")\n",
    "print(\"This may take several minutes...\")\n",
    "launch_result = agentcore_runtime.launch()\n",
    "\n",
    "agent_arn = launch_result.agent_arn\n",
    "agent_id = launch_result.agent_id\n",
    "\n",
    "encoded_arn = agent_arn.replace(':', '%3A').replace('/', '%2F')\n",
    "\n",
    "agent_url = f'https://bedrock-agentcore.{region}.amazonaws.com/runtimes/{encoded_arn}/invocations?qualifier=DEFAULT'\n",
    "print(\"Launch completed ✓\")\n",
    "print(f\"Agent ARN: {agent_arn}\")\n",
    "print(f\"Agent ID: {agent_id}\")"
   ]
  },
  {
   "cell_type": "markdown",
   "id": "35036175-43d6-4568-8039-4d4376d827d4",
   "metadata": {},
   "source": [
    "## Invoke SynchronizeGateway API"
   ]
  },
  {
   "cell_type": "markdown",
   "id": "715f371d-3118-4c7f-bb23-c90ab09e4284",
   "metadata": {},
   "source": [
    "### Retrieve Outbound Auth provider\n",
    "\n",
    "Retrieve the existing OAuth2 credential provider we created in previous notebook"
   ]
  },
  {
   "cell_type": "code",
   "execution_count": null,
   "id": "744182b6566c9c24",
   "metadata": {
    "ExecuteTime": {
     "end_time": "2025-10-03T22:13:00.015394Z",
     "start_time": "2025-10-03T22:12:59.440650Z"
    }
   },
   "outputs": [],
   "source": [
    "identity_client = boto3.client('bedrock-agentcore-control', region_name=region)\n",
    "\n",
    "# Get credential provider \n",
    "response = identity_client.get_oauth2_credential_provider(name=\"ac-gateway-mcp-server-identity\")\n",
    "cognito_provider_arn = response['credentialProviderArn']\n",
    "print(cognito_provider_arn)"
   ]
  },
  {
   "cell_type": "markdown",
   "id": "05cae1fb-84dc-4267-8eb6-2b46120f8640",
   "metadata": {},
   "source": [
    "### Check the current tool definitions\n",
    "\n",
    "Let's invoke a strands agent to list MCP tools using Bedrock AgentCore Gateway. This will return the old tool list (without 'cancelOrder'), because we have not yet asked the Gateway to synchronize."
   ]
  },
  {
   "cell_type": "markdown",
   "id": "0f4e3faa-b22b-4fe7-8f7b-3288960bd8f2",
   "metadata": {},
   "source": [
    "Retrieve the gateway identifier we created in previous notebook."
   ]
  },
  {
   "cell_type": "code",
   "execution_count": null,
   "id": "1448a2bb-e269-4fc0-8c40-c714c947b6d1",
   "metadata": {},
   "outputs": [],
   "source": [
    "gateway_name = 'ac-gateway-mcp-server'\n",
    "\n",
    "gateway_client = boto3.client('bedrock-agentcore-control', region_name=REGION)\n",
    "list_gateways_response = gateway_client.list_gateways()\n",
    "\n",
    "gatewayID = next(\n",
    "    g['gatewayId'] for g in list_gateways_response['items'] \n",
    "    if g['name'] == gateway_name\n",
    ")\n",
    "\n",
    "print(gatewayID)"
   ]
  },
  {
   "cell_type": "markdown",
   "id": "5eef0f1e-806a-4277-8bba-fa639f7cdd19",
   "metadata": {},
   "source": [
    "Retrieve the gateway URL."
   ]
  },
  {
   "cell_type": "code",
   "execution_count": null,
   "id": "001cf296-ab96-4576-ae26-a576eeae1dfb",
   "metadata": {},
   "outputs": [],
   "source": [
    "gateway_client = boto3.client('bedrock-agentcore-control', region_name=REGION)\n",
    "gateway_response = gateway_client.get_gateway(gatewayIdentifier=gatewayID)\n",
    "\n",
    "gatewayURL = gateway_response['gatewayUrl']\n",
    "\n",
    "print(gatewayURL)"
   ]
  },
  {
   "cell_type": "code",
   "execution_count": null,
   "id": "be4b39c4-7387-4ce8-b728-f2347fbdaa36",
   "metadata": {
    "ExecuteTime": {
     "end_time": "2025-10-03T22:15:26.472172Z",
     "start_time": "2025-10-03T22:15:10.426159Z"
    }
   },
   "outputs": [],
   "source": [
    "import json\n",
    "\n",
    "import requests\n",
    "from strands.models import BedrockModel\n",
    "from mcp.client.streamable_http import streamablehttp_client\n",
    "from strands.tools.mcp.mcp_client import MCPClient\n",
    "from strands import Agent\n",
    "\n",
    "\n",
    "def get_token():\n",
    "    token = utils.get_token(gw_user_pool_id, gw_client_id, gw_client_secret, scopeString, REGION)\n",
    "    return token['access_token']\n",
    "\n",
    "\n",
    "def create_streamable_http_transport():\n",
    "    return streamablehttp_client(\n",
    "        gatewayURL, headers={\"Authorization\": f\"Bearer {get_token()}\"}\n",
    "    )\n",
    "\n",
    "\n",
    "client = MCPClient(create_streamable_http_transport)\n",
    "\n",
    "## The IAM group/user/ configured in ~/.aws/credentials should have access to Bedrock model\n",
    "yourmodel = BedrockModel(\n",
    "    model_id=\"us.anthropic.claude-sonnet-4-20250514-v1:0\", # may need to update model_id depending on region\n",
    "    temperature=0.7,\n",
    "    max_tokens=500,  # Limit response length\n",
    ")\n",
    "\n",
    "with client:\n",
    "    # Call the listTools\n",
    "    tools = client.list_tools_sync()\n",
    "    # Create an Agent with the model and tools\n",
    "    agent = Agent(\n",
    "        model=yourmodel, tools=tools\n",
    "    )  ## you can replace with any model you like\n",
    "    # Invoke the agent with the sample prompt. This will only invoke MCP listTools and retrieve the list of tools the LLM has access to. The below does not actually call any tool.\n",
    "    agent(\"Hi, can you list all tools available to you\")  "
   ]
  },
  {
   "cell_type": "markdown",
   "id": "2ba3ece3-55b1-45f6-9069-711fab61683e",
   "metadata": {},
   "source": [
    "### Call SynchronizeGateway API "
   ]
  },
  {
   "cell_type": "markdown",
   "id": "43b25caf-56a6-4f49-afab-6c0b156fdfaa",
   "metadata": {},
   "source": [
    "Retrieve the MCP Target Id"
   ]
  },
  {
   "cell_type": "code",
   "execution_count": null,
   "id": "0ccaee0d-80b1-4df5-855e-87ff57a8cf0b",
   "metadata": {},
   "outputs": [],
   "source": [
    "gateway_target_name = 'mcp-server-target'\n",
    "\n",
    "gateway_client = boto3.client('bedrock-agentcore-control', region_name=REGION)\n",
    "list_targets_response = gateway_client.list_gateway_targets(gatewayIdentifier=gatewayID)\n",
    "\n",
    "gatewayTargetID = next(\n",
    "    g['targetId'] for g in list_targets_response['items'] \n",
    "    if g['name'] == gateway_target_name\n",
    ")\n",
    "\n",
    "print(gatewayTargetID)"
   ]
  },
  {
   "cell_type": "markdown",
   "id": "39363e2b-0b10-40ac-be2f-a6da50a0aecf",
   "metadata": {},
   "source": [
    "Call the Synchronize Gateway API to perform explicit synchronization"
   ]
  },
  {
   "cell_type": "code",
   "execution_count": null,
   "id": "63725755-e782-4f5c-8cd4-4088768a5da3",
   "metadata": {},
   "outputs": [],
   "source": [
    "gateway_client = boto3.client('bedrock-agentcore-control', region_name=REGION)\n",
    "\n",
    "synchronize_gateway_response = gateway_client.synchronize_gateway_targets(\n",
    "    gatewayIdentifier=gatewayID,\n",
    "    targetIdList=[gatewayTargetID]\n",
    "    )\n",
    "\n",
    "print(synchronize_gateway_response)"
   ]
  },
  {
   "cell_type": "markdown",
   "id": "155ad54a-5481-45f8-83e7-4cfbee88a156",
   "metadata": {
    "execution": {
     "iopub.execute_input": "2025-10-05T15:25:45.795556Z",
     "iopub.status.busy": "2025-10-05T15:25:45.795241Z",
     "iopub.status.idle": "2025-10-05T15:25:45.799131Z",
     "shell.execute_reply": "2025-10-05T15:25:45.798226Z",
     "shell.execute_reply.started": "2025-10-05T15:25:45.795531Z"
    }
   },
   "source": [
    "### Check the current tool definitions after the synchronization\n",
    "\n",
    "Let's invoke a strands agent to list MCP tools using Bedrock AgentCore Gateway. This will return the new tool list."
   ]
  },
  {
   "cell_type": "code",
   "execution_count": null,
   "id": "e508a6e1-9e31-4626-adba-1ed1e16ea204",
   "metadata": {},
   "outputs": [],
   "source": [
    "with client:\n",
    "    # Call the listTools\n",
    "    tools = client.list_tools_sync()\n",
    "    # Create an Agent with the model and tools\n",
    "    agent = Agent(\n",
    "        model=yourmodel, tools=tools\n",
    "    )  ## you can replace with any model you like\n",
    "    # Invoke the agent with the sample prompt. This will only invoke MCP listTools and retrieve the list of tools the LLM has access to. The below does not actually call any tool.\n",
    "    agent(\"Hi, can you list all tools available to you\")   "
   ]
  },
  {
   "cell_type": "markdown",
   "id": "b700481e-bb19-4d9b-a90c-1ec19ab0599d",
   "metadata": {
    "execution": {
     "iopub.execute_input": "2025-10-05T16:26:53.722130Z",
     "iopub.status.busy": "2025-10-05T16:26:53.721355Z",
     "iopub.status.idle": "2025-10-05T16:26:53.730603Z",
     "shell.execute_reply": "2025-10-05T16:26:53.729697Z",
     "shell.execute_reply.started": "2025-10-05T16:26:53.722095Z"
    }
   },
   "source": [
    "# Perform Implicit Synchronization"
   ]
  },
  {
   "cell_type": "markdown",
   "id": "813e0305-3e39-4dca-854b-0dced6e18153",
   "metadata": {},
   "source": [
    "## Add another new tool to the existing MCP Server"
   ]
  },
  {
   "cell_type": "markdown",
   "id": "1f684718-e9fb-4c74-92bb-32ee38d26e92",
   "metadata": {},
   "source": [
    "Add a new tool 'deleteOrder' to the existing MCP Server."
   ]
  },
  {
   "cell_type": "code",
   "execution_count": null,
   "id": "63af2542-b2b2-4389-a4fc-fc664444f8a8",
   "metadata": {},
   "outputs": [],
   "source": [
    "%%writefile mcp_server_updated.py\n",
    "from mcp.server.fastmcp import FastMCP\n",
    "\n",
    "mcp = FastMCP(host=\"0.0.0.0\", stateless_http=True)\n",
    "\n",
    "@mcp.tool()\n",
    "def getOrder() -> int:\n",
    "    \"\"\"Get an order\"\"\"\n",
    "    return 123\n",
    "\n",
    "@mcp.tool()\n",
    "def updateOrder(orderId: int) -> int:\n",
    "    \"\"\"Update existing order\"\"\"\n",
    "    return 456\n",
    "\n",
    "@mcp.tool()\n",
    "def cancelOrder(orderId: int) -> int:\n",
    "    \"\"\"cancel existing order\"\"\"\n",
    "    return 789\n",
    "\n",
    "@mcp.tool()\n",
    "def deleteOrder(orderId: int) -> int:\n",
    "    \"\"\"delete existing order\"\"\"\n",
    "    return 101\n",
    "    \n",
    "if __name__ == \"__main__\":\n",
    "    mcp.run(transport=\"streamable-http\")"
   ]
  },
  {
   "cell_type": "markdown",
   "id": "45f3b372-1cfd-4838-87b0-33be98b466d1",
   "metadata": {},
   "source": [
    "Next, we will configure the AgentCore Runtime to deploy the updated MCP server with the new 'deleteOrder' tool."
   ]
  },
  {
   "cell_type": "code",
   "execution_count": null,
   "id": "66fb96fe-2bc7-4072-9050-c02047c897c0",
   "metadata": {},
   "outputs": [],
   "source": [
    "from bedrock_agentcore_starter_toolkit import Runtime\n",
    "from boto3.session import Session\n",
    "\n",
    "boto_session = Session()\n",
    "region = boto_session.region_name\n",
    "print(f\"Using AWS region: {region}\")\n",
    "\n",
    "required_files = ['mcp_server_updated.py', 'requirements.txt']\n",
    "for file in required_files:\n",
    "    if not os.path.exists(file):\n",
    "        raise FileNotFoundError(f\"Required file {file} not found\")\n",
    "print(\"All required files found ✓\")\n",
    "agentcore_runtime = Runtime()\n",
    "\n",
    "auth_config = {\n",
    "    \"customJWTAuthorizer\": {\n",
    "        \"allowedClients\": [\n",
    "            runtime_client_id\n",
    "        ],\n",
    "        \"discoveryUrl\": runtime_cognito_discovery_url\n",
    "    }\n",
    "}\n",
    "\n",
    "print(\"Configuring AgentCore Runtime...\")\n",
    "response = agentcore_runtime.configure(\n",
    "    entrypoint=\"mcp_server_updated.py\",\n",
    "    auto_create_execution_role=True,\n",
    "    auto_create_ecr=True,\n",
    "    requirements_file=\"requirements.txt\",\n",
    "    region=region,\n",
    "    authorizer_configuration=auth_config,\n",
    "    protocol=\"MCP\",\n",
    "    agent_name=\"ac_gateway_mcp_server\"\n",
    ")\n",
    "print(\"Configuration completed ✓\")"
   ]
  },
  {
   "cell_type": "markdown",
   "id": "3715d6f6-e557-4e82-8319-c1f84be97cfb",
   "metadata": {},
   "source": [
    "Then, redeploy the updated MCP Server to AgentCore Runtime."
   ]
  },
  {
   "cell_type": "code",
   "execution_count": null,
   "id": "7aadcdc7-d5eb-44dc-b3f3-71b1379ef7e5",
   "metadata": {},
   "outputs": [],
   "source": [
    "print(\"Launching MCP server to AgentCore Runtime...\")\n",
    "print(\"This may take several minutes...\")\n",
    "launch_result = agentcore_runtime.launch()\n",
    "\n",
    "agent_arn = launch_result.agent_arn\n",
    "agent_id = launch_result.agent_id\n",
    "\n",
    "encoded_arn = agent_arn.replace(':', '%3A').replace('/', '%2F')\n",
    "\n",
    "agent_url = f'https://bedrock-agentcore.{region}.amazonaws.com/runtimes/{encoded_arn}/invocations?qualifier=DEFAULT'\n",
    "print(\"Launch completed ✓\")\n",
    "print(f\"New Agent ARN: {agent_arn}\")\n",
    "print(f\"New Agent ID: {agent_id}\")"
   ]
  },
  {
   "cell_type": "markdown",
   "id": "392941c1-7878-4a34-8906-cc259db6f475",
   "metadata": {
    "execution": {
     "iopub.execute_input": "2025-10-05T16:47:14.204916Z",
     "iopub.status.busy": "2025-10-05T16:47:14.204444Z",
     "iopub.status.idle": "2025-10-05T16:47:14.208513Z",
     "shell.execute_reply": "2025-10-05T16:47:14.207719Z",
     "shell.execute_reply.started": "2025-10-05T16:47:14.204883Z"
    }
   },
   "source": [
    "## Update the existing Gateway Target with MCP Server"
   ]
  },
  {
   "cell_type": "markdown",
   "id": "0fa9ae7a-7bb5-4e10-b195-4912058b8ee2",
   "metadata": {},
   "source": [
    "This update gateway target operation will update the gateway target with MCP Server (new version) and also perform implicit synchronization to sync the tool definitions"
   ]
  },
  {
   "cell_type": "code",
   "execution_count": null,
   "id": "6cc8c697-5d34-40eb-9649-3b42399c2106",
   "metadata": {},
   "outputs": [],
   "source": [
    "import boto3\n",
    "\n",
    "gateway_client = boto3.client('bedrock-agentcore-control', region_name=REGION)\n",
    "update_gateway_target_response = gateway_client.update_gateway_target(\n",
    "    gatewayIdentifier=gatewayID,\n",
    "    targetId = gatewayTargetID,\n",
    "    name = 'mcp-server-target',\n",
    "    targetConfiguration={\n",
    "        'mcp': {\n",
    "            'mcpServer': {\n",
    "                'endpoint': agent_url\n",
    "            }\n",
    "        }\n",
    "    },\n",
    "    credentialProviderConfigurations=[\n",
    "        {\n",
    "            'credentialProviderType': 'OAUTH',\n",
    "            'credentialProvider': {\n",
    "                'oauthCredentialProvider': {\n",
    "                    'providerArn': cognito_provider_arn,\n",
    "                    'scopes': [\n",
    "                        runtimeScopeString\n",
    "                    ]\n",
    "                }\n",
    "            }\n",
    "        },\n",
    "    ]\n",
    ")\n",
    "\n",
    "print(update_gateway_target_response)"
   ]
  },
  {
   "cell_type": "markdown",
   "id": "b83358dd-fd1a-417f-8872-721890b32c1b",
   "metadata": {},
   "source": [
    "## Check the current tool definitions after updating the MCP Server target"
   ]
  },
  {
   "cell_type": "code",
   "execution_count": null,
   "id": "a9438c4f-7446-496c-bed3-b6a1c398027e",
   "metadata": {},
   "outputs": [],
   "source": [
    "with client:\n",
    "    # Call the listTools\n",
    "    tools = client.list_tools_sync()\n",
    "    # Create an Agent with the model and tools\n",
    "    agent = Agent(\n",
    "        model=yourmodel, tools=tools\n",
    "    )  ## you can replace with any model you like\n",
    "    # Invoke the agent with the sample prompt. This will only invoke MCP listTools and retrieve the list of tools the LLM has access to. The below does not actually call any tool.\n",
    "    agent(\"Hi, can you list all tools available to you\")   "
   ]
  },
  {
   "cell_type": "markdown",
   "id": "fa8dd91d-15a6-45b2-b539-bb3eaf0e0e08",
   "metadata": {},
   "source": [
    "# Clean up\n",
    "Additional resources are also created like IAM role, IAM Policies, Credentials provider, AWS Lambda functions, Cognito user pools, s3 buckets that you might need to manually delete as part of the clean up. This depends on the example you run."
   ]
  },
  {
   "cell_type": "markdown",
   "id": "a22f158d-83b6-4d65-892f-9a208af3d742",
   "metadata": {},
   "source": [
    "## Delete the Gateway (Optional)"
   ]
  },
  {
   "cell_type": "code",
   "execution_count": null,
   "id": "58d250fc-dd34-4eb3-8d5b-c9eac9de9c79",
   "metadata": {
    "ExecuteTime": {
     "end_time": "2025-10-03T22:30:51.528999Z",
     "start_time": "2025-10-03T22:30:49.407063Z"
    }
   },
   "outputs": [],
   "source": [
    "import boto3\n",
    "gateway_client = boto3.client('bedrock-agentcore-control', region_name=REGION)\n",
    "\n",
    "utils.delete_gateway(gateway_client, gatewayID)"
   ]
  },
  {
   "cell_type": "markdown",
   "id": "139b31c444d7bee4",
   "metadata": {},
   "source": [
    "### Delete the Identity Provider (Optional)"
   ]
  },
  {
   "cell_type": "code",
   "execution_count": null,
   "id": "be72f99ae46d8f87",
   "metadata": {
    "ExecuteTime": {
     "end_time": "2025-10-03T22:31:58.236983Z",
     "start_time": "2025-10-03T22:30:57.214545Z"
    }
   },
   "outputs": [],
   "source": [
    "identity_client.delete_oauth2_credential_provider(name='ac-gateway-mcp-server-identity')\n"
   ]
  },
  {
   "cell_type": "markdown",
   "id": "c253813939faf5cb",
   "metadata": {},
   "source": [
    "#### Delete the Runtime (Optional) "
   ]
  },
  {
   "cell_type": "code",
   "execution_count": null,
   "id": "9991bbf8bfd55e9e",
   "metadata": {
    "ExecuteTime": {
     "end_time": "2025-10-03T22:32:02.562560Z",
     "start_time": "2025-10-03T22:32:02.148779Z"
    }
   },
   "outputs": [],
   "source": [
    "import boto3\n",
    "runtime_client = boto3.client('bedrock-agentcore-control',\n",
    "                              region_name=REGION)\n",
    "\n",
    "runtime_client.delete_agent_runtime(agentRuntimeId=agent_id)"
   ]
  }
 ],
 "metadata": {
  "kernelspec": {
   "display_name": "Python 3 (ipykernel)",
   "language": "python",
   "name": "python3"
  },
  "language_info": {
   "codemirror_mode": {
    "name": "ipython",
    "version": 3
   },
   "file_extension": ".py",
   "mimetype": "text/x-python",
   "name": "python",
   "nbconvert_exporter": "python",
   "pygments_lexer": "ipython3",
   "version": "3.12.9"
  }
 },
 "nbformat": 4,
 "nbformat_minor": 5
}
