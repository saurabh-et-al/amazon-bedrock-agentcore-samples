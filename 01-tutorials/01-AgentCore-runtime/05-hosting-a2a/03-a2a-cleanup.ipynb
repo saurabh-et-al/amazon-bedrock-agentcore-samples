{
 "cells": [
  {
   "cell_type": "markdown",
   "id": "3bdda7e5",
   "metadata": {},
   "source": [
    "## CleanUp"
   ]
  },
  {
   "cell_type": "code",
   "execution_count": null,
   "id": "c0873777",
   "metadata": {},
   "outputs": [],
   "source": [
    "%store -r"
   ]
  },
  {
   "cell_type": "code",
   "execution_count": null,
   "id": "0909e881",
   "metadata": {},
   "outputs": [],
   "source": [
    "from helpers.utils import (\n",
    "    delete_agentcore_runtime_execution_role,\n",
    "    delete_ssm_parameter,\n",
    "    cleanup_cognito_resources,\n",
    "    get_cognito_secret,\n",
    "    delete_cognito_secret,\n",
    "    runtime_resource_cleanup,\n",
    "    delete_observability_resources,\n",
    "    local_file_cleanup,\n",
    "    ecr_repo_cleanup,\n",
    "    short_memory_cleanup,\n",
    "    AWS_DOCS_ROLE_NAME,\n",
    "    ORCHESTRATOR_ROLE_NAME,\n",
    "    AWS_BLOG_ROLE_NAME,\n",
    "    SSM_DOCS_AGENT_ARN,\n",
    "    SSM_BLOGS_AGENT_ARN,\n",
    ")\n",
    "\n",
    "print(\"✅ Dependencies imported successfully\")"
   ]
  },
  {
   "cell_type": "code",
   "execution_count": null,
   "id": "e5f20567",
   "metadata": {},
   "outputs": [],
   "source": [
    "from pathlib import Path\n",
    "from bedrock_agentcore_starter_toolkit.operations.runtime.destroy import destroy_bedrock_agentcore\n",
    "\n",
    "print(\"🚀 Starting Runtime cleanup...\")\n",
    "destroy_bedrock_agentcore(\n",
    "     config_path=Path(\".bedrock_agentcore.yaml\"),\n",
    "     agent_name=MCP_AGENT_NAME,\n",
    "     delete_ecr_repo=True\n",
    ")"
   ]
  },
  {
   "cell_type": "code",
   "execution_count": null,
   "id": "dbf07518",
   "metadata": {},
   "outputs": [],
   "source": [
    "print(\"🚀 Starting Runtime cleanup...\")\n",
    "destroy_bedrock_agentcore(\n",
    "     config_path=Path(\".bedrock_agentcore.yaml\"),\n",
    "     agent_name=BLOG_AGENT_NAME,\n",
    "     delete_ecr_repo=True\n",
    ")"
   ]
  },
  {
   "cell_type": "code",
   "execution_count": null,
   "id": "c64aa7c4",
   "metadata": {},
   "outputs": [],
   "source": [
    "print(\"🚀 Starting Runtime cleanup...\")\n",
    "destroy_bedrock_agentcore(\n",
    "     config_path=Path(\".bedrock_agentcore.yaml\"),\n",
    "     agent_name=ORCHESTRATION_NAME,\n",
    "     delete_ecr_repo=True\n",
    ")"
   ]
  },
  {
   "cell_type": "code",
   "execution_count": null,
   "id": "95cf5f84",
   "metadata": {},
   "outputs": [],
   "source": [
    "print(\"🛡️  Starting Security cleanup...\")\n",
    "import json\n",
    "try:\n",
    "    # bedrock_client = boto3.client(\"bedrock\", region_name=REGION)\n",
    "    \n",
    "    # Delete execution role\n",
    "    print(\"  🗑️  Deleting Agent 1 - AWS Docs execution role...\")\n",
    "    delete_agentcore_runtime_execution_role(AWS_DOCS_ROLE_NAME)\n",
    "    print(\"  ✅ Execution role deleted\")\n",
    "\n",
    "    print(\"  🗑️  Deleting Agent 2 - AWS Blogs execution role...\")\n",
    "    delete_agentcore_runtime_execution_role(AWS_BLOG_ROLE_NAME)\n",
    "    print(\"  ✅ Execution role deleted\")\n",
    "\n",
    "    print(\"  🗑️  Deleting Orchestration execution role...\")\n",
    "    delete_agentcore_runtime_execution_role(ORCHESTRATOR_ROLE_NAME)\n",
    "    print(\"  ✅ Execution role deleted\")\n",
    "    \n",
    "    # Clean up Cognito and secrets\n",
    "    print(\"  🗑️  Cleaning up Cognito resources...\")\n",
    "    cs = json.loads(get_cognito_secret())\n",
    "    cleanup_cognito_resources(cs['pool_id'])\n",
    "    print(\"  ✅ Cognito resources cleaned up\")\n",
    "    \n",
    "    print(\"  🗑️  Deleting customer support secret...\")\n",
    "    delete_cognito_secret()\n",
    "    print(\"  ✅ Customer support secret deleted\")\n",
    "\n",
    "    print(\"  🗑️  Deleting SSM Parameter...\")\n",
    "    delete_ssm_parameter(SSM_DOCS_AGENT_ARN)\n",
    "    print(\"  ✅ SSM parameter deleted\")\n",
    "\n",
    "    print(\"  🗑️  Deleting SSM Parameter...\")\n",
    "    delete_ssm_parameter(SSM_BLOGS_AGENT_ARN)\n",
    "    print(\"  ✅ SSM parameter deleted\")\n",
    "    \n",
    "except Exception as e:\n",
    "    print(f\"  ⚠️  Error during security cleanup: {e}\")"
   ]
  },
  {
   "cell_type": "code",
   "execution_count": null,
   "id": "e5b58f81",
   "metadata": {},
   "outputs": [],
   "source": [
    "print(\"📁 Starting Local Files cleanup...\")\n",
    "local_file_cleanup()"
   ]
  },
  {
   "cell_type": "code",
   "execution_count": null,
   "id": "928ebc27",
   "metadata": {},
   "outputs": [],
   "source": [
    "print(\"📊 Starting Observability cleanup...\")\n",
    "delete_observability_resources(MCP_AGENT_ID)"
   ]
  },
  {
   "cell_type": "code",
   "execution_count": null,
   "id": "48848325",
   "metadata": {},
   "outputs": [],
   "source": [
    "print(\"📊 Starting Observability cleanup...\")\n",
    "delete_observability_resources(BLOG_AGENT_ID)"
   ]
  },
  {
   "cell_type": "code",
   "execution_count": null,
   "id": "d356905d",
   "metadata": {},
   "outputs": [],
   "source": [
    "print(\"📊 Starting Observability cleanup...\")\n",
    "delete_observability_resources(ORCHESTRATION_ID)"
   ]
  }
 ],
 "metadata": {
  "kernelspec": {
   "display_name": ".env (3.13.7)",
   "language": "python",
   "name": "python3"
  },
  "language_info": {
   "codemirror_mode": {
    "name": "ipython",
    "version": 3
   },
   "file_extension": ".py",
   "mimetype": "text/x-python",
   "name": "python",
   "nbconvert_exporter": "python",
   "pygments_lexer": "ipython3",
   "version": "3.13.7"
  }
 },
 "nbformat": 4,
 "nbformat_minor": 5
}
