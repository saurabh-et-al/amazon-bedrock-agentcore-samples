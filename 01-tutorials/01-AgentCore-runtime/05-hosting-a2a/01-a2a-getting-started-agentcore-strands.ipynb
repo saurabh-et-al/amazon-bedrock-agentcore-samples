{
 "cells": [
  {
   "cell_type": "markdown",
   "id": "6c1df626",
   "metadata": {},
   "source": [
    "## Getting Started with AgentCore, Strands Agents and A2A\n",
    "\n",
    "[A2A protocol](https://a2a-protocol.org/dev/specification/) is an open standard designed to facilitate communication and interoperability between independent, potentially opaque AI agent systems. In an ecosystem where agents might be built using different frameworks, languages, or by different vendors, A2A provides a common language and interaction model.\n",
    "\n",
    "[Amazon AgentCore Runtime](https://docs.aws.amazon.com/bedrock-agentcore/latest/devguide/agents-tools-runtime.html) provides a secure, serverless and purpose-built hosting environment for deploying and running AI agents or tools. \n",
    "\n",
    "Recently, AWS announced [A2A support](https://docs.aws.amazon.com/bedrock-agentcore/latest/devguide/runtime-a2a.html) for AgentCore Runtime.\n",
    "\n",
    "In this workshop, you are going to build following architecture, using AgentCore Runtime:\n",
    "\n",
    "<img src=\"images/architecture-getting-started.png\" style=\"width: 80%;\">\n",
    "\n",
    "In this getting started notebook, we are going to build two agents. First agent is an AWS Docs expert. It will query AWS Docs MCP to read and search AWS Documentation and also generate recommendations. Second agent is an AWS Blog expert. It will use websearch to look into AWS latest blogs and news.\n",
    "\n",
    "So let's get started!"
   ]
  },
  {
   "cell_type": "markdown",
   "id": "b9a40b47",
   "metadata": {},
   "source": [
    "### Setup\n",
    "\n",
    "Install dependencies"
   ]
  },
  {
   "cell_type": "code",
   "execution_count": null,
   "id": "95fa9c5b",
   "metadata": {},
   "outputs": [],
   "source": [
    "%pip install -q -r requirements.txt --no-cache-dir --force-reinstall"
   ]
  },
  {
   "cell_type": "markdown",
   "id": "7647b1c6",
   "metadata": {},
   "source": [
    "**Please restart your environment, so it can reflect new versions!**"
   ]
  },
  {
   "cell_type": "code",
   "execution_count": null,
   "id": "c46e447f",
   "metadata": {},
   "outputs": [],
   "source": [
    "#import IPython\n",
    "\n",
    "#IPython.Application.instance().kernel.do_shutdown(True)"
   ]
  },
  {
   "cell_type": "markdown",
   "id": "c2d8c606",
   "metadata": {},
   "source": [
    "Checking if `bedrock-agentcore-starter-toolkit` version is 0.1.21"
   ]
  },
  {
   "cell_type": "code",
   "execution_count": null,
   "id": "531209cd",
   "metadata": {},
   "outputs": [],
   "source": [
    "!pip freeze | grep boto\n",
    "!pip freeze | grep agentcore"
   ]
  },
  {
   "cell_type": "code",
   "execution_count": null,
   "id": "d1e55b08",
   "metadata": {},
   "outputs": [],
   "source": [
    "# Import libraries\n",
    "import os\n",
    "import json\n",
    "import requests\n",
    "import boto3\n",
    "import time\n",
    "from boto3.session import Session\n",
    "from strands.tools import tool\n",
    "\n",
    "# Get boto session\n",
    "boto_session = Session()"
   ]
  },
  {
   "cell_type": "markdown",
   "id": "505f6502",
   "metadata": {},
   "source": [
    "### 1 - Create Code for the two agents"
   ]
  },
  {
   "cell_type": "markdown",
   "id": "17290652",
   "metadata": {},
   "source": [
    "Create `agents` folder if it's not created."
   ]
  },
  {
   "cell_type": "code",
   "execution_count": null,
   "id": "e99c166f",
   "metadata": {},
   "outputs": [],
   "source": [
    "![ ! -d \"agents\" ] && mkdir agents"
   ]
  },
  {
   "cell_type": "markdown",
   "id": "4c5b22b1",
   "metadata": {},
   "source": [
    "#### 1.1 - AWS Docs expert Agent\n",
    "\n",
    "Firstly let's write our first agent code to a file locally; this agent will later be deployed to AgentCore runtime."
   ]
  },
  {
   "cell_type": "code",
   "execution_count": null,
   "id": "4b865443",
   "metadata": {},
   "outputs": [],
   "source": [
    "%%writefile agents/strands_aws_docs.py\n",
    "import os\n",
    "import logging\n",
    "import asyncio\n",
    "from mcp import stdio_client, StdioServerParameters\n",
    "from strands import Agent\n",
    "from strands.multiagent.a2a import A2AServer\n",
    "from strands.tools.mcp import MCPClient\n",
    "from fastapi import FastAPI\n",
    "import uvicorn\n",
    "\n",
    "logging.basicConfig(level=logging.INFO)\n",
    "logger = logging.getLogger(__name__)\n",
    "\n",
    "app = FastAPI()\n",
    "runtime_url = os.environ.get('AGENTCORE_RUNTIME_URL', 'http://127.0.0.1:9000/')\n",
    "host, port = \"0.0.0.0\", 9000\n",
    "\n",
    "# Global MCP client with lazy initialization\n",
    "_mcp_client = None\n",
    "\n",
    "async def get_mcp_client():\n",
    "    \"\"\"Lazy initialization of MCP client with timeout\"\"\"\n",
    "    global _mcp_client\n",
    "    if _mcp_client is None:\n",
    "        try:\n",
    "            _mcp_client = MCPClient(\n",
    "                lambda: stdio_client(\n",
    "                    StdioServerParameters(\n",
    "                        command=\"uvx\", \n",
    "                        args=[\"awslabs.aws-documentation-mcp-server@latest\"]\n",
    "                    )\n",
    "                )\n",
    "            )\n",
    "            # Start with timeout\n",
    "            await asyncio.wait_for(_mcp_client.start(), timeout=10.0)\n",
    "            logger.info(\"MCP client initialized\")\n",
    "        except asyncio.TimeoutError:\n",
    "            logger.error(\"MCP client startup timed out\")\n",
    "            _mcp_client = None\n",
    "        except Exception as e:\n",
    "            logger.error(f\"MCP client failed: {e}\")\n",
    "            _mcp_client = None\n",
    "    return _mcp_client\n",
    "\n",
    "system_prompt = \"\"\"You are an AWS Documentation Assistant powered by the AWS Documentation MCP server. Your role is to help users find accurate, up-to-date information from AWS documentation.\n",
    "\n",
    "CRITICAL: Keep responses SHORT and FOCUSED.\n",
    "\n",
    "Guidelines:\n",
    "- Provide concise, actionable answers (max 3 sentences)\n",
    "- Use bullet points for lists\n",
    "- Skip verbose explanations\n",
    "- If MCP is unavailable, provide basic AWS knowledge\n",
    "- Timeout operations after 8 seconds\n",
    "- Prioritize speed over completeness\n",
    "\n",
    "You have access to AWS documentation search tools when available.\"\"\"\n",
    "\n",
    "# Initialize agent with minimal tools first\n",
    "agent = Agent(\n",
    "    system_prompt=system_prompt, \n",
    "    tools=[],  # Start with no tools, add dynamically\n",
    "    name=\"AWS Docs Agent\",\n",
    "    description=\"An agent to query AWS Docs using AWS MCP.\",\n",
    ")\n",
    "\n",
    "# Add tools dynamically when MCP is ready\n",
    "async def setup_agent_tools():\n",
    "    \"\"\"Setup agent tools when MCP client is ready\"\"\"\n",
    "    try:\n",
    "        mcp_client = await get_mcp_client()\n",
    "        if mcp_client:\n",
    "            tools = await asyncio.wait_for(\n",
    "                mcp_client.list_tools_async(), \n",
    "                timeout=5.0\n",
    "            )\n",
    "            agent.tools = [tools] if tools else []\n",
    "            logger.info(\"Agent tools configured\")\n",
    "    except Exception as e:\n",
    "        logger.warning(f\"Could not setup MCP tools: {e}\")\n",
    "\n",
    "a2a_server = A2AServer(\n",
    "    agent=agent,\n",
    "    http_url=runtime_url,\n",
    "    serve_at_root=True\n",
    ")\n",
    "\n",
    "@app.get(\"/ping\")\n",
    "def ping():\n",
    "    return {\"status\": \"healthy\"}\n",
    "\n",
    "@app.on_event(\"startup\")\n",
    "async def startup_event():\n",
    "    \"\"\"Initialize MCP client on startup\"\"\"\n",
    "    await setup_agent_tools()\n",
    "\n",
    "app.mount(\"/\", a2a_server.to_fastapi_app())\n",
    "\n",
    "if __name__ == \"__main__\":\n",
    "    uvicorn.run(app, host=host, port=port)"
   ]
  },
  {
   "cell_type": "markdown",
   "id": "186355e0",
   "metadata": {},
   "source": [
    "#### **Optional** - Local Test\n",
    "\n",
    "If you want to test this code locally, you can open a bash/terminal window and execute following snippets:\n",
    "\n",
    "```bash\n",
    "python agents/strands_aws_docs.py\n",
    "```\n",
    "\n",
    "Server will start locally. Then, run in another terminal/bash following command to test it:\n",
    "\n",
    "```bash\n",
    "curl -X POST http://0.0.0.0:9000 \\-H \"Content-Type: application/json\" \\-d '{  \"jsonrpc\": \"2.0\",  \"id\": \"req-001\",  \"method\": \"message/send\",  \"params\": {  \"message\": {  \"role\": \"user\",  \"parts\": [  {  \"kind\": \"text\",  \"text\": \"What's AWS Lambda?\"  }  ],  \"messageId\": \"d0673ab9-796d-4270-9435-451912020cd1\"  }  } }' | jq .\n",
    "```\n",
    "\n",
    "It will query MCP and then return an answer explaining AWS Lambda.\n",
    "\n",
    "You can also test agent card information retrieval, using following command:\n",
    "\n",
    "```bash\n",
    "curl http://localhost:9000/.well-known/agent-card.json | jq .\n",
    "```"
   ]
  },
  {
   "cell_type": "markdown",
   "id": "3d92821e",
   "metadata": {},
   "source": [
    "#### 1.2 - AWS Blogs expert Agent\n",
    "\n",
    "Now, let's write our second agent code to a local file."
   ]
  },
  {
   "cell_type": "code",
   "execution_count": null,
   "id": "f666b15b",
   "metadata": {},
   "outputs": [],
   "source": [
    "%%writefile agents/strands_aws_blogs_news.py\n",
    "import logging\n",
    "import os\n",
    "import asyncio\n",
    "from strands import Agent, tool\n",
    "from strands.multiagent.a2a import A2AServer\n",
    "import uvicorn\n",
    "from fastapi import FastAPI\n",
    "\n",
    "from ddgs import DDGS\n",
    "from ddgs.exceptions import RatelimitException, DDGSException\n",
    "\n",
    "logging.basicConfig(level=logging.INFO)\n",
    "logger = logging.getLogger(__name__)\n",
    "\n",
    "runtime_url = os.environ.get('AGENTCORE_RUNTIME_URL', 'http://127.0.0.1:9000/')\n",
    "\n",
    "@tool\n",
    "async def fast_internet_search(keywords: str, max_results: int = 3) -> str:\n",
    "    \"\"\"Fast web search with timeouts.\n",
    "    Args:\n",
    "        keywords (str): Search query keywords\n",
    "        max_results (int): Max results (default 3 for speed)\n",
    "    Returns:\n",
    "        Search results\n",
    "    \"\"\"\n",
    "    try:\n",
    "        # Add AWS-specific terms for better results\n",
    "        aws_keywords = f\"site:aws.amazon.com {keywords} AWS\"\n",
    "        \n",
    "        # Use asyncio timeout for the search\n",
    "        async def search_with_timeout():\n",
    "            return DDGS().text(\n",
    "                aws_keywords, \n",
    "                region=\"us-en\", \n",
    "                max_results=max_results\n",
    "            )\n",
    "        \n",
    "        results = await asyncio.wait_for(search_with_timeout(), timeout=8.0)\n",
    "        \n",
    "        if results:\n",
    "            # Format results concisely\n",
    "            formatted = []\n",
    "            for i, result in enumerate(results[:max_results], 1):\n",
    "                formatted.append(f\"{i}. {result.get('title', 'No title')}\\n   {result.get('href', '')}\")\n",
    "            \n",
    "            return \"\\n\".join(formatted)\n",
    "        else:\n",
    "            return \"No AWS results found.\"\n",
    "            \n",
    "    except asyncio.TimeoutError:\n",
    "        logger.warning(f\"Search timeout for: {keywords}\")\n",
    "        return \"Search timed out. Try a more specific query.\"\n",
    "    except RatelimitException:\n",
    "        logger.warning(\"Rate limit hit\")\n",
    "        return \"Rate limit reached. Please try again in a moment.\"\n",
    "    except (DDGSException, Exception) as e:\n",
    "        logger.error(f\"Search error: {e}\")\n",
    "        return f\"Search unavailable: {str(e)[:50]}\"\n",
    "\n",
    "system_prompt = \"\"\"You are an AWS Blog Expert.\n",
    "\n",
    "CRITICAL: Keep responses SHORT and RECENT.\n",
    "\n",
    "Guidelines:\n",
    "- Provide max 3 recent results\n",
    "- Focus on official AWS blog posts only\n",
    "- Use concise summaries (1-2 sentences per result)\n",
    "- Include direct links when available\n",
    "- Timeout searches after 8 seconds\n",
    "- If search fails, acknowledge limitation\n",
    "\n",
    "Search Strategy:\n",
    "- Always include \"AWS\" in searches\n",
    "- Focus on aws.amazon.com/blogs/ content\n",
    "- Prioritize recent announcements\"\"\"\n",
    "\n",
    "agent = Agent(\n",
    "    system_prompt=system_prompt, \n",
    "    tools=[fast_internet_search],\n",
    "    name=\"AWS Blog/News Agent\",\n",
    "    description=\"An agent to search on Web latest AWS Blogs and News.\",\n",
    ")\n",
    "\n",
    "host, port = \"0.0.0.0\", 9000\n",
    "\n",
    "a2a_server = A2AServer(\n",
    "    agent=agent,\n",
    "    http_url=runtime_url,\n",
    "    serve_at_root=True\n",
    ")\n",
    "\n",
    "app = FastAPI()\n",
    "\n",
    "@app.get(\"/ping\")\n",
    "def ping():\n",
    "    return {\"status\": \"healthy\"}\n",
    "\n",
    "app.mount(\"/\", a2a_server.to_fastapi_app())\n",
    "\n",
    "if __name__ == \"__main__\":\n",
    "    uvicorn.run(app, host=host, port=port)"
   ]
  },
  {
   "cell_type": "markdown",
   "id": "f1ad7cf1",
   "metadata": {},
   "source": [
    "Let's write a requirements.txt file with dependencies that are needed for the agent."
   ]
  },
  {
   "cell_type": "code",
   "execution_count": null,
   "id": "40c66575",
   "metadata": {},
   "outputs": [],
   "source": [
    "%%writefile agents/requirements.txt\n",
    "boto3==1.40.50\n",
    "bedrock-agentcore==0.1.7\n",
    "strands-agents[a2a]\n",
    "strands-agents-tools\n",
    "pyyaml\n",
    "ddgs"
   ]
  },
  {
   "cell_type": "markdown",
   "id": "0e8a0a74",
   "metadata": {},
   "source": [
    "### 2 - Deploy to AgentCore Runtime\n",
    "\n",
    "Now, let's deploy this solution into AgentCore Runtime."
   ]
  },
  {
   "cell_type": "markdown",
   "id": "2cb70a1e",
   "metadata": {},
   "source": [
    "#### 2.1 - Setup Cognito User Pool\n",
    "\n",
    "Before deploy agents, we have to set up a Cognito User Pool, so it can validate users that are accessing our agents, or any other Idenitty provider like Okta, Microsoft Entra ID, etc.\n",
    "\n",
    "We're going to import a helper class, that has methods to simplify few steps in our workshop. This helper class will import methods responsible to create Cognito User Pool"
   ]
  },
  {
   "cell_type": "code",
   "execution_count": null,
   "id": "39e5869c",
   "metadata": {},
   "outputs": [],
   "source": [
    "from helpers.utils import setup_cognito_user_pool, reauthenticate_user\n",
    "\n",
    "print(\"Setting up Amazon Cognito user pool...\")\n",
    "cognito_config = (\n",
    "    setup_cognito_user_pool()\n",
    ")  # You'll get your bearer token from this output cell.\n",
    "print(\"Cognito setup completed ✓\")"
   ]
  },
  {
   "cell_type": "markdown",
   "id": "e73e8183",
   "metadata": {},
   "source": [
    "#### 2.2 - Create IAM Role for the Agents"
   ]
  },
  {
   "cell_type": "markdown",
   "id": "21273dd9",
   "metadata": {},
   "source": [
    "##### 2.2.1 AWS Docs Agent Execution Role"
   ]
  },
  {
   "cell_type": "code",
   "execution_count": null,
   "id": "8226f99a",
   "metadata": {},
   "outputs": [],
   "source": [
    "from helpers.utils import create_agentcore_runtime_execution_role, AWS_DOCS_ROLE_NAME\n",
    "\n",
    "execution_role_arn_mcp = create_agentcore_runtime_execution_role(AWS_DOCS_ROLE_NAME)"
   ]
  },
  {
   "cell_type": "markdown",
   "id": "3fcb2232",
   "metadata": {},
   "source": [
    "##### 2.2.2 AWS Blogs Agent Execution Role"
   ]
  },
  {
   "cell_type": "code",
   "execution_count": null,
   "id": "1b7c708f",
   "metadata": {},
   "outputs": [],
   "source": [
    "from helpers.utils import create_agentcore_runtime_execution_role, AWS_BLOG_ROLE_NAME\n",
    "\n",
    "execution_role_arn_blogs = create_agentcore_runtime_execution_role(AWS_BLOG_ROLE_NAME)"
   ]
  },
  {
   "cell_type": "markdown",
   "id": "baec93a6",
   "metadata": {},
   "source": [
    "##### Create configurations for deployment on AgentCore Runtime\n",
    "\n",
    "In following section, we're taking advantage of [starter toolkit](https://docs.aws.amazon.com/bedrock-agentcore/latest/devguide/getting-started-starter-toolkit.html). The starter toolkit is a Command Line Interface (CLI) toolkit that you can use to deploy AI agents to an AgentCore Runtime.\n",
    "\n",
    "We will now create an agent with support for A2A protocol inside AgentCore runtime."
   ]
  },
  {
   "cell_type": "markdown",
   "id": "e18fb6d2",
   "metadata": {},
   "source": [
    "##### 2.2.3 - Let's configure and deploy our first agent (AWS Docs Agent):"
   ]
  },
  {
   "cell_type": "code",
   "execution_count": null,
   "id": "e507a5d1",
   "metadata": {},
   "outputs": [],
   "source": [
    "from bedrock_agentcore_starter_toolkit import Runtime\n",
    "\n",
    "agentcore_runtime_mcp_agent = Runtime()\n",
    "aws_docs_agent_name=\"aws_docs_assistant\"\n",
    "\n",
    "region = boto_session.region_name\n",
    "\n",
    "# Configure the deployment\n",
    "response_aws_docs_agent = agentcore_runtime_mcp_agent.configure(\n",
    "    entrypoint=\"agents/strands_aws_docs.py\",\n",
    "    execution_role=execution_role_arn_mcp,\n",
    "    auto_create_ecr=True,\n",
    "    requirements_file=\"agents/requirements.txt\",\n",
    "    region=region,\n",
    "    agent_name=aws_docs_agent_name,\n",
    "    authorizer_configuration={\n",
    "        \"customJWTAuthorizer\": {\n",
    "            \"allowedClients\": [cognito_config.get(\"client_id\")],\n",
    "            \"discoveryUrl\": cognito_config.get(\"discovery_url\"),\n",
    "        }\n",
    "    },\n",
    "    protocol=\"A2A\",\n",
    ")\n",
    "\n",
    "print(\"Configuration completed:\", response_aws_docs_agent)"
   ]
  },
  {
   "cell_type": "markdown",
   "id": "9e6c737d",
   "metadata": {},
   "source": [
    "Launch the first agent on AgentCore Runtime"
   ]
  },
  {
   "cell_type": "code",
   "execution_count": null,
   "id": "3df4d698",
   "metadata": {},
   "outputs": [],
   "source": [
    "launch_result_mcp = agentcore_runtime_mcp_agent.launch()\n",
    "print(\"Launch completed:\", launch_result_mcp.agent_arn)\n",
    "\n",
    "docs_agent_arn = launch_result_mcp.agent_arn"
   ]
  },
  {
   "cell_type": "markdown",
   "id": "7b8b9c21",
   "metadata": {},
   "source": [
    "**Check Deployment Status**\n",
    "\n",
    "Let's check if deployment is completed:"
   ]
  },
  {
   "cell_type": "code",
   "execution_count": null,
   "id": "ac64ead3",
   "metadata": {},
   "outputs": [],
   "source": [
    "status_response = agentcore_runtime_mcp_agent.status()\n",
    "status = status_response.endpoint[\"status\"]\n",
    "\n",
    "print(f\"Final status: {status}\")"
   ]
  },
  {
   "cell_type": "markdown",
   "id": "b79e6542",
   "metadata": {},
   "source": [
    "##### 2.2.4 - Let's configure and deploy our second agent (AWS Blogs and News Agent):"
   ]
  },
  {
   "cell_type": "code",
   "execution_count": null,
   "id": "d07d8807",
   "metadata": {},
   "outputs": [],
   "source": [
    "from bedrock_agentcore_starter_toolkit import Runtime\n",
    "\n",
    "agentcore_runtime_blogs = Runtime()\n",
    "aws_blogs_agent_name=\"aws_blog_assistant\"\n",
    "\n",
    "# Configure the deployment\n",
    "response_aws_blogs_agent = agentcore_runtime_blogs.configure(\n",
    "    entrypoint=\"agents/strands_aws_blogs_news.py\",\n",
    "    execution_role=execution_role_arn_blogs,\n",
    "    auto_create_ecr=True,\n",
    "    requirements_file=\"agents/requirements.txt\",\n",
    "    region=region,\n",
    "    agent_name=aws_blogs_agent_name,\n",
    "    authorizer_configuration={\n",
    "        \"customJWTAuthorizer\": {\n",
    "            \"allowedClients\": [cognito_config.get(\"client_id\")],\n",
    "            \"discoveryUrl\": cognito_config.get(\"discovery_url\"),\n",
    "        }\n",
    "    },\n",
    "    protocol=\"A2A\"\n",
    ")\n",
    "\n",
    "print(\"Configuration completed:\", response_aws_blogs_agent)"
   ]
  },
  {
   "cell_type": "markdown",
   "id": "fe0f0e26",
   "metadata": {},
   "source": [
    "Launch the second agent on AgentCore Runtime"
   ]
  },
  {
   "cell_type": "code",
   "execution_count": null,
   "id": "d1acf9a5",
   "metadata": {},
   "outputs": [],
   "source": [
    "launch_result_blog = agentcore_runtime_blogs.launch()\n",
    "print(\"Launch completed:\", launch_result_blog.agent_arn)\n",
    "\n",
    "blog_agent_arn = launch_result_blog.agent_arn"
   ]
  },
  {
   "cell_type": "markdown",
   "id": "e929b25b",
   "metadata": {},
   "source": [
    "**Check Deployment Status**\n",
    "\n",
    "Let's check if deployment of second agent is completed:"
   ]
  },
  {
   "cell_type": "code",
   "execution_count": null,
   "id": "1d734d14",
   "metadata": {},
   "outputs": [],
   "source": [
    "status_response = agentcore_runtime_blogs.status()\n",
    "status = status_response.endpoint[\"status\"]\n",
    "\n",
    "print(f\"Final status: {status}\")"
   ]
  },
  {
   "cell_type": "markdown",
   "id": "e963e8be",
   "metadata": {},
   "source": [
    "##### 2.2.5 - Export and save outputs\n",
    "\n",
    "Export variables to be used in next notebooks:"
   ]
  },
  {
   "cell_type": "code",
   "execution_count": null,
   "id": "f883d16f",
   "metadata": {},
   "outputs": [],
   "source": [
    "MCP_AGENT_ID = launch_result_mcp.agent_id\n",
    "MCP_AGENT_ARN = launch_result_mcp.agent_arn\n",
    "MCP_AGENT_NAME = aws_docs_agent_name\n",
    "\n",
    "BLOG_AGENT_ID = launch_result_blog.agent_id\n",
    "BLOG_AGENT_ARN = launch_result_blog.agent_arn\n",
    "BLOG_AGENT_NAME = aws_blogs_agent_name\n",
    "\n",
    "COGNITO_CLIENT_ID = cognito_config.get(\"client_id\")\n",
    "COGNITO_SECRET = cognito_config.get(\"client_secret\")\n",
    "DISCOVERY_URL = cognito_config.get(\"discovery_url\")\n",
    "\n",
    "%store MCP_AGENT_ID\n",
    "%store MCP_AGENT_ARN\n",
    "%store MCP_AGENT_NAME\n",
    "%store BLOG_AGENT_ID\n",
    "%store BLOG_AGENT_ARN\n",
    "%store BLOG_AGENT_NAME\n",
    "%store COGNITO_CLIENT_ID\n",
    "%store COGNITO_SECRET\n",
    "%store DISCOVERY_URL"
   ]
  },
  {
   "cell_type": "markdown",
   "id": "7aee48dc",
   "metadata": {},
   "source": [
    "Store ARN of the agents in SSM, so it can be used by orchestrator:"
   ]
  },
  {
   "cell_type": "code",
   "execution_count": null,
   "id": "f0506ffc",
   "metadata": {},
   "outputs": [],
   "source": [
    "from helpers.utils import put_ssm_parameter, SSM_DOCS_AGENT_ARN, SSM_BLOGS_AGENT_ARN\n",
    "\n",
    "put_ssm_parameter(SSM_DOCS_AGENT_ARN, MCP_AGENT_ARN)\n",
    "\n",
    "put_ssm_parameter(SSM_BLOGS_AGENT_ARN, BLOG_AGENT_ARN)"
   ]
  },
  {
   "cell_type": "markdown",
   "id": "75ecb0df",
   "metadata": {},
   "source": [
    "### 3 - Invoking A2A agents\n",
    "\n",
    "Firstly, let's refresh the auth token:"
   ]
  },
  {
   "cell_type": "code",
   "execution_count": null,
   "id": "798f893c",
   "metadata": {},
   "outputs": [],
   "source": [
    "bearer_token = reauthenticate_user(\n",
    "    cognito_config.get(\"client_id\"), \n",
    "    cognito_config.get(\"client_secret\")\n",
    ")"
   ]
  },
  {
   "cell_type": "markdown",
   "id": "1eecf0b8",
   "metadata": {},
   "source": [
    "#### 3.1 Getting Agent Cards\n",
    "\n",
    "Now let's get started by getting the Agent Card information from our first agent (AWS Docs MCP Expert):"
   ]
  },
  {
   "cell_type": "code",
   "execution_count": null,
   "id": "3e1a9767",
   "metadata": {},
   "outputs": [],
   "source": [
    "import logging\n",
    "from uuid import uuid4\n",
    "from urllib.parse import quote\n",
    "\n",
    "logging.basicConfig(level=logging.ERROR)\n",
    "logger = logging.getLogger(__name__)\n",
    "\n",
    "def fetch_agent_card(agent_arn):\n",
    "    # URL encode the agent ARN\n",
    "    escaped_agent_arn = quote(agent_arn, safe='')\n",
    "\n",
    "    # Construct the URL\n",
    "    url = f\"https://bedrock-agentcore.{region}.amazonaws.com/runtimes/{escaped_agent_arn}/invocations/.well-known/agent-card.json\"\n",
    "    logger.info(url)\n",
    "    # Generate a unique session ID\n",
    "    session_id = str(uuid4())\n",
    "    logger.info(f\"Generated session ID: {session_id}\")\n",
    "\n",
    "    # Set headers\n",
    "    headers = {\n",
    "        'Accept': '*/*',\n",
    "        'Authorization': f'Bearer {bearer_token}',\n",
    "        'X-Amzn-Bedrock-AgentCore-Runtime-Session-Id': session_id,\n",
    "        'X-Amzn-Trace-Id': f'aws_docs_assistant_{session_id}'\n",
    "    }\n",
    "\n",
    "    try:\n",
    "        # Make the request\n",
    "        response = requests.get(url, headers=headers)\n",
    "        response.raise_for_status()\n",
    "\n",
    "        # Parse and pretty print JSON\n",
    "        agent_card = response.json()\n",
    "        logger.info(json.dumps(agent_card, indent=2))\n",
    "\n",
    "        return agent_card\n",
    "\n",
    "    except requests.exceptions.RequestException as e:\n",
    "        logger.error(f\"Error fetching agent card: {e}\")\n",
    "        return None"
   ]
  },
  {
   "cell_type": "code",
   "execution_count": null,
   "id": "1af8d8da",
   "metadata": {},
   "outputs": [],
   "source": [
    "fetch_agent_card(docs_agent_arn)"
   ]
  },
  {
   "cell_type": "markdown",
   "id": "0d3962b8",
   "metadata": {},
   "source": [
    "Not let's check the agent card for the second agent (AWS Blogs and News expert): "
   ]
  },
  {
   "cell_type": "code",
   "execution_count": null,
   "id": "ed4b5dfc",
   "metadata": {},
   "outputs": [],
   "source": [
    "fetch_agent_card(blog_agent_arn)"
   ]
  },
  {
   "cell_type": "markdown",
   "id": "8ad86a39",
   "metadata": {},
   "source": [
    "#### 3.2 - Test agents\n",
    "\n",
    "Now, let's invoke the first agent, using A2A:"
   ]
  },
  {
   "cell_type": "code",
   "execution_count": null,
   "id": "a1e4d49c",
   "metadata": {},
   "outputs": [],
   "source": [
    "import asyncio\n",
    "import logging\n",
    "import os\n",
    "from uuid import uuid4\n",
    "\n",
    "import httpx\n",
    "from a2a.client import A2ACardResolver, ClientConfig, ClientFactory\n",
    "from a2a.types import Message, Part, Role, TextPart\n",
    "\n",
    "logging.basicConfig(level=logging.ERROR)\n",
    "logger = logging.getLogger(__name__)\n",
    "\n",
    "DEFAULT_TIMEOUT = 300  # set request timeout to 5 minutes\n",
    "\n",
    "def format_agent_response(response):\n",
    "    \"\"\"Extract and format agent response for human readability.\"\"\"\n",
    "    # Get the main response text from artifacts\n",
    "    if response.artifacts and len(response.artifacts) > 0:\n",
    "        artifact = response.artifacts[0]\n",
    "        if artifact.parts and len(artifact.parts) > 0:\n",
    "            return artifact.parts[0].root.text\n",
    "    \n",
    "    # Fallback: concatenate all agent messages from history\n",
    "    agent_messages = [\n",
    "        msg.parts[0].root.text \n",
    "        for msg in response.history \n",
    "        if msg.role.value == 'agent' and msg.parts\n",
    "    ]\n",
    "    return ''.join(agent_messages)\n",
    "\n",
    "\n",
    "def create_message(*, role: Role = Role.user, text: str) -> Message:\n",
    "    return Message(\n",
    "        kind=\"message\",\n",
    "        role=role,\n",
    "        parts=[Part(TextPart(kind=\"text\", text=text))],\n",
    "        message_id=uuid4().hex,\n",
    "    )\n",
    "\n",
    "async def send_sync_message(agent_arn, message: str):\n",
    "    # Get runtime URL from environment variable\n",
    "    escaped_agent_arn = quote(agent_arn, safe='')\n",
    "\n",
    "    # Construct the URL\n",
    "    runtime_url = f\"https://bedrock-agentcore.{region}.amazonaws.com/runtimes/{escaped_agent_arn}/invocations/\"\n",
    "    \n",
    "    # Generate a unique session ID\n",
    "    session_id = str(uuid4())\n",
    "    print(f\"Generated session ID: {session_id}\")\n",
    "\n",
    "    # Add authentication headers for AgentCore\n",
    "    headers = {\"Authorization\": f\"Bearer {bearer_token}\",\n",
    "              'X-Amzn-Bedrock-AgentCore-Runtime-Session-Id': session_id}\n",
    "        \n",
    "    async with httpx.AsyncClient(timeout=DEFAULT_TIMEOUT, headers=headers) as httpx_client:\n",
    "        # Get agent card from the runtime URL\n",
    "        resolver = A2ACardResolver(httpx_client=httpx_client, base_url=runtime_url)\n",
    "        agent_card = await resolver.get_agent_card()\n",
    "        print(agent_card)\n",
    "\n",
    "        # Agent card contains the correct URL (same as runtime_url in this case)\n",
    "        # No manual override needed - this is the path-based mounting pattern\n",
    "\n",
    "        # Create client using factory\n",
    "        config = ClientConfig(\n",
    "            httpx_client=httpx_client,\n",
    "            streaming=False,  # Use non-streaming mode for sync response\n",
    "        )\n",
    "        factory = ClientFactory(config)\n",
    "        client = factory.create(agent_card)\n",
    "\n",
    "        # Create and send message\n",
    "        msg = create_message(text=message)\n",
    "\n",
    "        # With streaming=False, this will yield exactly one result\n",
    "        async for event in client.send_message(msg):\n",
    "            if isinstance(event, Message):\n",
    "                logger.info(event.model_dump_json(exclude_none=True, indent=2))\n",
    "                return event\n",
    "            elif isinstance(event, tuple) and len(event) == 2:\n",
    "                # (Task, UpdateEvent) tuple\n",
    "                task, update_event = event\n",
    "                logger.info(f\"Task: {task.model_dump_json(exclude_none=True, indent=2)}\")\n",
    "                if update_event:\n",
    "                    logger.info(f\"Update: {update_event.model_dump_json(exclude_none=True, indent=2)}\")\n",
    "                return task\n",
    "            else:\n",
    "                # Fallback for other response types\n",
    "                logger.info(f\"Response: {str(event)}\")\n",
    "                return event"
   ]
  },
  {
   "cell_type": "code",
   "execution_count": null,
   "id": "5bbb93a2",
   "metadata": {},
   "outputs": [],
   "source": [
    "result = await send_sync_message(docs_agent_arn, \"what is DynamoDB\")\n",
    "formatted_output = format_agent_response(result)\n",
    "print(formatted_output)"
   ]
  },
  {
   "cell_type": "markdown",
   "id": "bba83dc6",
   "metadata": {},
   "source": [
    "Not, let's test our 2nd agent:"
   ]
  },
  {
   "cell_type": "code",
   "execution_count": null,
   "id": "bfdf3dcd",
   "metadata": {},
   "outputs": [],
   "source": [
    "result = await send_sync_message(blog_agent_arn, \"Give me the latest published blog for Bedrock AgentCore?\")\n",
    "formatted_output = format_agent_response(result)\n",
    "print(formatted_output)"
   ]
  },
  {
   "cell_type": "markdown",
   "id": "66191993",
   "metadata": {},
   "source": [
    "Following is a more detailed output, showing steps that agent has taken.\n",
    "\n",
    "Feel free to change the questions asked to agent and see the step-by-step result."
   ]
  },
  {
   "cell_type": "code",
   "execution_count": null,
   "id": "34a85c98",
   "metadata": {},
   "outputs": [],
   "source": [
    "def format_agent_trace(response):\n",
    "    \"\"\"Format agent response as a readable trace of calls.\"\"\"\n",
    "    print(\"=\" * 60)\n",
    "    print(\"🔍 AGENT EXECUTION TRACE\")\n",
    "    print(\"=\" * 60)\n",
    "    \n",
    "    # Context info\n",
    "    print(f\"📋 Context ID: {response.context_id}\")\n",
    "    print(f\"🆔 Task ID: {response.id}\")\n",
    "    print(f\"📊 Status: {response.status.state.value}\")\n",
    "    print(f\"⏰ Completed: {response.status.timestamp}\")\n",
    "    print()\n",
    "    \n",
    "    # Trace through history\n",
    "    print(\"🔄 EXECUTION FLOW:\")\n",
    "    print(\"-\" * 40)\n",
    "    \n",
    "    for i, msg in enumerate(response.history, 1):\n",
    "        role_icon = \"👤\" if msg.role.value == \"user\" else \"🤖\"\n",
    "        text = msg.parts[0].root.text if msg.parts else \"[No content]\"\n",
    "        \n",
    "        # Truncate long messages for trace view\n",
    "        if len(text) > 80:\n",
    "            text = text[:77] + \"...\"\n",
    "            \n",
    "        print(f\"{i:2d}. {role_icon} {msg.role.value.upper()}: {text}\")\n",
    "    \n",
    "    print()\n",
    "    print(\"✅ FINAL RESULT:\")\n",
    "    print(\"-\" * 40)\n",
    "    \n",
    "    # Final artifact\n",
    "    if response.artifacts:\n",
    "        final_text = response.artifacts[0].parts[0].root.text\n",
    "        print(final_text[:200] + \"...\" if len(final_text) > 200 else final_text)\n",
    "    \n",
    "    print(\"=\" * 60)"
   ]
  },
  {
   "cell_type": "code",
   "execution_count": null,
   "id": "db37c60f",
   "metadata": {},
   "outputs": [],
   "source": [
    "format_agent_trace(result)"
   ]
  },
  {
   "cell_type": "markdown",
   "id": "c476fa34",
   "metadata": {},
   "source": [
    "Congratulations, you have deployed your first agent, using A2A protocol on Amazon AgentCore Runtime!\n",
    "\n",
    "Now, let's move to next lab."
   ]
  }
 ],
 "metadata": {
  "kernelspec": {
   "display_name": ".env (3.13.7)",
   "language": "python",
   "name": "python3"
  },
  "language_info": {
   "codemirror_mode": {
    "name": "ipython",
    "version": 3
   },
   "file_extension": ".py",
   "mimetype": "text/x-python",
   "name": "python",
   "nbconvert_exporter": "python",
   "pygments_lexer": "ipython3",
   "version": "3.13.7"
  }
 },
 "nbformat": 4,
 "nbformat_minor": 5
}
