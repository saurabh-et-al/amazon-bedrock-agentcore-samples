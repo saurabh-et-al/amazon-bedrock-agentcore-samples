{
  "cells": [
    {
      "cell_type": "markdown",
      "id": "5c0122e65c053f38",
      "metadata": {},
      "source": [
        "# Hosting Simple CrewAI Agent with Amazon Bedrock models in Amazon Bedrock AgentCore Runtime\n",
        "\n",
        "## Overview\n",
        "\n",
        "In this tutorial we will learn how to host a simple CrewAI agent using Amazon Bedrock AgentCore Runtime. We will be using Opentelemetry instrumentation and AWS Opentelemetry python library to add observability to this agent and monitor it's performance on Amazon CloudWatch GenAI Observability Dashboard.\n",
        "\n",
        "### Tutorial Details\n",
        "\n",
        "| Information         | Details                                                                          |\n",
        "|:--------------------|:---------------------------------------------------------------------------------|\n",
        "| Tutorial type       | Conversational                                                                   |\n",
        "| Agent type          | Single                                                                           |\n",
        "| Agentic Framework   | CrewAI                                                                           |\n",
        "| LLM model           | Anthropic Claude Sonnet 3.7                                                     |\n",
        "| Tutorial components | Hosting agent on AgentCore Runtime. Using CrewAI and Amazon Bedrock Model       |\n",
        "| Tutorial vertical   | Cross-vertical                                                                   |\n",
        "| Example complexity  | Easy                                                                             |\n",
        "| SDK used            | Amazon BedrockAgentCore Python SDK and boto3                                    |\n",
        "\n",
        "### Tutorial Key Features\n",
        "\n",
        "* Hosting Agents on Amazon Bedrock AgentCore Runtime\n",
        "* Using Amazon Bedrock models\n",
        "* Using CrewAI\n",
        "* Amazon CloudWatch GenAI Observability\n",
        "\n",
        "\n",
        "### Tutorial Architecture\n",
        "\n",
        "In this tutorial we will describe how to deploy an existing multi-agent crew to AgentCore runtime. \n",
        "\n",
        "For demonstration purposes, we will use a CrewAI crew using Amazon Bedrock models\n",
        "\n",
        "In our example we will use a travel agent with web search capabilities.\n",
        "<div style=\"text-align:left\">\n",
        "    <img src=\"images/architecture_runtime.png\" width=\"60%\"/>\n",
        "</div>\n"
      ]
    },
    {
      "cell_type": "markdown",
      "id": "3a676f58ecf52b42",
      "metadata": {},
      "source": [
        "## Prerequisites\n",
        "\n",
        "To execute this tutorial you will need:\n",
        "* Python 3.10+\n",
        "* AWS credentials with appropriate permissions\n",
        "* Amazon Bedrock AgentCore SDK\n",
        "* CrewAI\n",
        "* Amazon CloudWatch Access\n",
        "* Enable [transaction search](https://docs.aws.amazon.com/AmazonCloudWatch/latest/monitoring/Enable-TransactionSearch.html) on Amazon CloudWatch."
      ]
    },
    {
      "cell_type": "code",
      "execution_count": null,
      "id": "initial_id",
      "metadata": {},
      "outputs": [],
      "source": [
        "!pip install --force-reinstall -U -r requirements.txt --quiet"
      ]
    },
    {
      "cell_type": "markdown",
      "id": "932110e6-fca6-47b6-b7c5-c4714a866a80",
      "metadata": {},
      "source": [
        "## Preparing your agent for deployment on AgentCore Runtime\n",
        "\n",
        "Let's now deploy our agent to AgentCore Runtime. To do so we need to:\n",
        "* Import the Runtime App with `from bedrock_agentcore.runtime import BedrockAgentCoreApp`\n",
        "* Initialize the App in our code with `app = BedrockAgentCoreApp()`\n",
        "* Decorate the invocation function with the `@app.entrypoint` decorator\n",
        "* Let AgentCoreRuntime control the running of the agent with `app.run()`\n",
        "\n",
        "### CrewAI Agent with Amazon Bedrock model\n",
        "Let's create our runtime-ready CrewAI Agent using Amazon Bedrock model."
      ]
    },
    {
      "cell_type": "code",
      "execution_count": null,
      "id": "3b845b32-a03e-45c2-a2f0-2afba8069f47",
      "metadata": {},
      "outputs": [],
      "source": [
        "%%writefile crewai_runtime_agent.py\n",
        "import os\n",
        "\n",
        "from crewai import Agent, Task, Crew, LLM\n",
        "from crewai.tools import tool\n",
        "from ddgs import DDGS\n",
        "import logging\n",
        "from bedrock_agentcore.runtime import BedrockAgentCoreApp\n",
        "from opentelemetry.instrumentation.crewai import CrewAIInstrumentor\n",
        "\n",
        "# Instrument CrewAI with Opentelemetry\n",
        "# Note: The AWS OpenTelemetry distro will automatically handle tracer provider setup\n",
        "# when using opentelemetry-instrument command\n",
        "CrewAIInstrumentor().instrument()\n",
        "\n",
        "app = BedrockAgentCoreApp()\n",
        "\n",
        "# Set up logging\n",
        "logging.basicConfig(level=logging.INFO)\n",
        "logger = logging.getLogger(__name__)\n",
        "\n",
        "@tool(\"web_search\")\n",
        "def web_search(query: str) -> str:\n",
        "    \"\"\"Search the web for current information about travel destinations, attractions, and events.\"\"\"\n",
        "    try:\n",
        "        ddgs = DDGS()\n",
        "        results = ddgs.text(query, max_results=3)\n",
        "        \n",
        "        formatted_results = []\n",
        "        for i, result in enumerate(results, 1):\n",
        "            formatted_results.append(\n",
        "                f\"{i}. {result.get('title', 'No title')}\\n\"\n",
        "                f\"   {result.get('body', 'No summary')}\\n\"\n",
        "                f\"   Source: {result.get('href', 'No URL')}\\n\"\n",
        "            )\n",
        "        \n",
        "        return \"\\n\".join(formatted_results) if formatted_results else \"No results found.\"\n",
        "        \n",
        "    except Exception as e:\n",
        "        return f\"Search error: {str(e)}\"\n",
        "\n",
        "def get_llm():\n",
        "    model_id = os.getenv(\"BEDROCK_MODEL_ID\", \"us.anthropic.claude-3-7-sonnet-20250219-v1:0\")\n",
        "    region = os.getenv(\"AWS_DEFAULT_REGION\", \"us-west-2\")\n",
        "    \n",
        "    try:\n",
        "        llm = LLM(\n",
        "            model=f\"bedrock/{model_id}\",\n",
        "            temperature=0.7,\n",
        "            max_tokens=512,\n",
        "            aws_region_name=region\n",
        "        )\n",
        "        logger.info(f\"Successfully initialized Bedrock LLM with model: {model_id} in region: {region}\")\n",
        "        return llm\n",
        "    except Exception as e:\n",
        "        logger.error(f\"Failed to initialize Bedrock LLM: {str(e)}\")\n",
        "        logger.error(\"Please ensure you have proper AWS credentials configured and access to the Bedrock model\")\n",
        "        raise\n",
        "\n",
        "@app.entrypoint\n",
        "def crewai_agent_bedrock(payload, context):\n",
        "    \"\"\"\n",
        "    Invoke the agent with a payload\n",
        "    \"\"\"\n",
        "    print(f'Payload: {payload}')\n",
        "    try:\n",
        "        user_input = payload.get(\"prompt\", \"What are some interesting places to visit?\")\n",
        "        print(f\"Processing request: {user_input}\")\n",
        "        \n",
        "        llm = get_llm()\n",
        "\n",
        "        travel_agent = Agent(\n",
        "            role='Travel Destination Researcher',\n",
        "            goal='Find dream destinations matching user preferences using web search for current information',\n",
        "            backstory=\"You are an experienced travel agent specializing in personalized travel recommendations with access to real-time web information.\",\n",
        "            verbose=True,\n",
        "            allow_delegation=False,\n",
        "            llm=llm,\n",
        "            max_iter=3,\n",
        "            tools=[web_search]\n",
        "        )\n",
        "\n",
        "        task = Task(\n",
        "            description=f\"Research and provide travel recommendations based on this request: {user_input}. Use web search to find current information about venues, events, and attractions.\",\n",
        "            expected_output=\"A comprehensive list of recommended destinations with current information, brief descriptions, and practical travel details.\",\n",
        "            agent=travel_agent\n",
        "        )\n",
        "\n",
        "        crew = Crew(\n",
        "            agents=[travel_agent],\n",
        "            tasks=[task],\n",
        "            verbose=True\n",
        "        )\n",
        "\n",
        "        result = crew.kickoff()\n",
        "        \n",
        "        print(\"Context:\\n-------\\n\", context)\n",
        "        print(\"Result Raw:\\n*******\\n\", result.raw)\n",
        "        \n",
        "        return {\"result\": result.raw}\n",
        "        \n",
        "    except Exception as e:\n",
        "        print(f'Exception occurred: {e}')\n",
        "        return {\"error\": f\"An error occurred: {str(e)}\"}\n",
        "\n",
        "if __name__ == \"__main__\":\n",
        "    app.run()"
      ]
    },
    {
      "cell_type": "markdown",
      "id": "c64db7b5-0f1b-475f-9bf2-467b4449d46a",
      "metadata": {},
      "source": [
        "## What happens behind the scenes?\n",
        "\n",
        "When you use `BedrockAgentCoreApp`, it automatically:\n",
        "\n",
        "* Creates an HTTP server that listens on the port 8080\n",
        "* Implements the required `/invocations` endpoint for processing the agent's requirements\n",
        "* Implements the `/ping` endpoint for health checks (very important for asynchronous agents)\n",
        "* Handles proper content types and response formats\n",
        "* Manages error handling according to the AWS standards"
      ]
    },
    {
      "cell_type": "markdown",
      "id": "6820ca8f-a8a8-4f34-b4ef-b6dad3776261",
      "metadata": {},
      "source": [
        "## Deploying the agent to AgentCore Runtime\n",
        "\n",
        "The `CreateAgentRuntime` operation supports comprehensive configuration options, letting you specify container images, environment variables and encryption settings. You can also configure protocol settings (HTTP, MCP) and authorization mechanisms to control how your clients communicate with the agent. \n",
        "\n",
        "**Note:** Operations best practice is to package code as container and push to ECR using CI/CD pipelines and IaC\n",
        "\n",
        "In this tutorial we will use the Amazon Bedrock AgentCore Python SDK to easily package your artifacts and deploy them to AgentCore runtime."
      ]
    },
    {
      "cell_type": "markdown",
      "id": "8855aceb-b79f-4aaa-b16f-8577c059816a",
      "metadata": {},
      "source": [
        "### Configure AgentCore Runtime deployment\n",
        "\n",
        "Next we will use our starter toolkit to configure the AgentCore Runtime deployment with an entrypoint, the execution role we just created and a requirements file. We will also configure the starter kit to auto create the Amazon ECR repository on launch.\n",
        "\n",
        "During the configure step, your docker file will be generated based on your application code. \n",
        "\n",
        "<div style=\"text-align:left\">\n",
        "    <img src=\"images/configure.png\" width=\"60%\"/>\n",
        "</div>\n",
        "\n",
        "Please note that when using the `bedrock_agentcore_starter_toolkit` to configure your agent, it takes care of the opentelemetry instrumentation. \n",
        "\n",
        "When configuring for containerized environment (such as docker) add the following command, an example is given below:\n",
        "\n",
        "`CMD [\"opentelemetry-instrument\", \"python\", \"runtime_agent_main.py\"]`"
      ]
    },
    {
      "cell_type": "code",
      "execution_count": null,
      "id": "2e79eba2-ca59-463f-9ebf-56e362d7ae66",
      "metadata": {},
      "outputs": [],
      "source": [
        "from bedrock_agentcore_starter_toolkit import Runtime\n",
        "from boto3.session import Session\n",
        "boto_session = Session()\n",
        "region = boto_session.region_name\n",
        "\n",
        "agentcore_runtime = Runtime()\n",
        "agent_name = \"simple_crewai_travel_agent\"\n",
        "response = agentcore_runtime.configure(\n",
        "    entrypoint=\"crewai_runtime_agent.py\",\n",
        "    auto_create_execution_role=True,\n",
        "    auto_create_ecr=True,\n",
        "    requirements_file=\"requirements.txt\",\n",
        "    region=region,\n",
        "    agent_name=agent_name,\n",
        "    memory_mode='NO_MEMORY'\n",
        ")\n",
        "response"
      ]
    },
    {
      "cell_type": "markdown",
      "id": "9e1b84cc-798e-472c-ac0b-2c315f4b704d",
      "metadata": {},
      "source": [
        "### Launching agent to AgentCore Runtime\n",
        "\n",
        "Now that we've got a docker file, let's launch the agent to the AgentCore Runtime. This will create the Amazon ECR repository and the AgentCore Runtime\n",
        "\n",
        "<div style=\"text-align:left\">\n",
        "    <img src=\"images/launch.png\" width=\"85%\"/>\n",
        "</div>"
      ]
    },
    {
      "cell_type": "code",
      "execution_count": null,
      "id": "17a32ab8-7701-4900-8055-e24364bdf35c",
      "metadata": {},
      "outputs": [],
      "source": [
        "# Disable CrewAI's built-in telemetry to avoid conflicts\n",
        "launch_result = agentcore_runtime.launch(env_vars={\n",
        "        \"CREWAI_DISABLE_TELEMETRY\": \"true\",\n",
        "        \"OTEL_PYTHON_EXCLUDED_URLS\": \"https://api.scarf.sh/\"\n",
        "    })\n",
        "launch_result"
      ]
    },
    {
      "cell_type": "markdown",
      "id": "a0ae9c09-09db-4a76-871a-92eacd96b9c3",
      "metadata": {},
      "source": [
        "### Checking for the AgentCore Runtime Status\n",
        "Now that we've deployed the AgentCore Runtime, let's check for it's deployment status"
      ]
    },
    {
      "cell_type": "code",
      "execution_count": null,
      "id": "afa6ac09-9adb-4846-9fc1-4d12aeb74853",
      "metadata": {},
      "outputs": [],
      "source": [
        "import time\n",
        "status_response = agentcore_runtime.status()\n",
        "status = status_response.endpoint['status']\n",
        "end_status = ['READY', 'CREATE_FAILED', 'DELETE_FAILED', 'UPDATE_FAILED']\n",
        "while status not in end_status:\n",
        "    time.sleep(10)\n",
        "    status_response = agentcore_runtime.status()\n",
        "    status = status_response.endpoint['status']\n",
        "    print(status)\n",
        "status"
      ]
    },
    {
      "cell_type": "markdown",
      "id": "b7f89c56-918a-4cab-beaa-c7ac43a2ba29",
      "metadata": {},
      "source": [
        "### Invoking AgentCore Runtime\n",
        "\n",
        "Finally, we can invoke our AgentCore Runtime with a payload\n",
        "\n",
        "<div style=\"text-align:left\">\n",
        "    <img src=\"images/invoke.png\" width=85%\"/>\n",
        "</div>"
      ]
    },
    {
      "cell_type": "code",
      "execution_count": null,
      "id": "3d909e42-e1a0-407f-84c2-3d16cc889cd3",
      "metadata": {},
      "outputs": [],
      "source": [
        "invoke_response = agentcore_runtime.invoke({\"prompt\": \"What are some cowboy-themed attractions and museums in Texas?\"})\n",
        "invoke_response"
      ]
    },
    {
      "cell_type": "markdown",
      "id": "fefa09f2-d25a-483f-aedb-11690bb8923a",
      "metadata": {},
      "source": [
        "### Processing invocation results\n",
        "\n",
        "We can now process our invocation results to include it in an application"
      ]
    },
    {
      "cell_type": "code",
      "execution_count": null,
      "id": "11249103-cfb3-47b5-970d-981a977a225a",
      "metadata": {},
      "outputs": [],
      "source": [
        "from IPython.display import Markdown, display\n",
        "import json\n",
        "response_text = invoke_response['response'][0]\n",
        "display(Markdown(response_text))"
      ]
    },
    {
      "cell_type": "markdown",
      "id": "2c1d2bce-be41-478c-8bed-b4037c385795",
      "metadata": {},
      "source": [
        "### Invoking AgentCore Runtime with boto3\n",
        "\n",
        "Now that your AgentCore Runtime was created you can invoke it with any AWS SDK. For instance, you can use the boto3 `invoke_agent_runtime` method for it."
      ]
    },
    {
      "cell_type": "code",
      "execution_count": null,
      "id": "7f84e68d-6c04-41b9-bf5b-60edc3fa0985",
      "metadata": {},
      "outputs": [],
      "source": [
        "import boto3\n",
        "agent_arn = launch_result.agent_arn\n",
        "agentcore_client = boto3.client(\n",
        "    'bedrock-agentcore',\n",
        "    region_name=region\n",
        ")\n",
        "\n",
        "boto3_response = agentcore_client.invoke_agent_runtime(\n",
        "    agentRuntimeArn=agent_arn,\n",
        "    qualifier=\"DEFAULT\",\n",
        "    payload=json.dumps({\"prompt\": \"What are some rodeo events happening in Oklahoma?\"})\n",
        ")\n",
        "\n",
        "response_body = boto3_response['response'].read()\n",
        "response_data = json.loads(response_body)\n",
        "display(Markdown(response_data.get('result', 'No result found')))"
      ]
    },
    {
      "cell_type": "markdown",
      "id": "05efe60e",
      "metadata": {},
      "source": [
        "### AgentCore Observability on Amazon CloudWatch \n",
        "\n",
        "To summarize, please follow the below steps to enable observability from AgentCore runtime hosted agents : \n",
        "\n",
        "- Enable Transaction Search on Amazon CloudWatch \n",
        "- The agent emits traces and is instrumented using opentelemtry command : `opentelemetry-instrument python any_runtime_agent.py`\n",
        "- The requirements.txt file contains `aws-opentelemetry-distro` listed while deploying the agent on Bedrock Agentcore Runtime.\n",
        "\n",
        "## Bedrock AgentCore Overview on GenAI Observability dashboard \n",
        "\n",
        "You are able to view all your Agents that have observability in them and filter the data based on time frames.\n",
        "\n",
        "In the main dashboard you are able to view runtime metrics across all agents.\n",
        "\n",
        "Now, if you click on the agent you just deployed you will be taken to a dashboard for the runtime metrics specific to this agent, you can also filter the data by a custom time frame.\n",
        "\n",
        "In the Sessions View tab, you can navigate to all the sessions associated with this agent.\n",
        "\n"
      ]
    },
    {
      "cell_type": "markdown",
      "id": "32099fd2",
      "metadata": {},
      "source": [
        "In the Trace View tab, you can look into the traces and span information for this agent on runtime.\n",
        "\n",
        "\n",
        "<div style=\"text-align:left\">\n",
        "    <img src=\"images/span_crew_Ai.png\" width=\"60%\"/>\n",
        "</div>\n",
        "\n",
        "\n",
        "Please click through the various features of GenAI observability dashboard to get more detailed information on traces.\n",
        "\n",
        "<div style=\"text-align:left\">\n",
        "    <img src=\"images/span_details.png\" width=\"60%\"/>\n",
        "</div>\n",
        "\n",
        "\n"
      ]
    },
    {
      "cell_type": "markdown",
      "id": "7d3fdfe404469632",
      "metadata": {},
      "source": [
        "## Cleanup (Optional)\n",
        "\n",
        "Let's now clean up the AgentCore Runtime created"
      ]
    },
    {
      "cell_type": "code",
      "execution_count": null,
      "id": "7c243e86-a214-483c-aef1-d5243f28ca9e",
      "metadata": {},
      "outputs": [],
      "source": [
        "launch_result.ecr_uri, launch_result.agent_id, launch_result.ecr_uri.split('/')[1]"
      ]
    },
    {
      "cell_type": "code",
      "execution_count": null,
      "id": "76a6cf1416830a54",
      "metadata": {},
      "outputs": [],
      "source": [
        "agentcore_control_client = boto3.client(\n",
        "    'bedrock-agentcore-control',\n",
        "    region_name=region\n",
        ")\n",
        "ecr_client = boto3.client(\n",
        "    'ecr',\n",
        "    region_name=region\n",
        "    \n",
        ")\n",
        "\n",
        "runtime_delete_response = agentcore_control_client.delete_agent_runtime(\n",
        "    agentRuntimeId=launch_result.agent_id,\n",
        "    \n",
        ")\n",
        "\n",
        "response = ecr_client.delete_repository(\n",
        "    repositoryName=launch_result.ecr_uri.split('/')[1],\n",
        "    force=True\n",
        ")"
      ]
    },
    {
      "cell_type": "markdown",
      "id": "b118ad38-feeb-4d1d-9d57-e5c845becc56",
      "metadata": {},
      "source": [
        "# Congratulations!\n",
        "\n",
        "You have successfully created and deployed a simple CrewAI agent to Amazon Bedrock AgentCore Runtime with observability enabled. This example demonstrates how to:\n",
        "\n",
        "- Create a simple CrewAI travel agent with web search capabilities\n",
        "- Enable observability through Amazon CloudWatch\n",
        "- Invoke the agent using both the SDK and boto3\n",
        "\n",
        "The agent can now be used with full observability and monitoring capabilities."
      ]
    }
  ],
  "metadata": {
    "kernelspec": {
      "display_name": ".venv",
      "language": "python",
      "name": "python3"
    },
    "language_info": {
      "codemirror_mode": {
        "name": "ipython",
        "version": 3
      },
      "file_extension": ".py",
      "mimetype": "text/x-python",
      "name": "python",
      "nbconvert_exporter": "python",
      "pygments_lexer": "ipython3",
      "version": "3.13.5"
    }
  },
  "nbformat": 4,
  "nbformat_minor": 5
}
