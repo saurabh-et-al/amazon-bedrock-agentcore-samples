{
 "cells": [
  {
   "cell_type": "markdown",
   "metadata": {},
   "source": [
    "# 🌐 Strands + AgentCore Browser Integration \n",
    "\n",
    "## Overview\n",
    "\n",
    "In this tutorial we will learn how to use Strands agents with Amazon Bedrock AgentCore Browser tool for intelligent web automation and financial analysis. We will demonstrate how to create a Strands agent that can browse websites, extract financial data, and provide AI-powered insights using the official `strands_tools.browser.AgentCoreBrowser` integration.\n",
    "\n",
    "### Tutorial Details\n",
    "\n",
    "| Information         | Details                                                                          |\n",
    "|:--------------------|:---------------------------------------------------------------------------------|\n",
    "| Tutorial type       | Conversational                                                                   |\n",
    "| Agent type          | Single                                                                           |\n",
    "| Agentic Framework   | Strands                                                                          |\n",
    "| LLM model           | Claude 3 Haiku                                                                   |\n",
    "| Tutorial components | Browser automation, Financial analysis, Error recovery                           |\n",
    "| Tutorial vertical   | Financial Technology                                                             |\n",
    "| Example complexity  | Intermediate                                                                     |\n",
    "| SDK used            | Amazon BedrockAgentCore Python SDK, Strands Agents, Strands Agent Tools         |\n",
    "\n",
    "### Tutorial Architecture\n",
    "\n",
    "In this tutorial we will describe how to use Strands agents with the browser tool for intelligent financial website analysis. Our implementation uses the official `strands_tools.browser.AgentCoreBrowser` which provides seamless integration between Strands and AWS Bedrock AgentCore.\n",
    "\n",
    "In our example we will send natural language instructions to the Strands agent to perform financial analysis tasks on websites like MarketWatch, extracting stock data, market metrics, and providing AI-powered insights.\n",
    "\n",
    "### Tutorial Key Features\n",
    "\n",
    "* Using browser tool in a headless way with Strands agents\n",
    "* AgentCoreBrowser integration using strands_tools.browser\n",
    "* Intelligent financial website analysis with context-aware AI responses\n",
    "* Error handling and response parsing with fallback strategies\n",
    "* Structured invoke pattern for reliable agent implementations\n",
    "* Claude Haiku model for fast and efficient analysis\n",
    "\n",
    "## Prerequisites\n",
    "\n",
    "To execute this tutorial you will need:\n",
    "* Python 3.10+\n",
    "* AWS credentials configured\n",
    "* Amazon Bedrock AgentCore SDK\n",
    "* Strands agents and strands-agents-tools packages\n",
    "* Access to Claude 3 Haiku model in Amazon Bedrock\n",
    "\n",
    "**Implementation**: Using the official `strands_tools.browser.AgentCoreBrowser` for seamless browser automation with intelligent financial analysis.\n",
    "\n",
    "## 🎯 What This Does\n",
    "- **AgentCoreBrowser Integration** using `strands_tools.browser`\n",
    "- **MarketWatch Financial Analysis** with context-aware AI responses\n",
    "- **Structured Invoke Pattern** for implementations\n",
    "- **Claude Haiku Model** for fast and efficient analysis\n",
    "\n",
    "## 🏗️ Architecture\n",
    "\n",
    "```mermaid\n",
    "graph TD\n",
    "    A[👤 User Request] --> B[📋 Invoke Function]\n",
    "    B --> C[🤖 Strands Agent]\n",
    "    C --> D[🔧 AgentCoreBrowser Tool]\n",
    "    D --> E[🌐 AWS Bedrock AgentCore]\n",
    "    E --> F[🎭 Browser Automation]\n",
    "    F --> G[📊 MarketWatch.com]\n",
    "    G --> H[📈 Stock Data Extraction]\n",
    "    H --> I[🧠 Claude Analysis]\n",
    "    I --> J[📋 Financial Insights]\n",
    "    \n",
    "    style A fill:#1a1a2e\n",
    "    style C fill:#16213e\n",
    "    style D fill:#0f3460\n",
    "    style E fill:#e94560\n",
    "    style I fill:#f39c12\n",
    "```\n"
   ]
  },
  {
   "cell_type": "markdown",
   "metadata": {},
   "source": [
    "## 📦 Step 1: Install Dependencies"
   ]
  },
  {
   "cell_type": "code",
   "execution_count": null,
   "metadata": {
    "execution": {
     "iopub.execute_input": "2025-10-15T18:31:43.129688Z",
     "iopub.status.busy": "2025-10-15T18:31:43.129457Z",
     "iopub.status.idle": "2025-10-15T18:32:15.912470Z",
     "shell.execute_reply": "2025-10-15T18:32:15.911707Z"
    }
   },
   "outputs": [],
   "source": [
    "# Install required packages with strands-agents-tools for AgentCoreBrowser\n",
    "!pip install --force-reinstall -U -r requirements.txt \n",
    "\n",
    "print(\"✅ Dependencies installed successfully!\")"
   ]
  },
  {
   "cell_type": "markdown",
   "metadata": {},
   "source": [
    "## 📚 Step 2: Import Libraries"
   ]
  },
  {
   "cell_type": "code",
   "execution_count": null,
   "metadata": {
    "execution": {
     "iopub.execute_input": "2025-10-15T18:32:15.915154Z",
     "iopub.status.busy": "2025-10-15T18:32:15.914934Z",
     "iopub.status.idle": "2025-10-15T18:32:16.777763Z",
     "shell.execute_reply": "2025-10-15T18:32:16.777394Z"
    }
   },
   "outputs": [],
   "source": [
    "from strands import Agent\n",
    "from strands_tools.browser import AgentCoreBrowser\n",
    "import time\n",
    "\n",
    "print(\"✅ Libraries imported successfully!\")"
   ]
  },
  {
   "cell_type": "markdown",
   "metadata": {},
   "source": [
    "## 🤖 Step 3: Create Agent with Optimized Settings"
   ]
  },
  {
   "cell_type": "code",
   "execution_count": null,
   "metadata": {
    "execution": {
     "iopub.execute_input": "2025-10-15T18:32:16.779136Z",
     "iopub.status.busy": "2025-10-15T18:32:16.779053Z",
     "iopub.status.idle": "2025-10-15T18:32:16.890082Z",
     "shell.execute_reply": "2025-10-15T18:32:16.889274Z"
    }
   },
   "outputs": [],
   "source": [
    "def create_agent():\n",
    "    \"\"\"Create and configure the Strands agent with AgentCoreBrowser\"\"\"\n",
    "    # Initialize the official AgentCoreBrowser tool\n",
    "    agent_core_browser = AgentCoreBrowser(region=\"us-west-2\")\n",
    "    \n",
    "    # Create agent with Claude Haiku model and optimized settings\n",
    "    agent = Agent(\n",
    "        tools=[agent_core_browser.browser],\n",
    "        model=\"anthropic.claude-3-haiku-20240307-v1:0\",\n",
    "        system_prompt=\"\"\"You are an intelligent financial analyst that specializes in analyzing stock and financial websites. When asked to analyze a financial website:\n",
    "\n",
    "1. Use the browser tool to visit and interact with the website EFFICIENTLY\n",
    "2. Focus on extracting key financial information QUICKLY:\n",
    "\n",
    "**For Financial/Stock Websites (MarketWatch, Bloomberg, etc.):**\n",
    "- Current stock prices and market data\n",
    "- Price movements and trends (daily, weekly, monthly changes)\n",
    "- Key financial metrics and ratios (P/E, Market Cap, etc.)\n",
    "- Trading volume and market activity\n",
    "- Recent news and market sentiment\n",
    "- Analyst recommendations and price targets\n",
    "- Company fundamentals and performance indicators\n",
    "\n",
    "IMPORTANT: Work efficiently and complete your analysis within 2-3 browser interactions. Always provide specific, actionable financial insights with actual numbers and data points. Be concise but comprehensive in your analysis, focusing on the most important financial metrics for investors.\"\"\"\n",
    "    )\n",
    "    return agent\n",
    "\n",
    "# Initialize agent globally\n",
    "strands_agent = create_agent()\n",
    "\n",
    "print(\"✅ Strands agent created with AgentCoreBrowser integration!\")"
   ]
  },
  {
   "cell_type": "markdown",
   "metadata": {},
   "source": [
    "## 🔧 Step 4: Create Invoke Function"
   ]
  },
  {
   "cell_type": "code",
   "execution_count": null,
   "metadata": {
    "execution": {
     "iopub.execute_input": "2025-10-15T18:32:16.892820Z",
     "iopub.status.busy": "2025-10-15T18:32:16.892559Z",
     "iopub.status.idle": "2025-10-15T18:32:16.895176Z",
     "shell.execute_reply": "2025-10-15T18:32:16.894851Z"
    }
   },
   "outputs": [],
   "source": [
    "def invoke(payload):\n",
    "    \"\"\"Structured invoke function for agent interaction\"\"\"\n",
    "    user_message = payload.get(\"prompt\", \"\")\n",
    "    \n",
    "    try:\n",
    "        print(\"🚀 Starting analysis...\")\n",
    "        start_time = time.time()\n",
    "        \n",
    "        response = strands_agent(user_message)\n",
    "        \n",
    "        elapsed_time = time.time() - start_time\n",
    "        print(f\"✅ Analysis completed in {elapsed_time:.2f} seconds\")\n",
    "        \n",
    "        return response.message[\"content\"][0][\"text\"] if response.message.get(\"content\") else str(response)\n",
    "        \n",
    "    except Exception as e:\n",
    "        print(f\"❌ Error during analysis: {str(e)}\")\n",
    "        return f\"Error occurred: {str(e)}\"\n",
    "\n",
    "print(\"✅ Invoke function created!\")\n",
    "\n",
    "# 📝 Note: If you access slow websites that cause timeouts, you may need to\n",
    "# implement timeout handling in your code to prevent hanging operations."
   ]
  },
  {
   "cell_type": "markdown",
   "metadata": {},
   "source": [
    "## 📊 Step 5: Test MarketWatch Financial Analysis"
   ]
  },
  {
   "cell_type": "code",
   "execution_count": null,
   "metadata": {
    "execution": {
     "iopub.execute_input": "2025-10-15T18:32:16.896947Z",
     "iopub.status.busy": "2025-10-15T18:32:16.896852Z",
     "iopub.status.idle": "2025-10-15T18:32:33.132333Z",
     "shell.execute_reply": "2025-10-15T18:32:33.130797Z"
    }
   },
   "outputs": [],
   "source": [
    "# Test with MarketWatch Tesla page\n",
    "financial_test = {\n",
    "    \"prompt\": \"Please analyze the Tesla stock page at https://www.marketwatch.com/investing/stock/tsla and provide key financial insights\"\n",
    "}\n",
    "\n",
    "print(\"📊 Testing MarketWatch Financial Analysis\")\n",
    "print(\"=\" * 50)\n",
    "\n",
    "result = invoke(financial_test)\n",
    "print(result)\n",
    "\n",
    "print(\"\\n✅ MarketWatch analysis test completed!\")"
   ]
  },
  {
   "cell_type": "markdown",
   "metadata": {},
   "source": [
    "## 🎯 Step 6: Interactive Analysis Function"
   ]
  },
  {
   "cell_type": "code",
   "execution_count": null,
   "metadata": {
    "execution": {
     "iopub.execute_input": "2025-10-15T18:32:33.135639Z",
     "iopub.status.busy": "2025-10-15T18:32:33.135351Z",
     "iopub.status.idle": "2025-10-15T18:32:33.141026Z",
     "shell.execute_reply": "2025-10-15T18:32:33.140203Z"
    }
   },
   "outputs": [],
   "source": [
    "def analyze_website(url, question=None):\n",
    "    \"\"\"Convenient function for interactive website analysis\"\"\"\n",
    "    if question:\n",
    "        prompt = f\"Visit {url} and answer this question: {question}\"\n",
    "    else:\n",
    "        prompt = f\"Please analyze the website at {url} and provide comprehensive financial insights\"\n",
    "    \n",
    "    payload = {\"prompt\": prompt}\n",
    "    return invoke(payload)\n",
    "\n",
    "# Example usage\n",
    "print(\"🎯 Interactive Analysis Function Ready!\")\n",
    "print(\"\\nExample usage:\")\n",
    "print('analyze_website(\"https://www.marketwatch.com/investing/stock/aapl\", \"What is Apple\\'s current stock performance?\")')\n",
    "print(\"\\n✅ Interactive analysis function ready!\")"
   ]
  },
  {
   "cell_type": "markdown",
   "metadata": {},
   "source": [
    "## 🔄 Step 7: Main Function"
   ]
  },
  {
   "cell_type": "code",
   "execution_count": null,
   "metadata": {
    "execution": {
     "iopub.execute_input": "2025-10-15T18:32:33.143879Z",
     "iopub.status.busy": "2025-10-15T18:32:33.143653Z",
     "iopub.status.idle": "2025-10-15T18:32:46.270538Z",
     "shell.execute_reply": "2025-10-15T18:32:46.269444Z"
    }
   },
   "outputs": [],
   "source": [
    "if __name__ == \"__main__\":\n",
    "    # Example with MarketWatch\n",
    "    print(\"🎯 Production Example - Tesla Stock Analysis on MarketWatch:\")\n",
    "    print(\"=\" * 60)\n",
    "    \n",
    "    response = invoke({\n",
    "        \"prompt\": \"Analyze the Tesla stock at https://www.marketwatch.com/investing/stock/tsla and provide detailed financial insights\"\n",
    "    })\n",
    "    \n",
    "    print(response)\n",
    "    \n",
    "    print(\"\\n✅ All tests completed successfully!\")\n",
    "    print(\"\\n🚀 Ready for production use with the invoke() function pattern!\")\n",
    "    print(\"\\n📝 Usage Examples:\")\n",
    "    print('invoke({\"prompt\": \"Analyze Tesla stock at https://www.marketwatch.com/investing/stock/tsla\"})')\n",
    "    print('invoke({\"prompt\": \"Get Apple stock data from https://www.marketwatch.com/investing/stock/aapl\"})')\n",
    "    print('analyze_website(\"https://www.marketwatch.com/investing/stock/nvda\", \"What is NVIDIA\\'s market performance?\")')"
   ]
  },
  {
   "cell_type": "markdown",
   "metadata": {},
   "source": [
    "## 🎭 What Happened Behind the Scene\n",
    "\n",
    "When you execute this notebook, the Strands Agent initializes with Claude Haiku model and connects to AWS Bedrock's AgentCore browser automation service. Upon receiving your financial analysis request, the agent intelligently navigates to MarketWatch.com, extracts real-time stock data including prices, market cap, P/E ratios, and trading volumes, then processes this information through Claude's AI to generate comprehensive financial insights.\n",
    "\n",
    "Performance tracking measures execution speed (typically 14-16 seconds), and error handling gracefully manages any network issues or website blocking. The entire process is orchestrated through the invoke() function pattern, which provides a clean interface while managing complex browser automation and AI processing behind the scenes.\n",
    "\n",
    "The result is what appears to be a simple function call that actually coordinates multiple AWS services, AI models, and web scraping to deliver reliable financial analysis.\n",
    "\n",
    "### 📝 **Usage Examples:**\n",
    "```python\n",
    "# Direct invoke pattern (production)\n",
    "result = invoke({\"prompt\": \"Analyze Tesla stock at https://www.marketwatch.com/investing/stock/tsla\"})\n",
    "\n",
    "# Interactive helper function\n",
    "result = analyze_website(\"https://www.marketwatch.com/investing/stock/aapl\", \"What is Apple's current valuation?\")\n",
    "```\n"
   ]
  }
 ],
 "metadata": {
  "kernelspec": {
   "display_name": "Python 3",
   "language": "python",
   "name": "python3"
  },
  "language_info": {
   "codemirror_mode": {
    "name": "ipython",
    "version": 3
   },
   "file_extension": ".py",
   "mimetype": "text/x-python",
   "name": "python",
   "nbconvert_exporter": "python",
   "pygments_lexer": "ipython3",
   "version": "3.12.11"
  }
 },
 "nbformat": 4,
 "nbformat_minor": 4
}
